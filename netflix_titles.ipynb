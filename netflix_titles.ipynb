{
 "cells": [
  {
   "cell_type": "code",
   "execution_count": 4,
   "metadata": {},
   "outputs": [],
   "source": [
    "import numpy as np\n",
    "import pandas as pd\n",
    "import matplotlib.pyplot as plt\n",
    "import plotly.graph_objects as go\n",
    "from plotly.offline import init_notebook_mode, iplot\n",
    "import seaborn as sns\n"
   ]
  },
  {
   "cell_type": "code",
   "execution_count": 17,
   "metadata": {},
   "outputs": [],
   "source": [
    "netflix = pd.read_csv(\"/Users/pragavasudevan/projects/netflix/netflix_titles_nov_2019.csv\")"
   ]
  },
  {
   "cell_type": "code",
   "execution_count": 19,
   "metadata": {},
   "outputs": [
    {
     "data": {
      "text/html": [
       "<div>\n",
       "<style scoped>\n",
       "    .dataframe tbody tr th:only-of-type {\n",
       "        vertical-align: middle;\n",
       "    }\n",
       "\n",
       "    .dataframe tbody tr th {\n",
       "        vertical-align: top;\n",
       "    }\n",
       "\n",
       "    .dataframe thead th {\n",
       "        text-align: right;\n",
       "    }\n",
       "</style>\n",
       "<table border=\"1\" class=\"dataframe\">\n",
       "  <thead>\n",
       "    <tr style=\"text-align: right;\">\n",
       "      <th></th>\n",
       "      <th>show_id</th>\n",
       "      <th>title</th>\n",
       "      <th>director</th>\n",
       "      <th>cast</th>\n",
       "      <th>country</th>\n",
       "      <th>date_added</th>\n",
       "      <th>release_year</th>\n",
       "      <th>rating</th>\n",
       "      <th>duration</th>\n",
       "      <th>listed_in</th>\n",
       "      <th>description</th>\n",
       "      <th>type</th>\n",
       "      <th>year_added</th>\n",
       "      <th>month_added</th>\n",
       "      <th>season_count</th>\n",
       "    </tr>\n",
       "  </thead>\n",
       "  <tbody>\n",
       "    <tr>\n",
       "      <th>0</th>\n",
       "      <td>81193313</td>\n",
       "      <td>Chocolate</td>\n",
       "      <td>NaN</td>\n",
       "      <td>Ha Ji-won, Yoon Kye-sang, Jang Seung-jo, Kang ...</td>\n",
       "      <td>South Korea</td>\n",
       "      <td>2019-11-30</td>\n",
       "      <td>2019</td>\n",
       "      <td>TV-14</td>\n",
       "      <td></td>\n",
       "      <td>International TV Shows, Korean TV Shows, Roman...</td>\n",
       "      <td>Brought together by meaningful meals in the pa...</td>\n",
       "      <td>TV Show</td>\n",
       "      <td>2019.0</td>\n",
       "      <td>11.0</td>\n",
       "      <td></td>\n",
       "    </tr>\n",
       "    <tr>\n",
       "      <th>1</th>\n",
       "      <td>81197050</td>\n",
       "      <td>Guatemala: Heart of the Mayan World</td>\n",
       "      <td>Luis Ara, Ignacio Jaunsolo</td>\n",
       "      <td>Christian Morales</td>\n",
       "      <td>NaN</td>\n",
       "      <td>2019-11-30</td>\n",
       "      <td>2019</td>\n",
       "      <td>TV-G</td>\n",
       "      <td>67</td>\n",
       "      <td>Documentaries, International Movies</td>\n",
       "      <td>From Sierra de las Minas to Esquipulas, explor...</td>\n",
       "      <td>Movie</td>\n",
       "      <td>2019.0</td>\n",
       "      <td>11.0</td>\n",
       "      <td></td>\n",
       "    </tr>\n",
       "    <tr>\n",
       "      <th>2</th>\n",
       "      <td>81213894</td>\n",
       "      <td>The Zoya Factor</td>\n",
       "      <td>Abhishek Sharma</td>\n",
       "      <td>Sonam Kapoor, Dulquer Salmaan, Sanjay Kapoor, ...</td>\n",
       "      <td>India</td>\n",
       "      <td>2019-11-30</td>\n",
       "      <td>2019</td>\n",
       "      <td>TV-14</td>\n",
       "      <td>135</td>\n",
       "      <td>Comedies, Dramas, International Movies</td>\n",
       "      <td>A goofy copywriter unwittingly convinces the I...</td>\n",
       "      <td>Movie</td>\n",
       "      <td>2019.0</td>\n",
       "      <td>11.0</td>\n",
       "      <td></td>\n",
       "    </tr>\n",
       "    <tr>\n",
       "      <th>3</th>\n",
       "      <td>81082007</td>\n",
       "      <td>Atlantics</td>\n",
       "      <td>Mati Diop</td>\n",
       "      <td>Mama Sane, Amadou Mbow, Ibrahima Traore, Nicol...</td>\n",
       "      <td>France, Senegal, Belgium</td>\n",
       "      <td>2019-11-29</td>\n",
       "      <td>2019</td>\n",
       "      <td>TV-14</td>\n",
       "      <td>106</td>\n",
       "      <td>Dramas, Independent Movies, International Movies</td>\n",
       "      <td>Arranged to marry a rich man, young Ada is cru...</td>\n",
       "      <td>Movie</td>\n",
       "      <td>2019.0</td>\n",
       "      <td>11.0</td>\n",
       "      <td></td>\n",
       "    </tr>\n",
       "    <tr>\n",
       "      <th>4</th>\n",
       "      <td>80213643</td>\n",
       "      <td>Chip and Potato</td>\n",
       "      <td>NaN</td>\n",
       "      <td>Abigail Oliver, Andrea Libman, Briana Buckmast...</td>\n",
       "      <td>Canada, United Kingdom</td>\n",
       "      <td>NaT</td>\n",
       "      <td>2019</td>\n",
       "      <td>TV-Y</td>\n",
       "      <td></td>\n",
       "      <td>Kids' TV</td>\n",
       "      <td>Lovable pug Chip starts kindergarten, makes ne...</td>\n",
       "      <td>TV Show</td>\n",
       "      <td>NaN</td>\n",
       "      <td>NaN</td>\n",
       "      <td></td>\n",
       "    </tr>\n",
       "  </tbody>\n",
       "</table>\n",
       "</div>"
      ],
      "text/plain": [
       "    show_id                                title                    director  \\\n",
       "0  81193313                            Chocolate                         NaN   \n",
       "1  81197050  Guatemala: Heart of the Mayan World  Luis Ara, Ignacio Jaunsolo   \n",
       "2  81213894                      The Zoya Factor             Abhishek Sharma   \n",
       "3  81082007                            Atlantics                   Mati Diop   \n",
       "4  80213643                      Chip and Potato                         NaN   \n",
       "\n",
       "                                                cast  \\\n",
       "0  Ha Ji-won, Yoon Kye-sang, Jang Seung-jo, Kang ...   \n",
       "1                                  Christian Morales   \n",
       "2  Sonam Kapoor, Dulquer Salmaan, Sanjay Kapoor, ...   \n",
       "3  Mama Sane, Amadou Mbow, Ibrahima Traore, Nicol...   \n",
       "4  Abigail Oliver, Andrea Libman, Briana Buckmast...   \n",
       "\n",
       "                    country date_added  release_year rating duration  \\\n",
       "0               South Korea 2019-11-30          2019  TV-14            \n",
       "1                       NaN 2019-11-30          2019   TV-G       67   \n",
       "2                     India 2019-11-30          2019  TV-14      135   \n",
       "3  France, Senegal, Belgium 2019-11-29          2019  TV-14      106   \n",
       "4    Canada, United Kingdom        NaT          2019   TV-Y            \n",
       "\n",
       "                                           listed_in  \\\n",
       "0  International TV Shows, Korean TV Shows, Roman...   \n",
       "1                Documentaries, International Movies   \n",
       "2             Comedies, Dramas, International Movies   \n",
       "3   Dramas, Independent Movies, International Movies   \n",
       "4                                           Kids' TV   \n",
       "\n",
       "                                         description     type  year_added  \\\n",
       "0  Brought together by meaningful meals in the pa...  TV Show      2019.0   \n",
       "1  From Sierra de las Minas to Esquipulas, explor...    Movie      2019.0   \n",
       "2  A goofy copywriter unwittingly convinces the I...    Movie      2019.0   \n",
       "3  Arranged to marry a rich man, young Ada is cru...    Movie      2019.0   \n",
       "4  Lovable pug Chip starts kindergarten, makes ne...  TV Show         NaN   \n",
       "\n",
       "   month_added season_count  \n",
       "0         11.0               \n",
       "1         11.0               \n",
       "2         11.0               \n",
       "3         11.0               \n",
       "4          NaN               "
      ]
     },
     "execution_count": 19,
     "metadata": {},
     "output_type": "execute_result"
    }
   ],
   "source": [
    "# add new features in the dataset\n",
    "netflix[\"date_added\"] = pd.to_datetime(netflix['date_added'])\n",
    "netflix['year_added'] = netflix['date_added'].dt.year\n",
    "netflix['month_added'] = netflix['date_added'].dt.month\n",
    "\n",
    "netflix['season_count'] = netflix.apply(lambda x : x['duration'].split(\" \")[0] if \"Season\" in x['duration'] else \"\", axis = 1)\n",
    "netflix['duration'] = netflix.apply(lambda x : x['duration'].split(\" \")[0] if \"Season\" not in x['duration'] else \"\", axis = 1)\n",
    "netflix.head()"
   ]
  },
  {
   "cell_type": "code",
   "execution_count": 20,
   "metadata": {},
   "outputs": [
    {
     "data": {
      "text/html": [
       "<div>\n",
       "<style scoped>\n",
       "    .dataframe tbody tr th:only-of-type {\n",
       "        vertical-align: middle;\n",
       "    }\n",
       "\n",
       "    .dataframe tbody tr th {\n",
       "        vertical-align: top;\n",
       "    }\n",
       "\n",
       "    .dataframe thead th {\n",
       "        text-align: right;\n",
       "    }\n",
       "</style>\n",
       "<table border=\"1\" class=\"dataframe\">\n",
       "  <thead>\n",
       "    <tr style=\"text-align: right;\">\n",
       "      <th></th>\n",
       "      <th>show_id</th>\n",
       "      <th>title</th>\n",
       "      <th>director</th>\n",
       "      <th>cast</th>\n",
       "      <th>country</th>\n",
       "      <th>date_added</th>\n",
       "      <th>release_year</th>\n",
       "      <th>rating</th>\n",
       "      <th>duration</th>\n",
       "      <th>listed_in</th>\n",
       "      <th>description</th>\n",
       "      <th>type</th>\n",
       "      <th>year_added</th>\n",
       "      <th>month_added</th>\n",
       "      <th>season_count</th>\n",
       "    </tr>\n",
       "  </thead>\n",
       "  <tbody>\n",
       "    <tr>\n",
       "      <th>0</th>\n",
       "      <td>81193313</td>\n",
       "      <td>Chocolate</td>\n",
       "      <td>NaN</td>\n",
       "      <td>Ha Ji-won, Yoon Kye-sang, Jang Seung-jo, Kang ...</td>\n",
       "      <td>South Korea</td>\n",
       "      <td>2019-11-30</td>\n",
       "      <td>2019</td>\n",
       "      <td>TV-14</td>\n",
       "      <td></td>\n",
       "      <td>International TV Shows, Korean TV Shows, Roman...</td>\n",
       "      <td>Brought together by meaningful meals in the pa...</td>\n",
       "      <td>TV Show</td>\n",
       "      <td>2019.0</td>\n",
       "      <td>11.0</td>\n",
       "      <td></td>\n",
       "    </tr>\n",
       "    <tr>\n",
       "      <th>1</th>\n",
       "      <td>81197050</td>\n",
       "      <td>Guatemala: Heart of the Mayan World</td>\n",
       "      <td>Luis Ara, Ignacio Jaunsolo</td>\n",
       "      <td>Christian Morales</td>\n",
       "      <td>NaN</td>\n",
       "      <td>2019-11-30</td>\n",
       "      <td>2019</td>\n",
       "      <td>TV-G</td>\n",
       "      <td>67</td>\n",
       "      <td>Documentaries, International Movies</td>\n",
       "      <td>From Sierra de las Minas to Esquipulas, explor...</td>\n",
       "      <td>Movie</td>\n",
       "      <td>2019.0</td>\n",
       "      <td>11.0</td>\n",
       "      <td></td>\n",
       "    </tr>\n",
       "    <tr>\n",
       "      <th>2</th>\n",
       "      <td>81213894</td>\n",
       "      <td>The Zoya Factor</td>\n",
       "      <td>Abhishek Sharma</td>\n",
       "      <td>Sonam Kapoor, Dulquer Salmaan, Sanjay Kapoor, ...</td>\n",
       "      <td>India</td>\n",
       "      <td>2019-11-30</td>\n",
       "      <td>2019</td>\n",
       "      <td>TV-14</td>\n",
       "      <td>135</td>\n",
       "      <td>Comedies, Dramas, International Movies</td>\n",
       "      <td>A goofy copywriter unwittingly convinces the I...</td>\n",
       "      <td>Movie</td>\n",
       "      <td>2019.0</td>\n",
       "      <td>11.0</td>\n",
       "      <td></td>\n",
       "    </tr>\n",
       "    <tr>\n",
       "      <th>3</th>\n",
       "      <td>81082007</td>\n",
       "      <td>Atlantics</td>\n",
       "      <td>Mati Diop</td>\n",
       "      <td>Mama Sane, Amadou Mbow, Ibrahima Traore, Nicol...</td>\n",
       "      <td>France, Senegal, Belgium</td>\n",
       "      <td>2019-11-29</td>\n",
       "      <td>2019</td>\n",
       "      <td>TV-14</td>\n",
       "      <td>106</td>\n",
       "      <td>Dramas, Independent Movies, International Movies</td>\n",
       "      <td>Arranged to marry a rich man, young Ada is cru...</td>\n",
       "      <td>Movie</td>\n",
       "      <td>2019.0</td>\n",
       "      <td>11.0</td>\n",
       "      <td></td>\n",
       "    </tr>\n",
       "    <tr>\n",
       "      <th>4</th>\n",
       "      <td>80213643</td>\n",
       "      <td>Chip and Potato</td>\n",
       "      <td>NaN</td>\n",
       "      <td>Abigail Oliver, Andrea Libman, Briana Buckmast...</td>\n",
       "      <td>Canada, United Kingdom</td>\n",
       "      <td>NaT</td>\n",
       "      <td>2019</td>\n",
       "      <td>TV-Y</td>\n",
       "      <td></td>\n",
       "      <td>Kids' TV</td>\n",
       "      <td>Lovable pug Chip starts kindergarten, makes ne...</td>\n",
       "      <td>TV Show</td>\n",
       "      <td>NaN</td>\n",
       "      <td>NaN</td>\n",
       "      <td></td>\n",
       "    </tr>\n",
       "    <tr>\n",
       "      <th>5</th>\n",
       "      <td>81172754</td>\n",
       "      <td>Crazy people</td>\n",
       "      <td>Moses Inwang</td>\n",
       "      <td>Ramsey Nouah, Chigul, Sola Sobowale, Ireti Doy...</td>\n",
       "      <td>Nigeria</td>\n",
       "      <td>2019-11-29</td>\n",
       "      <td>2018</td>\n",
       "      <td>TV-14</td>\n",
       "      <td>107</td>\n",
       "      <td>Comedies, International Movies, Thrillers</td>\n",
       "      <td>Nollywood star Ramsey Nouah learns that someon...</td>\n",
       "      <td>Movie</td>\n",
       "      <td>2019.0</td>\n",
       "      <td>11.0</td>\n",
       "      <td></td>\n",
       "    </tr>\n",
       "    <tr>\n",
       "      <th>6</th>\n",
       "      <td>81120982</td>\n",
       "      <td>I Lost My Body</td>\n",
       "      <td>Jérémy Clapin</td>\n",
       "      <td>Hakim Faris, Victoire Du Bois, Patrick d'Assum...</td>\n",
       "      <td>France</td>\n",
       "      <td>2019-11-29</td>\n",
       "      <td>2019</td>\n",
       "      <td>TV-MA</td>\n",
       "      <td>81</td>\n",
       "      <td>Dramas, Independent Movies, International Movies</td>\n",
       "      <td>Romance, mystery and adventure intertwine as a...</td>\n",
       "      <td>Movie</td>\n",
       "      <td>2019.0</td>\n",
       "      <td>11.0</td>\n",
       "      <td></td>\n",
       "    </tr>\n",
       "    <tr>\n",
       "      <th>7</th>\n",
       "      <td>81227195</td>\n",
       "      <td>Kalushi: The Story of Solomon Mahlangu</td>\n",
       "      <td>Mandla Dube</td>\n",
       "      <td>Thabo Rametsi, Thabo Malema, Welile Nzuza, Jaf...</td>\n",
       "      <td>South Africa</td>\n",
       "      <td>2019-11-29</td>\n",
       "      <td>2016</td>\n",
       "      <td>TV-MA</td>\n",
       "      <td>107</td>\n",
       "      <td>Dramas, International Movies</td>\n",
       "      <td>The life and times of iconic South African lib...</td>\n",
       "      <td>Movie</td>\n",
       "      <td>2019.0</td>\n",
       "      <td>11.0</td>\n",
       "      <td></td>\n",
       "    </tr>\n",
       "    <tr>\n",
       "      <th>8</th>\n",
       "      <td>70205672</td>\n",
       "      <td>La Reina del Sur</td>\n",
       "      <td>NaN</td>\n",
       "      <td>Kate del Castillo, Cristina Urgel, Alberto Jim...</td>\n",
       "      <td>United States, Spain, Colombia, Mexico</td>\n",
       "      <td>NaT</td>\n",
       "      <td>2019</td>\n",
       "      <td>TV-14</td>\n",
       "      <td></td>\n",
       "      <td>Crime TV Shows, International TV Shows, Spanis...</td>\n",
       "      <td>This compelling show tells the story of the le...</td>\n",
       "      <td>TV Show</td>\n",
       "      <td>NaN</td>\n",
       "      <td>NaN</td>\n",
       "      <td></td>\n",
       "    </tr>\n",
       "    <tr>\n",
       "      <th>9</th>\n",
       "      <td>81172841</td>\n",
       "      <td>Lagos Real Fake Life</td>\n",
       "      <td>Mike Ezuruonye</td>\n",
       "      <td>Nonso Diobi, Mike Ezuruonye, Mercy Aigbe, Rex ...</td>\n",
       "      <td>NaN</td>\n",
       "      <td>2019-11-29</td>\n",
       "      <td>2018</td>\n",
       "      <td>TV-14</td>\n",
       "      <td>118</td>\n",
       "      <td>Comedies, International Movies</td>\n",
       "      <td>Two mooching friends vie for the attention of ...</td>\n",
       "      <td>Movie</td>\n",
       "      <td>2019.0</td>\n",
       "      <td>11.0</td>\n",
       "      <td></td>\n",
       "    </tr>\n",
       "    <tr>\n",
       "      <th>10</th>\n",
       "      <td>81172899</td>\n",
       "      <td>Payday</td>\n",
       "      <td>Cheta Chukwu</td>\n",
       "      <td>Baaj Adebule, Ebiye Victor, Meg Otanwa, Bisola...</td>\n",
       "      <td>Nigeria</td>\n",
       "      <td>2019-11-29</td>\n",
       "      <td>2018</td>\n",
       "      <td>TV-MA</td>\n",
       "      <td>110</td>\n",
       "      <td>Comedies, Independent Movies, International Mo...</td>\n",
       "      <td>After an expensive night out, two flatmates ge...</td>\n",
       "      <td>Movie</td>\n",
       "      <td>2019.0</td>\n",
       "      <td>11.0</td>\n",
       "      <td></td>\n",
       "    </tr>\n",
       "    <tr>\n",
       "      <th>11</th>\n",
       "      <td>81094391</td>\n",
       "      <td>Sugar Rush Christmas</td>\n",
       "      <td>NaN</td>\n",
       "      <td>Hunter March, Candace Nelson, Adriano Zumbo</td>\n",
       "      <td>United States</td>\n",
       "      <td>2019-11-29</td>\n",
       "      <td>2019</td>\n",
       "      <td>TV-PG</td>\n",
       "      <td></td>\n",
       "      <td>Reality TV</td>\n",
       "      <td>It's everything you love about \"Sugar Rush\" – ...</td>\n",
       "      <td>TV Show</td>\n",
       "      <td>2019.0</td>\n",
       "      <td>11.0</td>\n",
       "      <td></td>\n",
       "    </tr>\n",
       "    <tr>\n",
       "      <th>12</th>\n",
       "      <td>81172908</td>\n",
       "      <td>The Accidental Spy</td>\n",
       "      <td>Roger Russell</td>\n",
       "      <td>Ramsey Nouah, Christine Allado, Ayo Makun, Emm...</td>\n",
       "      <td>Nigeria</td>\n",
       "      <td>2019-11-29</td>\n",
       "      <td>2017</td>\n",
       "      <td>TV-14</td>\n",
       "      <td>104</td>\n",
       "      <td>Action &amp; Adventure, Comedies, International Mo...</td>\n",
       "      <td>Nursing a broken heart, an IT specialist moves...</td>\n",
       "      <td>Movie</td>\n",
       "      <td>2019.0</td>\n",
       "      <td>11.0</td>\n",
       "      <td></td>\n",
       "    </tr>\n",
       "    <tr>\n",
       "      <th>13</th>\n",
       "      <td>81152641</td>\n",
       "      <td>The Charming Stepmom</td>\n",
       "      <td>NaN</td>\n",
       "      <td>Shahkrit Yamnarm, View Wannarot Sontichai, Kri...</td>\n",
       "      <td>NaN</td>\n",
       "      <td>2019-11-29</td>\n",
       "      <td>2019</td>\n",
       "      <td>TV-14</td>\n",
       "      <td></td>\n",
       "      <td>International TV Shows, Romantic TV Shows, TV ...</td>\n",
       "      <td>A quirky fashion student becomes the nanny of ...</td>\n",
       "      <td>TV Show</td>\n",
       "      <td>2019.0</td>\n",
       "      <td>11.0</td>\n",
       "      <td></td>\n",
       "    </tr>\n",
       "    <tr>\n",
       "      <th>14</th>\n",
       "      <td>81172901</td>\n",
       "      <td>The Island</td>\n",
       "      <td>Toka McBaror</td>\n",
       "      <td>Sambasa Nzeribe, Segun Arinze, Tokunbo Idowu, ...</td>\n",
       "      <td>Nigeria</td>\n",
       "      <td>2019-11-29</td>\n",
       "      <td>2018</td>\n",
       "      <td>TV-14</td>\n",
       "      <td>93</td>\n",
       "      <td>Dramas, International Movies, Thrillers</td>\n",
       "      <td>When a colonel uncovers controversial intel ab...</td>\n",
       "      <td>Movie</td>\n",
       "      <td>2019.0</td>\n",
       "      <td>11.0</td>\n",
       "      <td></td>\n",
       "    </tr>\n",
       "    <tr>\n",
       "      <th>15</th>\n",
       "      <td>80990849</td>\n",
       "      <td>The Movies That Made Us</td>\n",
       "      <td>NaN</td>\n",
       "      <td>NaN</td>\n",
       "      <td>United States</td>\n",
       "      <td>2019-11-29</td>\n",
       "      <td>2019</td>\n",
       "      <td>TV-MA</td>\n",
       "      <td></td>\n",
       "      <td>Docuseries</td>\n",
       "      <td>These blockbusters brought us together and gav...</td>\n",
       "      <td>TV Show</td>\n",
       "      <td>2019.0</td>\n",
       "      <td>11.0</td>\n",
       "      <td></td>\n",
       "    </tr>\n",
       "    <tr>\n",
       "      <th>16</th>\n",
       "      <td>81033086</td>\n",
       "      <td>Holiday Rush</td>\n",
       "      <td>Leslie Small</td>\n",
       "      <td>Romany Malco, Sonequa Martin-Green, Darlene Lo...</td>\n",
       "      <td>United States</td>\n",
       "      <td>2019-11-28</td>\n",
       "      <td>2019</td>\n",
       "      <td>TV-PG</td>\n",
       "      <td>94</td>\n",
       "      <td>Children &amp; Family Movies, Dramas</td>\n",
       "      <td>A widowed radio DJ and his four spoiled kids n...</td>\n",
       "      <td>Movie</td>\n",
       "      <td>2019.0</td>\n",
       "      <td>11.0</td>\n",
       "      <td></td>\n",
       "    </tr>\n",
       "    <tr>\n",
       "      <th>17</th>\n",
       "      <td>80156799</td>\n",
       "      <td>Levius</td>\n",
       "      <td>NaN</td>\n",
       "      <td>Nobunaga Shimazaki, Junichi Suwabe, Takahiro S...</td>\n",
       "      <td>Japan</td>\n",
       "      <td>2019-11-28</td>\n",
       "      <td>2019</td>\n",
       "      <td>TV-14</td>\n",
       "      <td></td>\n",
       "      <td>Anime Series, International TV Shows</td>\n",
       "      <td>Young Levius rises through the ranks in the br...</td>\n",
       "      <td>TV Show</td>\n",
       "      <td>2019.0</td>\n",
       "      <td>11.0</td>\n",
       "      <td></td>\n",
       "    </tr>\n",
       "    <tr>\n",
       "      <th>18</th>\n",
       "      <td>81161538</td>\n",
       "      <td>Lugar de Mulher</td>\n",
       "      <td>NaN</td>\n",
       "      <td>NaN</td>\n",
       "      <td>Brazil</td>\n",
       "      <td>2019-11-28</td>\n",
       "      <td>2019</td>\n",
       "      <td>TV-MA</td>\n",
       "      <td></td>\n",
       "      <td>International TV Shows, Stand-Up Comedy &amp; Talk...</td>\n",
       "      <td>Four comedians from Brazil riff on sexuality, ...</td>\n",
       "      <td>TV Show</td>\n",
       "      <td>2019.0</td>\n",
       "      <td>11.0</td>\n",
       "      <td></td>\n",
       "    </tr>\n",
       "    <tr>\n",
       "      <th>19</th>\n",
       "      <td>80997965</td>\n",
       "      <td>Merry Happy Whatever</td>\n",
       "      <td>NaN</td>\n",
       "      <td>Dennis Quaid, Bridgit Mendler, Brent Morin, As...</td>\n",
       "      <td>United States</td>\n",
       "      <td>2019-11-28</td>\n",
       "      <td>2019</td>\n",
       "      <td>TV-PG</td>\n",
       "      <td></td>\n",
       "      <td>TV Comedies</td>\n",
       "      <td>A struggling LA musician tries to win over his...</td>\n",
       "      <td>TV Show</td>\n",
       "      <td>2019.0</td>\n",
       "      <td>11.0</td>\n",
       "      <td></td>\n",
       "    </tr>\n",
       "  </tbody>\n",
       "</table>\n",
       "</div>"
      ],
      "text/plain": [
       "     show_id                                   title  \\\n",
       "0   81193313                               Chocolate   \n",
       "1   81197050     Guatemala: Heart of the Mayan World   \n",
       "2   81213894                         The Zoya Factor   \n",
       "3   81082007                               Atlantics   \n",
       "4   80213643                         Chip and Potato   \n",
       "5   81172754                            Crazy people   \n",
       "6   81120982                          I Lost My Body   \n",
       "7   81227195  Kalushi: The Story of Solomon Mahlangu   \n",
       "8   70205672                        La Reina del Sur   \n",
       "9   81172841                    Lagos Real Fake Life   \n",
       "10  81172899                                  Payday   \n",
       "11  81094391                    Sugar Rush Christmas   \n",
       "12  81172908                      The Accidental Spy   \n",
       "13  81152641                    The Charming Stepmom   \n",
       "14  81172901                              The Island   \n",
       "15  80990849                 The Movies That Made Us   \n",
       "16  81033086                            Holiday Rush   \n",
       "17  80156799                                  Levius   \n",
       "18  81161538                         Lugar de Mulher   \n",
       "19  80997965                    Merry Happy Whatever   \n",
       "\n",
       "                      director  \\\n",
       "0                          NaN   \n",
       "1   Luis Ara, Ignacio Jaunsolo   \n",
       "2              Abhishek Sharma   \n",
       "3                    Mati Diop   \n",
       "4                          NaN   \n",
       "5                 Moses Inwang   \n",
       "6                Jérémy Clapin   \n",
       "7                  Mandla Dube   \n",
       "8                          NaN   \n",
       "9               Mike Ezuruonye   \n",
       "10                Cheta Chukwu   \n",
       "11                         NaN   \n",
       "12               Roger Russell   \n",
       "13                         NaN   \n",
       "14                Toka McBaror   \n",
       "15                         NaN   \n",
       "16                Leslie Small   \n",
       "17                         NaN   \n",
       "18                         NaN   \n",
       "19                         NaN   \n",
       "\n",
       "                                                 cast  \\\n",
       "0   Ha Ji-won, Yoon Kye-sang, Jang Seung-jo, Kang ...   \n",
       "1                                   Christian Morales   \n",
       "2   Sonam Kapoor, Dulquer Salmaan, Sanjay Kapoor, ...   \n",
       "3   Mama Sane, Amadou Mbow, Ibrahima Traore, Nicol...   \n",
       "4   Abigail Oliver, Andrea Libman, Briana Buckmast...   \n",
       "5   Ramsey Nouah, Chigul, Sola Sobowale, Ireti Doy...   \n",
       "6   Hakim Faris, Victoire Du Bois, Patrick d'Assum...   \n",
       "7   Thabo Rametsi, Thabo Malema, Welile Nzuza, Jaf...   \n",
       "8   Kate del Castillo, Cristina Urgel, Alberto Jim...   \n",
       "9   Nonso Diobi, Mike Ezuruonye, Mercy Aigbe, Rex ...   \n",
       "10  Baaj Adebule, Ebiye Victor, Meg Otanwa, Bisola...   \n",
       "11        Hunter March, Candace Nelson, Adriano Zumbo   \n",
       "12  Ramsey Nouah, Christine Allado, Ayo Makun, Emm...   \n",
       "13  Shahkrit Yamnarm, View Wannarot Sontichai, Kri...   \n",
       "14  Sambasa Nzeribe, Segun Arinze, Tokunbo Idowu, ...   \n",
       "15                                                NaN   \n",
       "16  Romany Malco, Sonequa Martin-Green, Darlene Lo...   \n",
       "17  Nobunaga Shimazaki, Junichi Suwabe, Takahiro S...   \n",
       "18                                                NaN   \n",
       "19  Dennis Quaid, Bridgit Mendler, Brent Morin, As...   \n",
       "\n",
       "                                   country date_added  release_year rating  \\\n",
       "0                              South Korea 2019-11-30          2019  TV-14   \n",
       "1                                      NaN 2019-11-30          2019   TV-G   \n",
       "2                                    India 2019-11-30          2019  TV-14   \n",
       "3                 France, Senegal, Belgium 2019-11-29          2019  TV-14   \n",
       "4                   Canada, United Kingdom        NaT          2019   TV-Y   \n",
       "5                                  Nigeria 2019-11-29          2018  TV-14   \n",
       "6                                   France 2019-11-29          2019  TV-MA   \n",
       "7                             South Africa 2019-11-29          2016  TV-MA   \n",
       "8   United States, Spain, Colombia, Mexico        NaT          2019  TV-14   \n",
       "9                                      NaN 2019-11-29          2018  TV-14   \n",
       "10                                 Nigeria 2019-11-29          2018  TV-MA   \n",
       "11                           United States 2019-11-29          2019  TV-PG   \n",
       "12                                 Nigeria 2019-11-29          2017  TV-14   \n",
       "13                                     NaN 2019-11-29          2019  TV-14   \n",
       "14                                 Nigeria 2019-11-29          2018  TV-14   \n",
       "15                           United States 2019-11-29          2019  TV-MA   \n",
       "16                           United States 2019-11-28          2019  TV-PG   \n",
       "17                                   Japan 2019-11-28          2019  TV-14   \n",
       "18                                  Brazil 2019-11-28          2019  TV-MA   \n",
       "19                           United States 2019-11-28          2019  TV-PG   \n",
       "\n",
       "   duration                                          listed_in  \\\n",
       "0            International TV Shows, Korean TV Shows, Roman...   \n",
       "1        67                Documentaries, International Movies   \n",
       "2       135             Comedies, Dramas, International Movies   \n",
       "3       106   Dramas, Independent Movies, International Movies   \n",
       "4                                                     Kids' TV   \n",
       "5       107          Comedies, International Movies, Thrillers   \n",
       "6        81   Dramas, Independent Movies, International Movies   \n",
       "7       107                       Dramas, International Movies   \n",
       "8            Crime TV Shows, International TV Shows, Spanis...   \n",
       "9       118                     Comedies, International Movies   \n",
       "10      110  Comedies, Independent Movies, International Mo...   \n",
       "11                                                  Reality TV   \n",
       "12      104  Action & Adventure, Comedies, International Mo...   \n",
       "13           International TV Shows, Romantic TV Shows, TV ...   \n",
       "14       93            Dramas, International Movies, Thrillers   \n",
       "15                                                  Docuseries   \n",
       "16       94                   Children & Family Movies, Dramas   \n",
       "17                        Anime Series, International TV Shows   \n",
       "18           International TV Shows, Stand-Up Comedy & Talk...   \n",
       "19                                                 TV Comedies   \n",
       "\n",
       "                                          description     type  year_added  \\\n",
       "0   Brought together by meaningful meals in the pa...  TV Show      2019.0   \n",
       "1   From Sierra de las Minas to Esquipulas, explor...    Movie      2019.0   \n",
       "2   A goofy copywriter unwittingly convinces the I...    Movie      2019.0   \n",
       "3   Arranged to marry a rich man, young Ada is cru...    Movie      2019.0   \n",
       "4   Lovable pug Chip starts kindergarten, makes ne...  TV Show         NaN   \n",
       "5   Nollywood star Ramsey Nouah learns that someon...    Movie      2019.0   \n",
       "6   Romance, mystery and adventure intertwine as a...    Movie      2019.0   \n",
       "7   The life and times of iconic South African lib...    Movie      2019.0   \n",
       "8   This compelling show tells the story of the le...  TV Show         NaN   \n",
       "9   Two mooching friends vie for the attention of ...    Movie      2019.0   \n",
       "10  After an expensive night out, two flatmates ge...    Movie      2019.0   \n",
       "11  It's everything you love about \"Sugar Rush\" – ...  TV Show      2019.0   \n",
       "12  Nursing a broken heart, an IT specialist moves...    Movie      2019.0   \n",
       "13  A quirky fashion student becomes the nanny of ...  TV Show      2019.0   \n",
       "14  When a colonel uncovers controversial intel ab...    Movie      2019.0   \n",
       "15  These blockbusters brought us together and gav...  TV Show      2019.0   \n",
       "16  A widowed radio DJ and his four spoiled kids n...    Movie      2019.0   \n",
       "17  Young Levius rises through the ranks in the br...  TV Show      2019.0   \n",
       "18  Four comedians from Brazil riff on sexuality, ...  TV Show      2019.0   \n",
       "19  A struggling LA musician tries to win over his...  TV Show      2019.0   \n",
       "\n",
       "    month_added season_count  \n",
       "0          11.0               \n",
       "1          11.0               \n",
       "2          11.0               \n",
       "3          11.0               \n",
       "4           NaN               \n",
       "5          11.0               \n",
       "6          11.0               \n",
       "7          11.0               \n",
       "8           NaN               \n",
       "9          11.0               \n",
       "10         11.0               \n",
       "11         11.0               \n",
       "12         11.0               \n",
       "13         11.0               \n",
       "14         11.0               \n",
       "15         11.0               \n",
       "16         11.0               \n",
       "17         11.0               \n",
       "18         11.0               \n",
       "19         11.0               "
      ]
     },
     "execution_count": 20,
     "metadata": {},
     "output_type": "execute_result"
    }
   ],
   "source": [
    "netflix.head(20)"
   ]
  },
  {
   "cell_type": "code",
   "execution_count": 21,
   "metadata": {},
   "outputs": [
    {
     "name": "stdout",
     "output_type": "stream",
     "text": [
      "show_id            0\n",
      "title              0\n",
      "director        1901\n",
      "cast             556\n",
      "country          427\n",
      "date_added       642\n",
      "release_year       0\n",
      "rating            10\n",
      "duration           0\n",
      "listed_in          0\n",
      "description        0\n",
      "type               0\n",
      "year_added       642\n",
      "month_added      642\n",
      "season_count       0\n",
      "dtype: int64\n"
     ]
    }
   ],
   "source": [
    "\n",
    "nan_count = netflix.isna().sum()\n",
    "\n",
    "print(nan_count)"
   ]
  },
  {
   "cell_type": "code",
   "execution_count": 22,
   "metadata": {},
   "outputs": [
    {
     "name": "stderr",
     "output_type": "stream",
     "text": [
      "/var/folders/vb/dn4hsyw56_ndm_nr4gvczzdm0000gn/T/ipykernel_35886/1358407625.py:2: FutureWarning:\n",
      "\n",
      "A value is trying to be set on a copy of a DataFrame or Series through chained assignment using an inplace method.\n",
      "The behavior will change in pandas 3.0. This inplace method will never work because the intermediate object on which we are setting values always behaves as a copy.\n",
      "\n",
      "For example, when doing 'df[col].method(value, inplace=True)', try using 'df.method({col: value}, inplace=True)' or df[col] = df[col].method(value) instead, to perform the operation inplace on the original object.\n",
      "\n",
      "\n",
      "\n"
     ]
    }
   ],
   "source": [
    "for column in netflix.select_dtypes(include=['object']).columns:\n",
    "        netflix[column].fillna('Not Available', inplace=True)"
   ]
  },
  {
   "cell_type": "code",
   "execution_count": 23,
   "metadata": {},
   "outputs": [
    {
     "name": "stdout",
     "output_type": "stream",
     "text": [
      "show_id           0\n",
      "title             0\n",
      "director          0\n",
      "cast              0\n",
      "country           0\n",
      "date_added      642\n",
      "release_year      0\n",
      "rating            0\n",
      "duration          0\n",
      "listed_in         0\n",
      "description       0\n",
      "type              0\n",
      "year_added      642\n",
      "month_added     642\n",
      "season_count      0\n",
      "dtype: int64\n"
     ]
    }
   ],
   "source": [
    "nan_count = netflix.isna().sum()\n",
    "\n",
    "print(nan_count)"
   ]
  },
  {
   "cell_type": "code",
   "execution_count": 24,
   "metadata": {},
   "outputs": [
    {
     "data": {
      "image/png": "[encoded data removed]",
      "text/plain": [
       "<Figure size 640x480 with 1 Axes>"
      ]
     },
     "metadata": {},
     "output_type": "display_data"
    }
   ],
   "source": [
    "\n",
    "show_type=netflix[['show_id', 'type']].groupby(by=('type')).count()\\\n",
    "                                .reset_index()\\\n",
    "                                .rename(columns={'show_id':'count'})\n",
    "\n",
    "# ax = show_type.plot.pie(x='type', y='count',color='green')\n",
    "ax = show_type.plot(x='type', y='count', kind=\"pie\", autopct='%1.1f%%', shadow=True, explode=[0.05, 0.05], color='green', legend=True, title='Content Type', ylabel='', labeldistance=None)\n",
    "ax.legend(bbox_to_anchor=(1, 1.02), loc='upper left')\n",
    "plt.show()"
   ]
  },
  {
   "cell_type": "code",
   "execution_count": 25,
   "metadata": {},
   "outputs": [
    {
     "data": {
      "text/html": [
       "<div>\n",
       "<style scoped>\n",
       "    .dataframe tbody tr th:only-of-type {\n",
       "        vertical-align: middle;\n",
       "    }\n",
       "\n",
       "    .dataframe tbody tr th {\n",
       "        vertical-align: top;\n",
       "    }\n",
       "\n",
       "    .dataframe thead th {\n",
       "        text-align: right;\n",
       "    }\n",
       "</style>\n",
       "<table border=\"1\" class=\"dataframe\">\n",
       "  <thead>\n",
       "    <tr style=\"text-align: right;\">\n",
       "      <th></th>\n",
       "      <th>year_added</th>\n",
       "      <th>count</th>\n",
       "      <th>percent</th>\n",
       "    </tr>\n",
       "  </thead>\n",
       "  <tbody>\n",
       "    <tr>\n",
       "      <th>7</th>\n",
       "      <td>2008.0</td>\n",
       "      <td>1</td>\n",
       "      <td>0.079554</td>\n",
       "    </tr>\n",
       "    <tr>\n",
       "      <th>6</th>\n",
       "      <td>2012.0</td>\n",
       "      <td>3</td>\n",
       "      <td>0.238663</td>\n",
       "    </tr>\n",
       "    <tr>\n",
       "      <th>5</th>\n",
       "      <td>2013.0</td>\n",
       "      <td>3</td>\n",
       "      <td>0.238663</td>\n",
       "    </tr>\n",
       "    <tr>\n",
       "      <th>4</th>\n",
       "      <td>2015.0</td>\n",
       "      <td>16</td>\n",
       "      <td>1.272872</td>\n",
       "    </tr>\n",
       "    <tr>\n",
       "      <th>3</th>\n",
       "      <td>2016.0</td>\n",
       "      <td>148</td>\n",
       "      <td>11.774065</td>\n",
       "    </tr>\n",
       "    <tr>\n",
       "      <th>2</th>\n",
       "      <td>2017.0</td>\n",
       "      <td>271</td>\n",
       "      <td>21.559268</td>\n",
       "    </tr>\n",
       "    <tr>\n",
       "      <th>1</th>\n",
       "      <td>2018.0</td>\n",
       "      <td>339</td>\n",
       "      <td>26.968974</td>\n",
       "    </tr>\n",
       "    <tr>\n",
       "      <th>0</th>\n",
       "      <td>2019.0</td>\n",
       "      <td>476</td>\n",
       "      <td>37.867940</td>\n",
       "    </tr>\n",
       "  </tbody>\n",
       "</table>\n",
       "</div>"
      ],
      "text/plain": [
       "   year_added  count    percent\n",
       "7      2008.0      1   0.079554\n",
       "6      2012.0      3   0.238663\n",
       "5      2013.0      3   0.238663\n",
       "4      2015.0     16   1.272872\n",
       "3      2016.0    148  11.774065\n",
       "2      2017.0    271  21.559268\n",
       "1      2018.0    339  26.968974\n",
       "0      2019.0    476  37.867940"
      ]
     },
     "execution_count": 25,
     "metadata": {},
     "output_type": "execute_result"
    }
   ],
   "source": [
    "d1 = netflix[netflix[\"type\"] == \"TV Show\"]\n",
    "d2 = netflix[netflix[\"type\"] == \"Movie\"]\n",
    "\n",
    "col = \"year_added\"\n",
    "\n",
    "vc1 = d1[col].value_counts().reset_index()\n",
    "# vc1 = vc1.rename(columns = {col : \"count\", \"index\" : col})\n",
    "vc1['percent'] = vc1['count'].apply(lambda x : 100*x/sum(vc1['count']))\n",
    "vc1 = vc1.sort_values(col)\n",
    "\n",
    "vc1"
   ]
  },
  {
   "cell_type": "code",
   "execution_count": 26,
   "metadata": {},
   "outputs": [
    {
     "data": {
      "application/vnd.plotly.v1+json": {
       "config": {
        "plotlyServerURL": "https://plot.ly"
       },
       "data": [
        {
         "marker": {
          "color": "#a678de"
         },
         "name": "TV Shows",
         "type": "scatter",
         "x": [
          2008,
          2012,
          2013,
          2015,
          2016,
          2017,
          2018,
          2019
         ],
         "y": [
          1,
          3,
          3,
          16,
          148,
          271,
          339,
          476
         ]
        },
        {
         "marker": {
          "color": "#6ad49b"
         },
         "name": "Movies",
         "type": "scatter",
         "x": [
          2008,
          2009,
          2010,
          2011,
          2012,
          2013,
          2014,
          2015,
          2016,
          2017,
          2018,
          2019
         ],
         "y": [
          1,
          2,
          1,
          13,
          4,
          6,
          19,
          58,
          264,
          913,
          1290,
          1367
         ]
        }
       ],
       "layout": {
        "legend": {
         "orientation": "h",
         "x": 0.1,
         "y": 1.1
        },
        "template": {
         "data": {
          "bar": [
           {
            "error_x": {
             "color": "#2a3f5f"
            },
            "error_y": {
             "color": "#2a3f5f"
            },
            "marker": {
             "line": {
              "color": "#E5ECF6",
              "width": 0.5
             },
             "pattern": {
              "fillmode": "overlay",
              "size": 10,
              "solidity": 0.2
             }
            },
            "type": "bar"
           }
          ],
          "barpolar": [
           {
            "marker": {
             "line": {
              "color": "#E5ECF6",
              "width": 0.5
             },
             "pattern": {
              "fillmode": "overlay",
              "size": 10,
              "solidity": 0.2
             }
            },
            "type": "barpolar"
           }
          ],
          "carpet": [
           {
            "aaxis": {
             "endlinecolor": "#2a3f5f",
             "gridcolor": "white",
             "linecolor": "white",
             "minorgridcolor": "white",
             "startlinecolor": "#2a3f5f"
            },
            "baxis": {
             "endlinecolor": "#2a3f5f",
             "gridcolor": "white",
             "linecolor": "white",
             "minorgridcolor": "white",
             "startlinecolor": "#2a3f5f"
            },
            "type": "carpet"
           }
          ],
          "choropleth": [
           {
            "colorbar": {
             "outlinewidth": 0,
             "ticks": ""
            },
            "type": "choropleth"
           }
          ],
          "contour": [
           {
            "colorbar": {
             "outlinewidth": 0,
             "ticks": ""
            },
            "colorscale": [
             [
              0,
              "#0d0887"
             ],
             [
              0.1111111111111111,
              "#46039f"
             ],
             [
              0.2222222222222222,
              "#7201a8"
             ],
             [
              0.3333333333333333,
              "#9c179e"
             ],
             [
              0.4444444444444444,
              "#bd3786"
             ],
             [
              0.5555555555555556,
              "#d8576b"
             ],
             [
              0.6666666666666666,
              "#ed7953"
             ],
             [
              0.7777777777777778,
              "#fb9f3a"
             ],
             [
              0.8888888888888888,
              "#fdca26"
             ],
             [
              1,
              "#f0f921"
             ]
            ],
            "type": "contour"
           }
          ],
          "contourcarpet": [
           {
            "colorbar": {
             "outlinewidth": 0,
             "ticks": ""
            },
            "type": "contourcarpet"
           }
          ],
          "heatmap": [
           {
            "colorbar": {
             "outlinewidth": 0,
             "ticks": ""
            },
            "colorscale": [
             [
              0,
              "#0d0887"
             ],
             [
              0.1111111111111111,
              "#46039f"
             ],
             [
              0.2222222222222222,
              "#7201a8"
             ],
             [
              0.3333333333333333,
              "#9c179e"
             ],
             [
              0.4444444444444444,
              "#bd3786"
             ],
             [
              0.5555555555555556,
              "#d8576b"
             ],
             [
              0.6666666666666666,
              "#ed7953"
             ],
             [
              0.7777777777777778,
              "#fb9f3a"
             ],
             [
              0.8888888888888888,
              "#fdca26"
             ],
             [
              1,
              "#f0f921"
             ]
            ],
            "type": "heatmap"
           }
          ],
          "heatmapgl": [
           {
            "colorbar": {
             "outlinewidth": 0,
             "ticks": ""
            },
            "colorscale": [
             [
              0,
              "#0d0887"
             ],
             [
              0.1111111111111111,
              "#46039f"
             ],
             [
              0.2222222222222222,
              "#7201a8"
             ],
             [
              0.3333333333333333,
              "#9c179e"
             ],
             [
              0.4444444444444444,
              "#bd3786"
             ],
             [
              0.5555555555555556,
              "#d8576b"
             ],
             [
              0.6666666666666666,
              "#ed7953"
             ],
             [
              0.7777777777777778,
              "#fb9f3a"
             ],
             [
              0.8888888888888888,
              "#fdca26"
             ],
             [
              1,
              "#f0f921"
             ]
            ],
            "type": "heatmapgl"
           }
          ],
          "histogram": [
           {
            "marker": {
             "pattern": {
              "fillmode": "overlay",
              "size": 10,
              "solidity": 0.2
             }
            },
            "type": "histogram"
           }
          ],
          "histogram2d": [
           {
            "colorbar": {
             "outlinewidth": 0,
             "ticks": ""
            },
            "colorscale": [
             [
              0,
              "#0d0887"
             ],
             [
              0.1111111111111111,
              "#46039f"
             ],
             [
              0.2222222222222222,
              "#7201a8"
             ],
             [
              0.3333333333333333,
              "#9c179e"
             ],
             [
              0.4444444444444444,
              "#bd3786"
             ],
             [
              0.5555555555555556,
              "#d8576b"
             ],
             [
              0.6666666666666666,
              "#ed7953"
             ],
             [
              0.7777777777777778,
              "#fb9f3a"
             ],
             [
              0.8888888888888888,
              "#fdca26"
             ],
             [
              1,
              "#f0f921"
             ]
            ],
            "type": "histogram2d"
           }
          ],
          "histogram2dcontour": [
           {
            "colorbar": {
             "outlinewidth": 0,
             "ticks": ""
            },
            "colorscale": [
             [
              0,
              "#0d0887"
             ],
             [
              0.1111111111111111,
              "#46039f"
             ],
             [
              0.2222222222222222,
              "#7201a8"
             ],
             [
              0.3333333333333333,
              "#9c179e"
             ],
             [
              0.4444444444444444,
              "#bd3786"
             ],
             [
              0.5555555555555556,
              "#d8576b"
             ],
             [
              0.6666666666666666,
              "#ed7953"
             ],
             [
              0.7777777777777778,
              "#fb9f3a"
             ],
             [
              0.8888888888888888,
              "#fdca26"
             ],
             [
              1,
              "#f0f921"
             ]
            ],
            "type": "histogram2dcontour"
           }
          ],
          "mesh3d": [
           {
            "colorbar": {
             "outlinewidth": 0,
             "ticks": ""
            },
            "type": "mesh3d"
           }
          ],
          "parcoords": [
           {
            "line": {
             "colorbar": {
              "outlinewidth": 0,
              "ticks": ""
             }
            },
            "type": "parcoords"
           }
          ],
          "pie": [
           {
            "automargin": true,
            "type": "pie"
           }
          ],
          "scatter": [
           {
            "fillpattern": {
             "fillmode": "overlay",
             "size": 10,
             "solidity": 0.2
            },
            "type": "scatter"
           }
          ],
          "scatter3d": [
           {
            "line": {
             "colorbar": {
              "outlinewidth": 0,
              "ticks": ""
             }
            },
            "marker": {
             "colorbar": {
              "outlinewidth": 0,
              "ticks": ""
             }
            },
            "type": "scatter3d"
           }
          ],
          "scattercarpet": [
           {
            "marker": {
             "colorbar": {
              "outlinewidth": 0,
              "ticks": ""
             }
            },
            "type": "scattercarpet"
           }
          ],
          "scattergeo": [
           {
            "marker": {
             "colorbar": {
              "outlinewidth": 0,
              "ticks": ""
             }
            },
            "type": "scattergeo"
           }
          ],
          "scattergl": [
           {
            "marker": {
             "colorbar": {
              "outlinewidth": 0,
              "ticks": ""
             }
            },
            "type": "scattergl"
           }
          ],
          "scattermapbox": [
           {
            "marker": {
             "colorbar": {
              "outlinewidth": 0,
              "ticks": ""
             }
            },
            "type": "scattermapbox"
           }
          ],
          "scatterpolar": [
           {
            "marker": {
             "colorbar": {
              "outlinewidth": 0,
              "ticks": ""
             }
            },
            "type": "scatterpolar"
           }
          ],
          "scatterpolargl": [
           {
            "marker": {
             "colorbar": {
              "outlinewidth": 0,
              "ticks": ""
             }
            },
            "type": "scatterpolargl"
           }
          ],
          "scatterternary": [
           {
            "marker": {
             "colorbar": {
              "outlinewidth": 0,
              "ticks": ""
             }
            },
            "type": "scatterternary"
           }
          ],
          "surface": [
           {
            "colorbar": {
             "outlinewidth": 0,
             "ticks": ""
            },
            "colorscale": [
             [
              0,
              "#0d0887"
             ],
             [
              0.1111111111111111,
              "#46039f"
             ],
             [
              0.2222222222222222,
              "#7201a8"
             ],
             [
              0.3333333333333333,
              "#9c179e"
             ],
             [
              0.4444444444444444,
              "#bd3786"
             ],
             [
              0.5555555555555556,
              "#d8576b"
             ],
             [
              0.6666666666666666,
              "#ed7953"
             ],
             [
              0.7777777777777778,
              "#fb9f3a"
             ],
             [
              0.8888888888888888,
              "#fdca26"
             ],
             [
              1,
              "#f0f921"
             ]
            ],
            "type": "surface"
           }
          ],
          "table": [
           {
            "cells": {
             "fill": {
              "color": "#EBF0F8"
             },
             "line": {
              "color": "white"
             }
            },
            "header": {
             "fill": {
              "color": "#C8D4E3"
             },
             "line": {
              "color": "white"
             }
            },
            "type": "table"
           }
          ]
         },
         "layout": {
          "annotationdefaults": {
           "arrowcolor": "#2a3f5f",
           "arrowhead": 0,
           "arrowwidth": 1
          },
          "autotypenumbers": "strict",
          "coloraxis": {
           "colorbar": {
            "outlinewidth": 0,
            "ticks": ""
           }
          },
          "colorscale": {
           "diverging": [
            [
             0,
             "#8e0152"
            ],
            [
             0.1,
             "#c51b7d"
            ],
            [
             0.2,
             "#de77ae"
            ],
            [
             0.3,
             "#f1b6da"
            ],
            [
             0.4,
             "#fde0ef"
            ],
            [
             0.5,
             "#f7f7f7"
            ],
            [
             0.6,
             "#e6f5d0"
            ],
            [
             0.7,
             "#b8e186"
            ],
            [
             0.8,
             "#7fbc41"
            ],
            [
             0.9,
             "#4d9221"
            ],
            [
             1,
             "#276419"
            ]
           ],
           "sequential": [
            [
             0,
             "#0d0887"
            ],
            [
             0.1111111111111111,
             "#46039f"
            ],
            [
             0.2222222222222222,
             "#7201a8"
            ],
            [
             0.3333333333333333,
             "#9c179e"
            ],
            [
             0.4444444444444444,
             "#bd3786"
            ],
            [
             0.5555555555555556,
             "#d8576b"
            ],
            [
             0.6666666666666666,
             "#ed7953"
            ],
            [
             0.7777777777777778,
             "#fb9f3a"
            ],
            [
             0.8888888888888888,
             "#fdca26"
            ],
            [
             1,
             "#f0f921"
            ]
           ],
           "sequentialminus": [
            [
             0,
             "#0d0887"
            ],
            [
             0.1111111111111111,
             "#46039f"
            ],
            [
             0.2222222222222222,
             "#7201a8"
            ],
            [
             0.3333333333333333,
             "#9c179e"
            ],
            [
             0.4444444444444444,
             "#bd3786"
            ],
            [
             0.5555555555555556,
             "#d8576b"
            ],
            [
             0.6666666666666666,
             "#ed7953"
            ],
            [
             0.7777777777777778,
             "#fb9f3a"
            ],
            [
             0.8888888888888888,
             "#fdca26"
            ],
            [
             1,
             "#f0f921"
            ]
           ]
          },
          "colorway": [
           "#636efa",
           "#EF553B",
           "#00cc96",
           "#ab63fa",
           "#FFA15A",
           "#19d3f3",
           "#FF6692",
           "#B6E880",
           "#FF97FF",
           "#FECB52"
          ],
          "font": {
           "color": "#2a3f5f"
          },
          "geo": {
           "bgcolor": "white",
           "lakecolor": "white",
           "landcolor": "#E5ECF6",
           "showlakes": true,
           "showland": true,
           "subunitcolor": "white"
          },
          "hoverlabel": {
           "align": "left"
          },
          "hovermode": "closest",
          "mapbox": {
           "style": "light"
          },
          "paper_bgcolor": "white",
          "plot_bgcolor": "#E5ECF6",
          "polar": {
           "angularaxis": {
            "gridcolor": "white",
            "linecolor": "white",
            "ticks": ""
           },
           "bgcolor": "#E5ECF6",
           "radialaxis": {
            "gridcolor": "white",
            "linecolor": "white",
            "ticks": ""
           }
          },
          "scene": {
           "xaxis": {
            "backgroundcolor": "#E5ECF6",
            "gridcolor": "white",
            "gridwidth": 2,
            "linecolor": "white",
            "showbackground": true,
            "ticks": "",
            "zerolinecolor": "white"
           },
           "yaxis": {
            "backgroundcolor": "#E5ECF6",
            "gridcolor": "white",
            "gridwidth": 2,
            "linecolor": "white",
            "showbackground": true,
            "ticks": "",
            "zerolinecolor": "white"
           },
           "zaxis": {
            "backgroundcolor": "#E5ECF6",
            "gridcolor": "white",
            "gridwidth": 2,
            "linecolor": "white",
            "showbackground": true,
            "ticks": "",
            "zerolinecolor": "white"
           }
          },
          "shapedefaults": {
           "line": {
            "color": "#2a3f5f"
           }
          },
          "ternary": {
           "aaxis": {
            "gridcolor": "white",
            "linecolor": "white",
            "ticks": ""
           },
           "baxis": {
            "gridcolor": "white",
            "linecolor": "white",
            "ticks": ""
           },
           "bgcolor": "#E5ECF6",
           "caxis": {
            "gridcolor": "white",
            "linecolor": "white",
            "ticks": ""
           }
          },
          "title": {
           "x": 0.05
          },
          "xaxis": {
           "automargin": true,
           "gridcolor": "white",
           "linecolor": "white",
           "ticks": "",
           "title": {
            "standoff": 15
           },
           "zerolinecolor": "white",
           "zerolinewidth": 2
          },
          "yaxis": {
           "automargin": true,
           "gridcolor": "white",
           "linecolor": "white",
           "ticks": "",
           "title": {
            "standoff": 15
           },
           "zerolinecolor": "white",
           "zerolinewidth": 2
          }
         }
        },
        "title": {
         "text": "Content added over the years"
        }
       }
      }
     },
     "metadata": {},
     "output_type": "display_data"
    }
   ],
   "source": [
    "d1 = netflix[netflix[\"type\"] == \"TV Show\"]\n",
    "d2 = netflix[netflix[\"type\"] == \"Movie\"]\n",
    "\n",
    "col = \"year_added\"\n",
    "\n",
    "vc1 = d1[col].value_counts().reset_index()\n",
    "# vc1 = vc1.rename(columns = {col : \"count\", \"index\" : col})\n",
    "vc1['percent'] = vc1['count'].apply(lambda x : 100*x/sum(vc1['count']))\n",
    "vc1 = vc1.sort_values(col)\n",
    "\n",
    "vc2 = d2[col].value_counts().reset_index()\n",
    "# vc2 = vc2.rename(columns = {col : \"count\", \"index\" : col})\n",
    "vc2['percent'] = vc2['count'].apply(lambda x : 100*x/sum(vc2['count']))\n",
    "vc2 = vc2.sort_values(col)\n",
    "\n",
    "trace1 = go.Scatter(x=vc1[col], y=vc1[\"count\"], name=\"TV Shows\", marker=dict(color=\"#a678de\"))\n",
    "trace2 = go.Scatter(x=vc2[col], y=vc2[\"count\"], name=\"Movies\", marker=dict(color=\"#6ad49b\"))\n",
    "data = [trace1, trace2]\n",
    "layout = go.Layout(title=\"Content added over the years\", legend=dict(x=0.1, y=1.1, orientation=\"h\"))\n",
    "fig = go.Figure(data, layout=layout)\n",
    "fig.show()\n"
   ]
  },
  {
   "cell_type": "code",
   "execution_count": 41,
   "metadata": {},
   "outputs": [
    {
     "ename": "ValueError",
     "evalue": "Invalid property specified for object of type plotly.graph_objs.Layout: 'xlable'\n\nDid you mean \"title\"?\n\n    Valid properties:\n        activeselection\n            :class:`plotly.graph_objects.layout.Activeselection`\n            instance or dict with compatible properties\n        activeshape\n            :class:`plotly.graph_objects.layout.Activeshape`\n            instance or dict with compatible properties\n        annotations\n            A tuple of\n            :class:`plotly.graph_objects.layout.Annotation`\n            instances or dicts with compatible properties\n        annotationdefaults\n            When used in a template (as\n            layout.template.layout.annotationdefaults), sets the\n            default property values to use for elements of\n            layout.annotations\n        autosize\n            Determines whether or not a layout width or height that\n            has been left undefined by the user is initialized on\n            each relayout. Note that, regardless of this attribute,\n            an undefined layout width or height is always\n            initialized on the first call to plot.\n        autotypenumbers\n            Using \"strict\" a numeric string in trace data is not\n            converted to a number. Using *convert types* a numeric\n            string in trace data may be treated as a number during\n            automatic axis `type` detection. This is the default\n            value; however it could be overridden for individual\n            axes.\n        barcornerradius\n            Sets the rounding of bar corners. May be an integer\n            number of pixels, or a percentage of bar width (as a\n            string ending in %).\n        bargap\n            Sets the gap (in plot fraction) between bars of\n            adjacent location coordinates.\n        bargroupgap\n            Sets the gap (in plot fraction) between bars of the\n            same location coordinate.\n        barmode\n            Determines how bars at the same location coordinate are\n            displayed on the graph. With \"stack\", the bars are\n            stacked on top of one another With \"relative\", the bars\n            are stacked on top of one another, with negative values\n            below the axis, positive values above With \"group\", the\n            bars are plotted next to one another centered around\n            the shared location. With \"overlay\", the bars are\n            plotted over one another, you might need to reduce\n            \"opacity\" to see multiple bars.\n        barnorm\n            Sets the normalization for bar traces on the graph.\n            With \"fraction\", the value of each bar is divided by\n            the sum of all values at that location coordinate.\n            \"percent\" is the same but multiplied by 100 to show\n            percentages.\n        boxgap\n            Sets the gap (in plot fraction) between boxes of\n            adjacent location coordinates. Has no effect on traces\n            that have \"width\" set.\n        boxgroupgap\n            Sets the gap (in plot fraction) between boxes of the\n            same location coordinate. Has no effect on traces that\n            have \"width\" set.\n        boxmode\n            Determines how boxes at the same location coordinate\n            are displayed on the graph. If \"group\", the boxes are\n            plotted next to one another centered around the shared\n            location. If \"overlay\", the boxes are plotted over one\n            another, you might need to set \"opacity\" to see them\n            multiple boxes. Has no effect on traces that have\n            \"width\" set.\n        calendar\n            Sets the default calendar system to use for\n            interpreting and displaying dates throughout the plot.\n        clickmode\n            Determines the mode of single click interactions.\n            \"event\" is the default value and emits the\n            `plotly_click` event. In addition this mode emits the\n            `plotly_selected` event in drag modes \"lasso\" and\n            \"select\", but with no event data attached (kept for\n            compatibility reasons). The \"select\" flag enables\n            selecting single data points via click. This mode also\n            supports persistent selections, meaning that pressing\n            Shift while clicking, adds to / subtracts from an\n            existing selection. \"select\" with `hovermode`: \"x\" can\n            be confusing, consider explicitly setting `hovermode`:\n            \"closest\" when using this feature. Selection events are\n            sent accordingly as long as \"event\" flag is set as\n            well. When the \"event\" flag is missing, `plotly_click`\n            and `plotly_selected` events are not fired.\n        coloraxis\n            :class:`plotly.graph_objects.layout.Coloraxis` instance\n            or dict with compatible properties\n        colorscale\n            :class:`plotly.graph_objects.layout.Colorscale`\n            instance or dict with compatible properties\n        colorway\n            Sets the default trace colors.\n        computed\n            Placeholder for exporting automargin-impacting values\n            namely `margin.t`, `margin.b`, `margin.l` and\n            `margin.r` in \"full-json\" mode.\n        datarevision\n            If provided, a changed value tells `Plotly.react` that\n            one or more data arrays has changed. This way you can\n            modify arrays in-place rather than making a complete\n            new copy for an incremental change. If NOT provided,\n            `Plotly.react` assumes that data arrays are being\n            treated as immutable, thus any data array with a\n            different identity from its predecessor contains new\n            data.\n        dragmode\n            Determines the mode of drag interactions. \"select\" and\n            \"lasso\" apply only to scatter traces with markers or\n            text. \"orbit\" and \"turntable\" apply only to 3D scenes.\n        editrevision\n            Controls persistence of user-driven changes in\n            `editable: true` configuration, other than trace names\n            and axis titles. Defaults to `layout.uirevision`.\n        extendfunnelareacolors\n            If `true`, the funnelarea slice colors (whether given\n            by `funnelareacolorway` or inherited from `colorway`)\n            will be extended to three times its original length by\n            first repeating every color 20% lighter then each color\n            20% darker. This is intended to reduce the likelihood\n            of reusing the same color when you have many slices,\n            but you can set `false` to disable. Colors provided in\n            the trace, using `marker.colors`, are never extended.\n        extendiciclecolors\n            If `true`, the icicle slice colors (whether given by\n            `iciclecolorway` or inherited from `colorway`) will be\n            extended to three times its original length by first\n            repeating every color 20% lighter then each color 20%\n            darker. This is intended to reduce the likelihood of\n            reusing the same color when you have many slices, but\n            you can set `false` to disable. Colors provided in the\n            trace, using `marker.colors`, are never extended.\n        extendpiecolors\n            If `true`, the pie slice colors (whether given by\n            `piecolorway` or inherited from `colorway`) will be\n            extended to three times its original length by first\n            repeating every color 20% lighter then each color 20%\n            darker. This is intended to reduce the likelihood of\n            reusing the same color when you have many slices, but\n            you can set `false` to disable. Colors provided in the\n            trace, using `marker.colors`, are never extended.\n        extendsunburstcolors\n            If `true`, the sunburst slice colors (whether given by\n            `sunburstcolorway` or inherited from `colorway`) will\n            be extended to three times its original length by first\n            repeating every color 20% lighter then each color 20%\n            darker. This is intended to reduce the likelihood of\n            reusing the same color when you have many slices, but\n            you can set `false` to disable. Colors provided in the\n            trace, using `marker.colors`, are never extended.\n        extendtreemapcolors\n            If `true`, the treemap slice colors (whether given by\n            `treemapcolorway` or inherited from `colorway`) will be\n            extended to three times its original length by first\n            repeating every color 20% lighter then each color 20%\n            darker. This is intended to reduce the likelihood of\n            reusing the same color when you have many slices, but\n            you can set `false` to disable. Colors provided in the\n            trace, using `marker.colors`, are never extended.\n        font\n            Sets the global font. Note that fonts used in traces\n            and other layout components inherit from the global\n            font.\n        funnelareacolorway\n            Sets the default funnelarea slice colors. Defaults to\n            the main `colorway` used for trace colors. If you\n            specify a new list here it can still be extended with\n            lighter and darker colors, see\n            `extendfunnelareacolors`.\n        funnelgap\n            Sets the gap (in plot fraction) between bars of\n            adjacent location coordinates.\n        funnelgroupgap\n            Sets the gap (in plot fraction) between bars of the\n            same location coordinate.\n        funnelmode\n            Determines how bars at the same location coordinate are\n            displayed on the graph. With \"stack\", the bars are\n            stacked on top of one another With \"group\", the bars\n            are plotted next to one another centered around the\n            shared location. With \"overlay\", the bars are plotted\n            over one another, you might need to reduce \"opacity\" to\n            see multiple bars.\n        geo\n            :class:`plotly.graph_objects.layout.Geo` instance or\n            dict with compatible properties\n        grid\n            :class:`plotly.graph_objects.layout.Grid` instance or\n            dict with compatible properties\n        height\n            Sets the plot's height (in px).\n        hiddenlabels\n            hiddenlabels is the funnelarea & pie chart analog of\n            visible:'legendonly' but it can contain many labels,\n            and can simultaneously hide slices from several\n            pies/funnelarea charts\n        hiddenlabelssrc\n            Sets the source reference on Chart Studio Cloud for\n            `hiddenlabels`.\n        hidesources\n            Determines whether or not a text link citing the data\n            source is placed at the bottom-right cored of the\n            figure. Has only an effect only on graphs that have\n            been generated via forked graphs from the Chart Studio\n            Cloud (at https://chart-studio.plotly.com or on-\n            premise).\n        hoverdistance\n            Sets the default distance (in pixels) to look for data\n            to add hover labels (-1 means no cutoff, 0 means no\n            looking for data). This is only a real distance for\n            hovering on point-like objects, like scatter points.\n            For area-like objects (bars, scatter fills, etc)\n            hovering is on inside the area and off outside, but\n            these objects will not supersede hover on point-like\n            objects in case of conflict.\n        hoverlabel\n            :class:`plotly.graph_objects.layout.Hoverlabel`\n            instance or dict with compatible properties\n        hovermode\n            Determines the mode of hover interactions. If\n            \"closest\", a single hoverlabel will appear for the\n            \"closest\" point within the `hoverdistance`. If \"x\" (or\n            \"y\"), multiple hoverlabels will appear for multiple\n            points at the \"closest\" x- (or y-) coordinate within\n            the `hoverdistance`, with the caveat that no more than\n            one hoverlabel will appear per trace. If *x unified*\n            (or *y unified*), a single hoverlabel will appear\n            multiple points at the closest x- (or y-) coordinate\n            within the `hoverdistance` with the caveat that no more\n            than one hoverlabel will appear per trace. In this\n            mode, spikelines are enabled by default perpendicular\n            to the specified axis. If false, hover interactions are\n            disabled.\n        iciclecolorway\n            Sets the default icicle slice colors. Defaults to the\n            main `colorway` used for trace colors. If you specify a\n            new list here it can still be extended with lighter and\n            darker colors, see `extendiciclecolors`.\n        images\n            A tuple of :class:`plotly.graph_objects.layout.Image`\n            instances or dicts with compatible properties\n        imagedefaults\n            When used in a template (as\n            layout.template.layout.imagedefaults), sets the default\n            property values to use for elements of layout.images\n        legend\n            :class:`plotly.graph_objects.layout.Legend` instance or\n            dict with compatible properties\n        mapbox\n            :class:`plotly.graph_objects.layout.Mapbox` instance or\n            dict with compatible properties\n        margin\n            :class:`plotly.graph_objects.layout.Margin` instance or\n            dict with compatible properties\n        meta\n            Assigns extra meta information that can be used in\n            various `text` attributes. Attributes such as the\n            graph, axis and colorbar `title.text`, annotation\n            `text` `trace.name` in legend items, `rangeselector`,\n            `updatemenus` and `sliders` `label` text all support\n            `meta`. One can access `meta` fields using template\n            strings: `%{meta[i]}` where `i` is the index of the\n            `meta` item in question. `meta` can also be an object\n            for example `{key: value}` which can be accessed\n            %{meta[key]}.\n        metasrc\n            Sets the source reference on Chart Studio Cloud for\n            `meta`.\n        minreducedheight\n            Minimum height of the plot with margin.automargin\n            applied (in px)\n        minreducedwidth\n            Minimum width of the plot with margin.automargin\n            applied (in px)\n        modebar\n            :class:`plotly.graph_objects.layout.Modebar` instance\n            or dict with compatible properties\n        newselection\n            :class:`plotly.graph_objects.layout.Newselection`\n            instance or dict with compatible properties\n        newshape\n            :class:`plotly.graph_objects.layout.Newshape` instance\n            or dict with compatible properties\n        paper_bgcolor\n            Sets the background color of the paper where the graph\n            is drawn.\n        piecolorway\n            Sets the default pie slice colors. Defaults to the main\n            `colorway` used for trace colors. If you specify a new\n            list here it can still be extended with lighter and\n            darker colors, see `extendpiecolors`.\n        plot_bgcolor\n            Sets the background color of the plotting area in-\n            between x and y axes.\n        polar\n            :class:`plotly.graph_objects.layout.Polar` instance or\n            dict with compatible properties\n        scattergap\n            Sets the gap (in plot fraction) between scatter points\n            of adjacent location coordinates. Defaults to `bargap`.\n        scattermode\n            Determines how scatter points at the same location\n            coordinate are displayed on the graph. With \"group\",\n            the scatter points are plotted next to one another\n            centered around the shared location. With \"overlay\",\n            the scatter points are plotted over one another, you\n            might need to reduce \"opacity\" to see multiple scatter\n            points.\n        scene\n            :class:`plotly.graph_objects.layout.Scene` instance or\n            dict with compatible properties\n        selectdirection\n            When `dragmode` is set to \"select\", this limits the\n            selection of the drag to horizontal, vertical or\n            diagonal. \"h\" only allows horizontal selection, \"v\"\n            only vertical, \"d\" only diagonal and \"any\" sets no\n            limit.\n        selectionrevision\n            Controls persistence of user-driven changes in selected\n            points from all traces.\n        selections\n            A tuple of\n            :class:`plotly.graph_objects.layout.Selection`\n            instances or dicts with compatible properties\n        selectiondefaults\n            When used in a template (as\n            layout.template.layout.selectiondefaults), sets the\n            default property values to use for elements of\n            layout.selections\n        separators\n            Sets the decimal and thousand separators. For example,\n            *. * puts a '.' before decimals and a space between\n            thousands. In English locales, dflt is \".,\" but other\n            locales may alter this default.\n        shapes\n            A tuple of :class:`plotly.graph_objects.layout.Shape`\n            instances or dicts with compatible properties\n        shapedefaults\n            When used in a template (as\n            layout.template.layout.shapedefaults), sets the default\n            property values to use for elements of layout.shapes\n        showlegend\n            Determines whether or not a legend is drawn. Default is\n            `true` if there is a trace to show and any of these: a)\n            Two or more traces would by default be shown in the\n            legend. b) One pie trace is shown in the legend. c) One\n            trace is explicitly given with `showlegend: true`.\n        sliders\n            A tuple of :class:`plotly.graph_objects.layout.Slider`\n            instances or dicts with compatible properties\n        sliderdefaults\n            When used in a template (as\n            layout.template.layout.sliderdefaults), sets the\n            default property values to use for elements of\n            layout.sliders\n        smith\n            :class:`plotly.graph_objects.layout.Smith` instance or\n            dict with compatible properties\n        spikedistance\n            Sets the default distance (in pixels) to look for data\n            to draw spikelines to (-1 means no cutoff, 0 means no\n            looking for data). As with hoverdistance, distance does\n            not apply to area-like objects. In addition, some\n            objects can be hovered on but will not generate\n            spikelines, such as scatter fills.\n        sunburstcolorway\n            Sets the default sunburst slice colors. Defaults to the\n            main `colorway` used for trace colors. If you specify a\n            new list here it can still be extended with lighter and\n            darker colors, see `extendsunburstcolors`.\n        template\n            Default attributes to be applied to the plot. This\n            should be a dict with format: `{'layout':\n            layoutTemplate, 'data': {trace_type: [traceTemplate,\n            ...], ...}}` where `layoutTemplate` is a dict matching\n            the structure of `figure.layout` and `traceTemplate` is\n            a dict matching the structure of the trace with type\n            `trace_type` (e.g. 'scatter'). Alternatively, this may\n            be specified as an instance of\n            plotly.graph_objs.layout.Template.  Trace templates are\n            applied cyclically to traces of each type. Container\n            arrays (eg `annotations`) have special handling: An\n            object ending in `defaults` (eg `annotationdefaults`)\n            is applied to each array item. But if an item has a\n            `templateitemname` key we look in the template array\n            for an item with matching `name` and apply that\n            instead. If no matching `name` is found we mark the\n            item invisible. Any named template item not referenced\n            is appended to the end of the array, so this can be\n            used to add a watermark annotation or a logo image, for\n            example. To omit one of these items on the plot, make\n            an item with matching `templateitemname` and `visible:\n            false`.\n        ternary\n            :class:`plotly.graph_objects.layout.Ternary` instance\n            or dict with compatible properties\n        title\n            :class:`plotly.graph_objects.layout.Title` instance or\n            dict with compatible properties\n        titlefont\n            Deprecated: Please use layout.title.font instead. Sets\n            the title font. Note that the title's font used to be\n            customized by the now deprecated `titlefont` attribute.\n        transition\n            Sets transition options used during Plotly.react\n            updates.\n        treemapcolorway\n            Sets the default treemap slice colors. Defaults to the\n            main `colorway` used for trace colors. If you specify a\n            new list here it can still be extended with lighter and\n            darker colors, see `extendtreemapcolors`.\n        uirevision\n            Used to allow user interactions with the plot to\n            persist after `Plotly.react` calls that are unaware of\n            these interactions. If `uirevision` is omitted, or if\n            it is given and it changed from the previous\n            `Plotly.react` call, the exact new figure is used. If\n            `uirevision` is truthy and did NOT change, any\n            attribute that has been affected by user interactions\n            and did not receive a different value in the new figure\n            will keep the interaction value. `layout.uirevision`\n            attribute serves as the default for `uirevision`\n            attributes in various sub-containers. For finer control\n            you can set these sub-attributes directly. For example,\n            if your app separately controls the data on the x and y\n            axes you might set `xaxis.uirevision=*time*` and\n            `yaxis.uirevision=*cost*`. Then if only the y data is\n            changed, you can update `yaxis.uirevision=*quantity*`\n            and the y axis range will reset but the x axis range\n            will retain any user-driven zoom.\n        uniformtext\n            :class:`plotly.graph_objects.layout.Uniformtext`\n            instance or dict with compatible properties\n        updatemenus\n            A tuple of\n            :class:`plotly.graph_objects.layout.Updatemenu`\n            instances or dicts with compatible properties\n        updatemenudefaults\n            When used in a template (as\n            layout.template.layout.updatemenudefaults), sets the\n            default property values to use for elements of\n            layout.updatemenus\n        violingap\n            Sets the gap (in plot fraction) between violins of\n            adjacent location coordinates. Has no effect on traces\n            that have \"width\" set.\n        violingroupgap\n            Sets the gap (in plot fraction) between violins of the\n            same location coordinate. Has no effect on traces that\n            have \"width\" set.\n        violinmode\n            Determines how violins at the same location coordinate\n            are displayed on the graph. If \"group\", the violins are\n            plotted next to one another centered around the shared\n            location. If \"overlay\", the violins are plotted over\n            one another, you might need to set \"opacity\" to see\n            them multiple violins. Has no effect on traces that\n            have \"width\" set.\n        waterfallgap\n            Sets the gap (in plot fraction) between bars of\n            adjacent location coordinates.\n        waterfallgroupgap\n            Sets the gap (in plot fraction) between bars of the\n            same location coordinate.\n        waterfallmode\n            Determines how bars at the same location coordinate are\n            displayed on the graph. With \"group\", the bars are\n            plotted next to one another centered around the shared\n            location. With \"overlay\", the bars are plotted over one\n            another, you might need to reduce \"opacity\" to see\n            multiple bars.\n        width\n            Sets the plot's width (in px).\n        xaxis\n            :class:`plotly.graph_objects.layout.XAxis` instance or\n            dict with compatible properties\n        yaxis\n            :class:`plotly.graph_objects.layout.YAxis` instance or\n            dict with compatible properties\n        \nDid you mean \"title\"?\n\nBad property path:\nxlable\n^^^^^^",
     "output_type": "error",
     "traceback": [
      "\u001b[0;31m---------------------------------------------------------------------------\u001b[0m",
      "\u001b[0;31mValueError\u001b[0m                                Traceback (most recent call last)",
      "Cell \u001b[0;32mIn[41], line 9\u001b[0m\n\u001b[1;32m      7\u001b[0m trace1 \u001b[38;5;241m=\u001b[39m go\u001b[38;5;241m.\u001b[39mBar(x\u001b[38;5;241m=\u001b[39mvc1[col], y\u001b[38;5;241m=\u001b[39mvc1[\u001b[38;5;124m\"\u001b[39m\u001b[38;5;124mcount\u001b[39m\u001b[38;5;124m\"\u001b[39m], name\u001b[38;5;241m=\u001b[39m\u001b[38;5;124m\"\u001b[39m\u001b[38;5;124mTV Shows\u001b[39m\u001b[38;5;124m\"\u001b[39m, marker\u001b[38;5;241m=\u001b[39m\u001b[38;5;28mdict\u001b[39m(color\u001b[38;5;241m=\u001b[39m\u001b[38;5;124m\"\u001b[39m\u001b[38;5;124m#a678de\u001b[39m\u001b[38;5;124m\"\u001b[39m))\n\u001b[1;32m      8\u001b[0m data \u001b[38;5;241m=\u001b[39m [trace1]\n\u001b[0;32m----> 9\u001b[0m layout \u001b[38;5;241m=\u001b[39m \u001b[43mgo\u001b[49m\u001b[38;5;241;43m.\u001b[39;49m\u001b[43mLayout\u001b[49m\u001b[43m(\u001b[49m\u001b[43mxlable\u001b[49m\u001b[38;5;241;43m=\u001b[39;49m\u001b[38;5;124;43m'\u001b[39;49m\u001b[38;5;124;43mmonths\u001b[39;49m\u001b[38;5;124;43m'\u001b[39;49m\u001b[43m,\u001b[49m\u001b[43mylabel\u001b[49m\u001b[38;5;241;43m=\u001b[39;49m\u001b[38;5;124;43m'\u001b[39;49m\u001b[38;5;124;43mcontent\u001b[39;49m\u001b[38;5;124;43m'\u001b[39;49m\u001b[43m \u001b[49m\u001b[43m,\u001b[49m\u001b[43mtitle\u001b[49m\u001b[38;5;241;43m=\u001b[39;49m\u001b[38;5;124;43m\"\u001b[39;49m\u001b[38;5;124;43mIn which month, the content is added the most?\u001b[39;49m\u001b[38;5;124;43m\"\u001b[39;49m\u001b[43m,\u001b[49m\u001b[43m \u001b[49m\u001b[43mlegend\u001b[49m\u001b[38;5;241;43m=\u001b[39;49m\u001b[38;5;28;43mdict\u001b[39;49m\u001b[43m(\u001b[49m\u001b[43mx\u001b[49m\u001b[38;5;241;43m=\u001b[39;49m\u001b[38;5;241;43m0.1\u001b[39;49m\u001b[43m,\u001b[49m\u001b[43m \u001b[49m\u001b[43my\u001b[49m\u001b[38;5;241;43m=\u001b[39;49m\u001b[38;5;241;43m1.1\u001b[39;49m\u001b[43m,\u001b[49m\u001b[43m \u001b[49m\u001b[43morientation\u001b[49m\u001b[38;5;241;43m=\u001b[39;49m\u001b[38;5;124;43m\"\u001b[39;49m\u001b[38;5;124;43mh\u001b[39;49m\u001b[38;5;124;43m\"\u001b[39;49m\u001b[43m)\u001b[49m\u001b[43m)\u001b[49m\n\u001b[1;32m     10\u001b[0m fig \u001b[38;5;241m=\u001b[39m go\u001b[38;5;241m.\u001b[39mFigure(data, layout\u001b[38;5;241m=\u001b[39mlayout)\n\u001b[1;32m     11\u001b[0m fig\u001b[38;5;241m.\u001b[39mshow()\n",
      "File \u001b[0;32m/Library/Frameworks/Python.framework/Versions/3.12/lib/python3.12/site-packages/plotly/graph_objs/_layout.py:7014\u001b[0m, in \u001b[0;36mLayout.__init__\u001b[0;34m(self, arg, activeselection, activeshape, annotations, annotationdefaults, autosize, autotypenumbers, barcornerradius, bargap, bargroupgap, barmode, barnorm, boxgap, boxgroupgap, boxmode, calendar, clickmode, coloraxis, colorscale, colorway, computed, datarevision, dragmode, editrevision, extendfunnelareacolors, extendiciclecolors, extendpiecolors, extendsunburstcolors, extendtreemapcolors, font, funnelareacolorway, funnelgap, funnelgroupgap, funnelmode, geo, grid, height, hiddenlabels, hiddenlabelssrc, hidesources, hoverdistance, hoverlabel, hovermode, iciclecolorway, images, imagedefaults, legend, mapbox, margin, meta, metasrc, minreducedheight, minreducedwidth, modebar, newselection, newshape, paper_bgcolor, piecolorway, plot_bgcolor, polar, scattergap, scattermode, scene, selectdirection, selectionrevision, selections, selectiondefaults, separators, shapes, shapedefaults, showlegend, sliders, sliderdefaults, smith, spikedistance, sunburstcolorway, template, ternary, title, titlefont, transition, treemapcolorway, uirevision, uniformtext, updatemenus, updatemenudefaults, violingap, violingroupgap, violinmode, waterfallgap, waterfallgroupgap, waterfallmode, width, xaxis, yaxis, **kwargs)\u001b[0m\n\u001b[1;32m   7010\u001b[0m     \u001b[38;5;28mself\u001b[39m[\u001b[38;5;124m\"\u001b[39m\u001b[38;5;124myaxis\u001b[39m\u001b[38;5;124m\"\u001b[39m] \u001b[38;5;241m=\u001b[39m _v\n\u001b[1;32m   7012\u001b[0m \u001b[38;5;66;03m# Process unknown kwargs\u001b[39;00m\n\u001b[1;32m   7013\u001b[0m \u001b[38;5;66;03m# ----------------------\u001b[39;00m\n\u001b[0;32m-> 7014\u001b[0m \u001b[38;5;28;43mself\u001b[39;49m\u001b[38;5;241;43m.\u001b[39;49m\u001b[43m_process_kwargs\u001b[49m\u001b[43m(\u001b[49m\u001b[38;5;241;43m*\u001b[39;49m\u001b[38;5;241;43m*\u001b[39;49m\u001b[38;5;28;43mdict\u001b[39;49m\u001b[43m(\u001b[49m\u001b[43marg\u001b[49m\u001b[43m,\u001b[49m\u001b[43m \u001b[49m\u001b[38;5;241;43m*\u001b[39;49m\u001b[38;5;241;43m*\u001b[39;49m\u001b[43mkwargs\u001b[49m\u001b[43m)\u001b[49m\u001b[43m)\u001b[49m\n\u001b[1;32m   7016\u001b[0m \u001b[38;5;66;03m# Reset skip_invalid\u001b[39;00m\n\u001b[1;32m   7017\u001b[0m \u001b[38;5;66;03m# ------------------\u001b[39;00m\n\u001b[1;32m   7018\u001b[0m \u001b[38;5;28mself\u001b[39m\u001b[38;5;241m.\u001b[39m_skip_invalid \u001b[38;5;241m=\u001b[39m \u001b[38;5;28;01mFalse\u001b[39;00m\n",
      "File \u001b[0;32m/Library/Frameworks/Python.framework/Versions/3.12/lib/python3.12/site-packages/plotly/basedatatypes.py:5769\u001b[0m, in \u001b[0;36mBaseLayoutType._process_kwargs\u001b[0;34m(self, **kwargs)\u001b[0m\n\u001b[1;32m   5763\u001b[0m \u001b[38;5;250m\u001b[39m\u001b[38;5;124;03m\"\"\"\u001b[39;00m\n\u001b[1;32m   5764\u001b[0m \u001b[38;5;124;03mProcess any extra kwargs that are not predefined as constructor params\u001b[39;00m\n\u001b[1;32m   5765\u001b[0m \u001b[38;5;124;03m\"\"\"\u001b[39;00m\n\u001b[1;32m   5766\u001b[0m unknown_kwargs \u001b[38;5;241m=\u001b[39m {\n\u001b[1;32m   5767\u001b[0m     k: v \u001b[38;5;28;01mfor\u001b[39;00m k, v \u001b[38;5;129;01min\u001b[39;00m kwargs\u001b[38;5;241m.\u001b[39mitems() \u001b[38;5;28;01mif\u001b[39;00m \u001b[38;5;129;01mnot\u001b[39;00m \u001b[38;5;28mself\u001b[39m\u001b[38;5;241m.\u001b[39m_subplot_re_match(k)\n\u001b[1;32m   5768\u001b[0m }\n\u001b[0;32m-> 5769\u001b[0m \u001b[38;5;28;43msuper\u001b[39;49m\u001b[43m(\u001b[49m\u001b[43mBaseLayoutHierarchyType\u001b[49m\u001b[43m,\u001b[49m\u001b[43m \u001b[49m\u001b[38;5;28;43mself\u001b[39;49m\u001b[43m)\u001b[49m\u001b[38;5;241;43m.\u001b[39;49m\u001b[43m_process_kwargs\u001b[49m\u001b[43m(\u001b[49m\u001b[38;5;241;43m*\u001b[39;49m\u001b[38;5;241;43m*\u001b[39;49m\u001b[43munknown_kwargs\u001b[49m\u001b[43m)\u001b[49m\n\u001b[1;32m   5771\u001b[0m subplot_kwargs \u001b[38;5;241m=\u001b[39m {k: v \u001b[38;5;28;01mfor\u001b[39;00m k, v \u001b[38;5;129;01min\u001b[39;00m kwargs\u001b[38;5;241m.\u001b[39mitems() \u001b[38;5;28;01mif\u001b[39;00m \u001b[38;5;28mself\u001b[39m\u001b[38;5;241m.\u001b[39m_subplot_re_match(k)}\n\u001b[1;32m   5773\u001b[0m \u001b[38;5;28;01mfor\u001b[39;00m prop, value \u001b[38;5;129;01min\u001b[39;00m subplot_kwargs\u001b[38;5;241m.\u001b[39mitems():\n",
      "File \u001b[0;32m/Library/Frameworks/Python.framework/Versions/3.12/lib/python3.12/site-packages/plotly/basedatatypes.py:4392\u001b[0m, in \u001b[0;36mBasePlotlyType._process_kwargs\u001b[0;34m(self, **kwargs)\u001b[0m\n\u001b[1;32m   4390\u001b[0m     \u001b[38;5;28mself\u001b[39m[k] \u001b[38;5;241m=\u001b[39m v\n\u001b[1;32m   4391\u001b[0m \u001b[38;5;28;01melif\u001b[39;00m \u001b[38;5;129;01mnot\u001b[39;00m \u001b[38;5;28mself\u001b[39m\u001b[38;5;241m.\u001b[39m_skip_invalid:\n\u001b[0;32m-> 4392\u001b[0m     \u001b[38;5;28;01mraise\u001b[39;00m err\n",
      "\u001b[0;31mValueError\u001b[0m: Invalid property specified for object of type plotly.graph_objs.Layout: 'xlable'\n\nDid you mean \"title\"?\n\n    Valid properties:\n        activeselection\n            :class:`plotly.graph_objects.layout.Activeselection`\n            instance or dict with compatible properties\n        activeshape\n            :class:`plotly.graph_objects.layout.Activeshape`\n            instance or dict with compatible properties\n        annotations\n            A tuple of\n            :class:`plotly.graph_objects.layout.Annotation`\n            instances or dicts with compatible properties\n        annotationdefaults\n            When used in a template (as\n            layout.template.layout.annotationdefaults), sets the\n            default property values to use for elements of\n            layout.annotations\n        autosize\n            Determines whether or not a layout width or height that\n            has been left undefined by the user is initialized on\n            each relayout. Note that, regardless of this attribute,\n            an undefined layout width or height is always\n            initialized on the first call to plot.\n        autotypenumbers\n            Using \"strict\" a numeric string in trace data is not\n            converted to a number. Using *convert types* a numeric\n            string in trace data may be treated as a number during\n            automatic axis `type` detection. This is the default\n            value; however it could be overridden for individual\n            axes.\n        barcornerradius\n            Sets the rounding of bar corners. May be an integer\n            number of pixels, or a percentage of bar width (as a\n            string ending in %).\n        bargap\n            Sets the gap (in plot fraction) between bars of\n            adjacent location coordinates.\n        bargroupgap\n            Sets the gap (in plot fraction) between bars of the\n            same location coordinate.\n        barmode\n            Determines how bars at the same location coordinate are\n            displayed on the graph. With \"stack\", the bars are\n            stacked on top of one another With \"relative\", the bars\n            are stacked on top of one another, with negative values\n            below the axis, positive values above With \"group\", the\n            bars are plotted next to one another centered around\n            the shared location. With \"overlay\", the bars are\n            plotted over one another, you might need to reduce\n            \"opacity\" to see multiple bars.\n        barnorm\n            Sets the normalization for bar traces on the graph.\n            With \"fraction\", the value of each bar is divided by\n            the sum of all values at that location coordinate.\n            \"percent\" is the same but multiplied by 100 to show\n            percentages.\n        boxgap\n            Sets the gap (in plot fraction) between boxes of\n            adjacent location coordinates. Has no effect on traces\n            that have \"width\" set.\n        boxgroupgap\n            Sets the gap (in plot fraction) between boxes of the\n            same location coordinate. Has no effect on traces that\n            have \"width\" set.\n        boxmode\n            Determines how boxes at the same location coordinate\n            are displayed on the graph. If \"group\", the boxes are\n            plotted next to one another centered around the shared\n            location. If \"overlay\", the boxes are plotted over one\n            another, you might need to set \"opacity\" to see them\n            multiple boxes. Has no effect on traces that have\n            \"width\" set.\n        calendar\n            Sets the default calendar system to use for\n            interpreting and displaying dates throughout the plot.\n        clickmode\n            Determines the mode of single click interactions.\n            \"event\" is the default value and emits the\n            `plotly_click` event. In addition this mode emits the\n            `plotly_selected` event in drag modes \"lasso\" and\n            \"select\", but with no event data attached (kept for\n            compatibility reasons). The \"select\" flag enables\n            selecting single data points via click. This mode also\n            supports persistent selections, meaning that pressing\n            Shift while clicking, adds to / subtracts from an\n            existing selection. \"select\" with `hovermode`: \"x\" can\n            be confusing, consider explicitly setting `hovermode`:\n            \"closest\" when using this feature. Selection events are\n            sent accordingly as long as \"event\" flag is set as\n            well. When the \"event\" flag is missing, `plotly_click`\n            and `plotly_selected` events are not fired.\n        coloraxis\n            :class:`plotly.graph_objects.layout.Coloraxis` instance\n            or dict with compatible properties\n        colorscale\n            :class:`plotly.graph_objects.layout.Colorscale`\n            instance or dict with compatible properties\n        colorway\n            Sets the default trace colors.\n        computed\n            Placeholder for exporting automargin-impacting values\n            namely `margin.t`, `margin.b`, `margin.l` and\n            `margin.r` in \"full-json\" mode.\n        datarevision\n            If provided, a changed value tells `Plotly.react` that\n            one or more data arrays has changed. This way you can\n            modify arrays in-place rather than making a complete\n            new copy for an incremental change. If NOT provided,\n            `Plotly.react` assumes that data arrays are being\n            treated as immutable, thus any data array with a\n            different identity from its predecessor contains new\n            data.\n        dragmode\n            Determines the mode of drag interactions. \"select\" and\n            \"lasso\" apply only to scatter traces with markers or\n            text. \"orbit\" and \"turntable\" apply only to 3D scenes.\n        editrevision\n            Controls persistence of user-driven changes in\n            `editable: true` configuration, other than trace names\n            and axis titles. Defaults to `layout.uirevision`.\n        extendfunnelareacolors\n            If `true`, the funnelarea slice colors (whether given\n            by `funnelareacolorway` or inherited from `colorway`)\n            will be extended to three times its original length by\n            first repeating every color 20% lighter then each color\n            20% darker. This is intended to reduce the likelihood\n            of reusing the same color when you have many slices,\n            but you can set `false` to disable. Colors provided in\n            the trace, using `marker.colors`, are never extended.\n        extendiciclecolors\n            If `true`, the icicle slice colors (whether given by\n            `iciclecolorway` or inherited from `colorway`) will be\n            extended to three times its original length by first\n            repeating every color 20% lighter then each color 20%\n            darker. This is intended to reduce the likelihood of\n            reusing the same color when you have many slices, but\n            you can set `false` to disable. Colors provided in the\n            trace, using `marker.colors`, are never extended.\n        extendpiecolors\n            If `true`, the pie slice colors (whether given by\n            `piecolorway` or inherited from `colorway`) will be\n            extended to three times its original length by first\n            repeating every color 20% lighter then each color 20%\n            darker. This is intended to reduce the likelihood of\n            reusing the same color when you have many slices, but\n            you can set `false` to disable. Colors provided in the\n            trace, using `marker.colors`, are never extended.\n        extendsunburstcolors\n            If `true`, the sunburst slice colors (whether given by\n            `sunburstcolorway` or inherited from `colorway`) will\n            be extended to three times its original length by first\n            repeating every color 20% lighter then each color 20%\n            darker. This is intended to reduce the likelihood of\n            reusing the same color when you have many slices, but\n            you can set `false` to disable. Colors provided in the\n            trace, using `marker.colors`, are never extended.\n        extendtreemapcolors\n            If `true`, the treemap slice colors (whether given by\n            `treemapcolorway` or inherited from `colorway`) will be\n            extended to three times its original length by first\n            repeating every color 20% lighter then each color 20%\n            darker. This is intended to reduce the likelihood of\n            reusing the same color when you have many slices, but\n            you can set `false` to disable. Colors provided in the\n            trace, using `marker.colors`, are never extended.\n        font\n            Sets the global font. Note that fonts used in traces\n            and other layout components inherit from the global\n            font.\n        funnelareacolorway\n            Sets the default funnelarea slice colors. Defaults to\n            the main `colorway` used for trace colors. If you\n            specify a new list here it can still be extended with\n            lighter and darker colors, see\n            `extendfunnelareacolors`.\n        funnelgap\n            Sets the gap (in plot fraction) between bars of\n            adjacent location coordinates.\n        funnelgroupgap\n            Sets the gap (in plot fraction) between bars of the\n            same location coordinate.\n        funnelmode\n            Determines how bars at the same location coordinate are\n            displayed on the graph. With \"stack\", the bars are\n            stacked on top of one another With \"group\", the bars\n            are plotted next to one another centered around the\n            shared location. With \"overlay\", the bars are plotted\n            over one another, you might need to reduce \"opacity\" to\n            see multiple bars.\n        geo\n            :class:`plotly.graph_objects.layout.Geo` instance or\n            dict with compatible properties\n        grid\n            :class:`plotly.graph_objects.layout.Grid` instance or\n            dict with compatible properties\n        height\n            Sets the plot's height (in px).\n        hiddenlabels\n            hiddenlabels is the funnelarea & pie chart analog of\n            visible:'legendonly' but it can contain many labels,\n            and can simultaneously hide slices from several\n            pies/funnelarea charts\n        hiddenlabelssrc\n            Sets the source reference on Chart Studio Cloud for\n            `hiddenlabels`.\n        hidesources\n            Determines whether or not a text link citing the data\n            source is placed at the bottom-right cored of the\n            figure. Has only an effect only on graphs that have\n            been generated via forked graphs from the Chart Studio\n            Cloud (at https://chart-studio.plotly.com or on-\n            premise).\n        hoverdistance\n            Sets the default distance (in pixels) to look for data\n            to add hover labels (-1 means no cutoff, 0 means no\n            looking for data). This is only a real distance for\n            hovering on point-like objects, like scatter points.\n            For area-like objects (bars, scatter fills, etc)\n            hovering is on inside the area and off outside, but\n            these objects will not supersede hover on point-like\n            objects in case of conflict.\n        hoverlabel\n            :class:`plotly.graph_objects.layout.Hoverlabel`\n            instance or dict with compatible properties\n        hovermode\n            Determines the mode of hover interactions. If\n            \"closest\", a single hoverlabel will appear for the\n            \"closest\" point within the `hoverdistance`. If \"x\" (or\n            \"y\"), multiple hoverlabels will appear for multiple\n            points at the \"closest\" x- (or y-) coordinate within\n            the `hoverdistance`, with the caveat that no more than\n            one hoverlabel will appear per trace. If *x unified*\n            (or *y unified*), a single hoverlabel will appear\n            multiple points at the closest x- (or y-) coordinate\n            within the `hoverdistance` with the caveat that no more\n            than one hoverlabel will appear per trace. In this\n            mode, spikelines are enabled by default perpendicular\n            to the specified axis. If false, hover interactions are\n            disabled.\n        iciclecolorway\n            Sets the default icicle slice colors. Defaults to the\n            main `colorway` used for trace colors. If you specify a\n            new list here it can still be extended with lighter and\n            darker colors, see `extendiciclecolors`.\n        images\n            A tuple of :class:`plotly.graph_objects.layout.Image`\n            instances or dicts with compatible properties\n        imagedefaults\n            When used in a template (as\n            layout.template.layout.imagedefaults), sets the default\n            property values to use for elements of layout.images\n        legend\n            :class:`plotly.graph_objects.layout.Legend` instance or\n            dict with compatible properties\n        mapbox\n            :class:`plotly.graph_objects.layout.Mapbox` instance or\n            dict with compatible properties\n        margin\n            :class:`plotly.graph_objects.layout.Margin` instance or\n            dict with compatible properties\n        meta\n            Assigns extra meta information that can be used in\n            various `text` attributes. Attributes such as the\n            graph, axis and colorbar `title.text`, annotation\n            `text` `trace.name` in legend items, `rangeselector`,\n            `updatemenus` and `sliders` `label` text all support\n            `meta`. One can access `meta` fields using template\n            strings: `%{meta[i]}` where `i` is the index of the\n            `meta` item in question. `meta` can also be an object\n            for example `{key: value}` which can be accessed\n            %{meta[key]}.\n        metasrc\n            Sets the source reference on Chart Studio Cloud for\n            `meta`.\n        minreducedheight\n            Minimum height of the plot with margin.automargin\n            applied (in px)\n        minreducedwidth\n            Minimum width of the plot with margin.automargin\n            applied (in px)\n        modebar\n            :class:`plotly.graph_objects.layout.Modebar` instance\n            or dict with compatible properties\n        newselection\n            :class:`plotly.graph_objects.layout.Newselection`\n            instance or dict with compatible properties\n        newshape\n            :class:`plotly.graph_objects.layout.Newshape` instance\n            or dict with compatible properties\n        paper_bgcolor\n            Sets the background color of the paper where the graph\n            is drawn.\n        piecolorway\n            Sets the default pie slice colors. Defaults to the main\n            `colorway` used for trace colors. If you specify a new\n            list here it can still be extended with lighter and\n            darker colors, see `extendpiecolors`.\n        plot_bgcolor\n            Sets the background color of the plotting area in-\n            between x and y axes.\n        polar\n            :class:`plotly.graph_objects.layout.Polar` instance or\n            dict with compatible properties\n        scattergap\n            Sets the gap (in plot fraction) between scatter points\n            of adjacent location coordinates. Defaults to `bargap`.\n        scattermode\n            Determines how scatter points at the same location\n            coordinate are displayed on the graph. With \"group\",\n            the scatter points are plotted next to one another\n            centered around the shared location. With \"overlay\",\n            the scatter points are plotted over one another, you\n            might need to reduce \"opacity\" to see multiple scatter\n            points.\n        scene\n            :class:`plotly.graph_objects.layout.Scene` instance or\n            dict with compatible properties\n        selectdirection\n            When `dragmode` is set to \"select\", this limits the\n            selection of the drag to horizontal, vertical or\n            diagonal. \"h\" only allows horizontal selection, \"v\"\n            only vertical, \"d\" only diagonal and \"any\" sets no\n            limit.\n        selectionrevision\n            Controls persistence of user-driven changes in selected\n            points from all traces.\n        selections\n            A tuple of\n            :class:`plotly.graph_objects.layout.Selection`\n            instances or dicts with compatible properties\n        selectiondefaults\n            When used in a template (as\n            layout.template.layout.selectiondefaults), sets the\n            default property values to use for elements of\n            layout.selections\n        separators\n            Sets the decimal and thousand separators. For example,\n            *. * puts a '.' before decimals and a space between\n            thousands. In English locales, dflt is \".,\" but other\n            locales may alter this default.\n        shapes\n            A tuple of :class:`plotly.graph_objects.layout.Shape`\n            instances or dicts with compatible properties\n        shapedefaults\n            When used in a template (as\n            layout.template.layout.shapedefaults), sets the default\n            property values to use for elements of layout.shapes\n        showlegend\n            Determines whether or not a legend is drawn. Default is\n            `true` if there is a trace to show and any of these: a)\n            Two or more traces would by default be shown in the\n            legend. b) One pie trace is shown in the legend. c) One\n            trace is explicitly given with `showlegend: true`.\n        sliders\n            A tuple of :class:`plotly.graph_objects.layout.Slider`\n            instances or dicts with compatible properties\n        sliderdefaults\n            When used in a template (as\n            layout.template.layout.sliderdefaults), sets the\n            default property values to use for elements of\n            layout.sliders\n        smith\n            :class:`plotly.graph_objects.layout.Smith` instance or\n            dict with compatible properties\n        spikedistance\n            Sets the default distance (in pixels) to look for data\n            to draw spikelines to (-1 means no cutoff, 0 means no\n            looking for data). As with hoverdistance, distance does\n            not apply to area-like objects. In addition, some\n            objects can be hovered on but will not generate\n            spikelines, such as scatter fills.\n        sunburstcolorway\n            Sets the default sunburst slice colors. Defaults to the\n            main `colorway` used for trace colors. If you specify a\n            new list here it can still be extended with lighter and\n            darker colors, see `extendsunburstcolors`.\n        template\n            Default attributes to be applied to the plot. This\n            should be a dict with format: `{'layout':\n            layoutTemplate, 'data': {trace_type: [traceTemplate,\n            ...], ...}}` where `layoutTemplate` is a dict matching\n            the structure of `figure.layout` and `traceTemplate` is\n            a dict matching the structure of the trace with type\n            `trace_type` (e.g. 'scatter'). Alternatively, this may\n            be specified as an instance of\n            plotly.graph_objs.layout.Template.  Trace templates are\n            applied cyclically to traces of each type. Container\n            arrays (eg `annotations`) have special handling: An\n            object ending in `defaults` (eg `annotationdefaults`)\n            is applied to each array item. But if an item has a\n            `templateitemname` key we look in the template array\n            for an item with matching `name` and apply that\n            instead. If no matching `name` is found we mark the\n            item invisible. Any named template item not referenced\n            is appended to the end of the array, so this can be\n            used to add a watermark annotation or a logo image, for\n            example. To omit one of these items on the plot, make\n            an item with matching `templateitemname` and `visible:\n            false`.\n        ternary\n            :class:`plotly.graph_objects.layout.Ternary` instance\n            or dict with compatible properties\n        title\n            :class:`plotly.graph_objects.layout.Title` instance or\n            dict with compatible properties\n        titlefont\n            Deprecated: Please use layout.title.font instead. Sets\n            the title font. Note that the title's font used to be\n            customized by the now deprecated `titlefont` attribute.\n        transition\n            Sets transition options used during Plotly.react\n            updates.\n        treemapcolorway\n            Sets the default treemap slice colors. Defaults to the\n            main `colorway` used for trace colors. If you specify a\n            new list here it can still be extended with lighter and\n            darker colors, see `extendtreemapcolors`.\n        uirevision\n            Used to allow user interactions with the plot to\n            persist after `Plotly.react` calls that are unaware of\n            these interactions. If `uirevision` is omitted, or if\n            it is given and it changed from the previous\n            `Plotly.react` call, the exact new figure is used. If\n            `uirevision` is truthy and did NOT change, any\n            attribute that has been affected by user interactions\n            and did not receive a different value in the new figure\n            will keep the interaction value. `layout.uirevision`\n            attribute serves as the default for `uirevision`\n            attributes in various sub-containers. For finer control\n            you can set these sub-attributes directly. For example,\n            if your app separately controls the data on the x and y\n            axes you might set `xaxis.uirevision=*time*` and\n            `yaxis.uirevision=*cost*`. Then if only the y data is\n            changed, you can update `yaxis.uirevision=*quantity*`\n            and the y axis range will reset but the x axis range\n            will retain any user-driven zoom.\n        uniformtext\n            :class:`plotly.graph_objects.layout.Uniformtext`\n            instance or dict with compatible properties\n        updatemenus\n            A tuple of\n            :class:`plotly.graph_objects.layout.Updatemenu`\n            instances or dicts with compatible properties\n        updatemenudefaults\n            When used in a template (as\n            layout.template.layout.updatemenudefaults), sets the\n            default property values to use for elements of\n            layout.updatemenus\n        violingap\n            Sets the gap (in plot fraction) between violins of\n            adjacent location coordinates. Has no effect on traces\n            that have \"width\" set.\n        violingroupgap\n            Sets the gap (in plot fraction) between violins of the\n            same location coordinate. Has no effect on traces that\n            have \"width\" set.\n        violinmode\n            Determines how violins at the same location coordinate\n            are displayed on the graph. If \"group\", the violins are\n            plotted next to one another centered around the shared\n            location. If \"overlay\", the violins are plotted over\n            one another, you might need to set \"opacity\" to see\n            them multiple violins. Has no effect on traces that\n            have \"width\" set.\n        waterfallgap\n            Sets the gap (in plot fraction) between bars of\n            adjacent location coordinates.\n        waterfallgroupgap\n            Sets the gap (in plot fraction) between bars of the\n            same location coordinate.\n        waterfallmode\n            Determines how bars at the same location coordinate are\n            displayed on the graph. With \"group\", the bars are\n            plotted next to one another centered around the shared\n            location. With \"overlay\", the bars are plotted over one\n            another, you might need to reduce \"opacity\" to see\n            multiple bars.\n        width\n            Sets the plot's width (in px).\n        xaxis\n            :class:`plotly.graph_objects.layout.XAxis` instance or\n            dict with compatible properties\n        yaxis\n            :class:`plotly.graph_objects.layout.YAxis` instance or\n            dict with compatible properties\n        \nDid you mean \"title\"?\n\nBad property path:\nxlable\n^^^^^^"
     ]
    }
   ],
   "source": [
    "col = 'month_added'\n",
    "vc1 = d1[col].value_counts().reset_index()\n",
    "#vc1 = vc1.rename(columns = {col : \"count\", \"index\" : col})\n",
    "vc1['percent'] = vc1['count'].apply(lambda x : 100*x/sum(vc1['count']))\n",
    "vc1 = vc1.sort_values(col)\n",
    "\n",
    "trace1 = go.Bar(x=vc1[col], y=vc1[\"count\"], name=\"TV Shows\", marker=dict(color=\"#a678de\"))\n",
    "data = [trace1]\n",
    "layout = go.Layout(xlable ='months',ylabel='content' ,title=\"In which month, the content is added the most?\", legend=dict(x=0.1, y=1.1, orientation=\"h\"))\n",
    "fig = go.Figure(data, layout=layout)\n",
    "fig.show()"
   ]
  },
  {
   "cell_type": "code",
   "execution_count": 28,
   "metadata": {},
   "outputs": [
    {
     "data": {
      "text/html": [
       "<div>\n",
       "<style scoped>\n",
       "    .dataframe tbody tr th:only-of-type {\n",
       "        vertical-align: middle;\n",
       "    }\n",
       "\n",
       "    .dataframe tbody tr th {\n",
       "        vertical-align: top;\n",
       "    }\n",
       "\n",
       "    .dataframe thead th {\n",
       "        text-align: right;\n",
       "    }\n",
       "</style>\n",
       "<table border=\"1\" class=\"dataframe\">\n",
       "  <thead>\n",
       "    <tr style=\"text-align: right;\">\n",
       "      <th></th>\n",
       "      <th>title</th>\n",
       "      <th>release_year</th>\n",
       "    </tr>\n",
       "  </thead>\n",
       "  <tbody>\n",
       "    <tr>\n",
       "      <th>4929</th>\n",
       "      <td>Prelude to War</td>\n",
       "      <td>1942</td>\n",
       "    </tr>\n",
       "    <tr>\n",
       "      <th>4931</th>\n",
       "      <td>The Battle of Midway</td>\n",
       "      <td>1942</td>\n",
       "    </tr>\n",
       "    <tr>\n",
       "      <th>4946</th>\n",
       "      <td>WWII: Report from the Aleutians</td>\n",
       "      <td>1943</td>\n",
       "    </tr>\n",
       "    <tr>\n",
       "      <th>4943</th>\n",
       "      <td>Why We Fight: The Battle of Russia</td>\n",
       "      <td>1943</td>\n",
       "    </tr>\n",
       "    <tr>\n",
       "      <th>4941</th>\n",
       "      <td>Undercover: How to Operate Behind Enemy Lines</td>\n",
       "      <td>1943</td>\n",
       "    </tr>\n",
       "    <tr>\n",
       "      <th>4936</th>\n",
       "      <td>The Memphis Belle: A Story of a\\nFlying Fortress</td>\n",
       "      <td>1944</td>\n",
       "    </tr>\n",
       "    <tr>\n",
       "      <th>4938</th>\n",
       "      <td>The Negro Soldier</td>\n",
       "      <td>1944</td>\n",
       "    </tr>\n",
       "    <tr>\n",
       "      <th>4940</th>\n",
       "      <td>Tunisian Victory</td>\n",
       "      <td>1944</td>\n",
       "    </tr>\n",
       "    <tr>\n",
       "      <th>4923</th>\n",
       "      <td>Know Your Enemy - Japan</td>\n",
       "      <td>1945</td>\n",
       "    </tr>\n",
       "    <tr>\n",
       "      <th>4930</th>\n",
       "      <td>San Pietro</td>\n",
       "      <td>1945</td>\n",
       "    </tr>\n",
       "    <tr>\n",
       "      <th>4927</th>\n",
       "      <td>Nazi Concentration Camps</td>\n",
       "      <td>1945</td>\n",
       "    </tr>\n",
       "    <tr>\n",
       "      <th>3085</th>\n",
       "      <td>The Stranger</td>\n",
       "      <td>1946</td>\n",
       "    </tr>\n",
       "    <tr>\n",
       "      <th>4924</th>\n",
       "      <td>Let There Be Light</td>\n",
       "      <td>1946</td>\n",
       "    </tr>\n",
       "    <tr>\n",
       "      <th>4939</th>\n",
       "      <td>Thunderbolt</td>\n",
       "      <td>1947</td>\n",
       "    </tr>\n",
       "    <tr>\n",
       "      <th>5817</th>\n",
       "      <td>White Christmas</td>\n",
       "      <td>1954</td>\n",
       "    </tr>\n",
       "  </tbody>\n",
       "</table>\n",
       "</div>"
      ],
      "text/plain": [
       "                                                 title  release_year\n",
       "4929                                    Prelude to War          1942\n",
       "4931                              The Battle of Midway          1942\n",
       "4946                   WWII: Report from the Aleutians          1943\n",
       "4943                Why We Fight: The Battle of Russia          1943\n",
       "4941     Undercover: How to Operate Behind Enemy Lines          1943\n",
       "4936  The Memphis Belle: A Story of a\\nFlying Fortress          1944\n",
       "4938                                 The Negro Soldier          1944\n",
       "4940                                  Tunisian Victory          1944\n",
       "4923                           Know Your Enemy - Japan          1945\n",
       "4930                                        San Pietro          1945\n",
       "4927                          Nazi Concentration Camps          1945\n",
       "3085                                      The Stranger          1946\n",
       "4924                                Let There Be Light          1946\n",
       "4939                                       Thunderbolt          1947\n",
       "5817                                   White Christmas          1954"
      ]
     },
     "execution_count": 28,
     "metadata": {},
     "output_type": "execute_result"
    }
   ],
   "source": [
    "#Some of the oldest movies on Netflix\n",
    "\n",
    "\n",
    "small = netflix.sort_values(\"release_year\", ascending = True)\n",
    "small = small[small['duration'] != \"\"]\n",
    "small[['title', \"release_year\"]][:15]\n"
   ]
  },
  {
   "cell_type": "code",
   "execution_count": 29,
   "metadata": {},
   "outputs": [
    {
     "data": {
      "text/html": [
       "<div>\n",
       "<style scoped>\n",
       "    .dataframe tbody tr th:only-of-type {\n",
       "        vertical-align: middle;\n",
       "    }\n",
       "\n",
       "    .dataframe tbody tr th {\n",
       "        vertical-align: top;\n",
       "    }\n",
       "\n",
       "    .dataframe thead th {\n",
       "        text-align: right;\n",
       "    }\n",
       "</style>\n",
       "<table border=\"1\" class=\"dataframe\">\n",
       "  <thead>\n",
       "    <tr style=\"text-align: right;\">\n",
       "      <th></th>\n",
       "      <th>show_id</th>\n",
       "      <th>title</th>\n",
       "      <th>director</th>\n",
       "      <th>cast</th>\n",
       "      <th>country</th>\n",
       "      <th>date_added</th>\n",
       "      <th>release_year</th>\n",
       "      <th>rating</th>\n",
       "      <th>duration</th>\n",
       "      <th>listed_in</th>\n",
       "      <th>description</th>\n",
       "      <th>type</th>\n",
       "      <th>year_added</th>\n",
       "      <th>month_added</th>\n",
       "      <th>season_count</th>\n",
       "    </tr>\n",
       "  </thead>\n",
       "  <tbody>\n",
       "    <tr>\n",
       "      <th>13</th>\n",
       "      <td>81152641</td>\n",
       "      <td>The Charming Stepmom</td>\n",
       "      <td>Not Available</td>\n",
       "      <td>Shahkrit Yamnarm, View Wannarot Sontichai, Kri...</td>\n",
       "      <td>Not Available</td>\n",
       "      <td>2019-11-29</td>\n",
       "      <td>2019</td>\n",
       "      <td>TV-14</td>\n",
       "      <td></td>\n",
       "      <td>International TV Shows, Romantic TV Shows, TV ...</td>\n",
       "      <td>A quirky fashion student becomes the nanny of ...</td>\n",
       "      <td>TV Show</td>\n",
       "      <td>2019.0</td>\n",
       "      <td>11.0</td>\n",
       "      <td></td>\n",
       "    </tr>\n",
       "    <tr>\n",
       "      <th>18</th>\n",
       "      <td>81161538</td>\n",
       "      <td>Lugar de Mulher</td>\n",
       "      <td>Not Available</td>\n",
       "      <td>Not Available</td>\n",
       "      <td>Brazil</td>\n",
       "      <td>2019-11-28</td>\n",
       "      <td>2019</td>\n",
       "      <td>TV-MA</td>\n",
       "      <td></td>\n",
       "      <td>International TV Shows, Stand-Up Comedy &amp; Talk...</td>\n",
       "      <td>Four comedians from Brazil riff on sexuality, ...</td>\n",
       "      <td>TV Show</td>\n",
       "      <td>2019.0</td>\n",
       "      <td>11.0</td>\n",
       "      <td></td>\n",
       "    </tr>\n",
       "    <tr>\n",
       "      <th>19</th>\n",
       "      <td>80997965</td>\n",
       "      <td>Merry Happy Whatever</td>\n",
       "      <td>Not Available</td>\n",
       "      <td>Dennis Quaid, Bridgit Mendler, Brent Morin, As...</td>\n",
       "      <td>United States</td>\n",
       "      <td>2019-11-28</td>\n",
       "      <td>2019</td>\n",
       "      <td>TV-PG</td>\n",
       "      <td></td>\n",
       "      <td>TV Comedies</td>\n",
       "      <td>A struggling LA musician tries to win over his...</td>\n",
       "      <td>TV Show</td>\n",
       "      <td>2019.0</td>\n",
       "      <td>11.0</td>\n",
       "      <td></td>\n",
       "    </tr>\n",
       "    <tr>\n",
       "      <th>20</th>\n",
       "      <td>81018979</td>\n",
       "      <td>Mythomaniac</td>\n",
       "      <td>Not Available</td>\n",
       "      <td>Marina Hands, Mathieu Demy, Marie Drion, Jérém...</td>\n",
       "      <td>France</td>\n",
       "      <td>2019-11-28</td>\n",
       "      <td>2019</td>\n",
       "      <td>TV-MA</td>\n",
       "      <td></td>\n",
       "      <td>International TV Shows, TV Comedies, TV Dramas</td>\n",
       "      <td>Burned out and taken for granted, a working mo...</td>\n",
       "      <td>TV Show</td>\n",
       "      <td>2019.0</td>\n",
       "      <td>11.0</td>\n",
       "      <td></td>\n",
       "    </tr>\n",
       "    <tr>\n",
       "      <th>43</th>\n",
       "      <td>81208888</td>\n",
       "      <td>Once Upon A Time In Lingjian Mountain</td>\n",
       "      <td>Not Available</td>\n",
       "      <td>Xu Kai, Sandrine Pinna, Ryan Zhu, Gao Yuer, Cr...</td>\n",
       "      <td>China</td>\n",
       "      <td>2019-11-23</td>\n",
       "      <td>2019</td>\n",
       "      <td>TV-PG</td>\n",
       "      <td></td>\n",
       "      <td>International TV Shows, TV Comedies, TV Sci-Fi...</td>\n",
       "      <td>As the nine continents face a crisis, a young ...</td>\n",
       "      <td>TV Show</td>\n",
       "      <td>2019.0</td>\n",
       "      <td>11.0</td>\n",
       "      <td></td>\n",
       "    </tr>\n",
       "    <tr>\n",
       "      <th>...</th>\n",
       "      <td>...</td>\n",
       "      <td>...</td>\n",
       "      <td>...</td>\n",
       "      <td>...</td>\n",
       "      <td>...</td>\n",
       "      <td>...</td>\n",
       "      <td>...</td>\n",
       "      <td>...</td>\n",
       "      <td>...</td>\n",
       "      <td>...</td>\n",
       "      <td>...</td>\n",
       "      <td>...</td>\n",
       "      <td>...</td>\n",
       "      <td>...</td>\n",
       "      <td>...</td>\n",
       "    </tr>\n",
       "    <tr>\n",
       "      <th>5781</th>\n",
       "      <td>70221438</td>\n",
       "      <td>Lilyhammer</td>\n",
       "      <td>Not Available</td>\n",
       "      <td>Steven Van Zandt, Trond Fausa, Steinar Sagen, ...</td>\n",
       "      <td>Norway, United States</td>\n",
       "      <td>NaT</td>\n",
       "      <td>2014</td>\n",
       "      <td>TV-MA</td>\n",
       "      <td></td>\n",
       "      <td>Crime TV Shows, TV Comedies, TV Dramas</td>\n",
       "      <td>After testifying against the Mafia, ex-gangste...</td>\n",
       "      <td>TV Show</td>\n",
       "      <td>NaN</td>\n",
       "      <td>NaN</td>\n",
       "      <td></td>\n",
       "    </tr>\n",
       "    <tr>\n",
       "      <th>5795</th>\n",
       "      <td>70136122</td>\n",
       "      <td>Weeds</td>\n",
       "      <td>Not Available</td>\n",
       "      <td>Mary-Louise Parker, Hunter Parrish, Alexander ...</td>\n",
       "      <td>United States</td>\n",
       "      <td>NaT</td>\n",
       "      <td>2012</td>\n",
       "      <td>TV-MA</td>\n",
       "      <td></td>\n",
       "      <td>TV Comedies, TV Dramas</td>\n",
       "      <td>A suburban mother starts selling marijuana to ...</td>\n",
       "      <td>TV Show</td>\n",
       "      <td>NaN</td>\n",
       "      <td>NaN</td>\n",
       "      <td></td>\n",
       "    </tr>\n",
       "    <tr>\n",
       "      <th>5810</th>\n",
       "      <td>70259784</td>\n",
       "      <td>DreamWorks Happy Holidays from Madagascar</td>\n",
       "      <td>Not Available</td>\n",
       "      <td>Tom McGrath, Chris Miller, Christopher Knights...</td>\n",
       "      <td>United States</td>\n",
       "      <td>2013-04-01</td>\n",
       "      <td>2005</td>\n",
       "      <td>TV-PG</td>\n",
       "      <td></td>\n",
       "      <td>Kids' TV, TV Comedies</td>\n",
       "      <td>Madagascar goes wild with holiday spirit in th...</td>\n",
       "      <td>TV Show</td>\n",
       "      <td>2013.0</td>\n",
       "      <td>4.0</td>\n",
       "      <td></td>\n",
       "    </tr>\n",
       "    <tr>\n",
       "      <th>5814</th>\n",
       "      <td>70258566</td>\n",
       "      <td>DreamWorks Spooky Stories: Volume 2</td>\n",
       "      <td>Not Available</td>\n",
       "      <td>Seth Rogen, Kiefer Sutherland, Will Arnett, Hu...</td>\n",
       "      <td>Not Available</td>\n",
       "      <td>2012-10-24</td>\n",
       "      <td>2011</td>\n",
       "      <td>TV-PG</td>\n",
       "      <td></td>\n",
       "      <td>Kids' TV, TV Comedies</td>\n",
       "      <td>The Shrek characters parody the music video \"T...</td>\n",
       "      <td>TV Show</td>\n",
       "      <td>2012.0</td>\n",
       "      <td>10.0</td>\n",
       "      <td></td>\n",
       "    </tr>\n",
       "    <tr>\n",
       "      <th>5815</th>\n",
       "      <td>70242630</td>\n",
       "      <td>DreamWorks Shrek's Swamp Stories</td>\n",
       "      <td>Not Available</td>\n",
       "      <td>Mike Myers, Eddie Murphy, Cameron Diaz, Antoni...</td>\n",
       "      <td>United States</td>\n",
       "      <td>2012-08-17</td>\n",
       "      <td>2008</td>\n",
       "      <td>TV-PG</td>\n",
       "      <td></td>\n",
       "      <td>Kids' TV, TV Action &amp; Adventure, TV Comedies</td>\n",
       "      <td>Shrek celebrates Halloween, Puss in Boots is c...</td>\n",
       "      <td>TV Show</td>\n",
       "      <td>2012.0</td>\n",
       "      <td>8.0</td>\n",
       "      <td></td>\n",
       "    </tr>\n",
       "  </tbody>\n",
       "</table>\n",
       "<p>425 rows × 15 columns</p>\n",
       "</div>"
      ],
      "text/plain": [
       "       show_id                                      title       director  \\\n",
       "13    81152641                       The Charming Stepmom  Not Available   \n",
       "18    81161538                            Lugar de Mulher  Not Available   \n",
       "19    80997965                       Merry Happy Whatever  Not Available   \n",
       "20    81018979                                Mythomaniac  Not Available   \n",
       "43    81208888      Once Upon A Time In Lingjian Mountain  Not Available   \n",
       "...        ...                                        ...            ...   \n",
       "5781  70221438                                 Lilyhammer  Not Available   \n",
       "5795  70136122                                      Weeds  Not Available   \n",
       "5810  70259784  DreamWorks Happy Holidays from Madagascar  Not Available   \n",
       "5814  70258566        DreamWorks Spooky Stories: Volume 2  Not Available   \n",
       "5815  70242630           DreamWorks Shrek's Swamp Stories  Not Available   \n",
       "\n",
       "                                                   cast  \\\n",
       "13    Shahkrit Yamnarm, View Wannarot Sontichai, Kri...   \n",
       "18                                        Not Available   \n",
       "19    Dennis Quaid, Bridgit Mendler, Brent Morin, As...   \n",
       "20    Marina Hands, Mathieu Demy, Marie Drion, Jérém...   \n",
       "43    Xu Kai, Sandrine Pinna, Ryan Zhu, Gao Yuer, Cr...   \n",
       "...                                                 ...   \n",
       "5781  Steven Van Zandt, Trond Fausa, Steinar Sagen, ...   \n",
       "5795  Mary-Louise Parker, Hunter Parrish, Alexander ...   \n",
       "5810  Tom McGrath, Chris Miller, Christopher Knights...   \n",
       "5814  Seth Rogen, Kiefer Sutherland, Will Arnett, Hu...   \n",
       "5815  Mike Myers, Eddie Murphy, Cameron Diaz, Antoni...   \n",
       "\n",
       "                    country date_added  release_year rating duration  \\\n",
       "13            Not Available 2019-11-29          2019  TV-14            \n",
       "18                   Brazil 2019-11-28          2019  TV-MA            \n",
       "19            United States 2019-11-28          2019  TV-PG            \n",
       "20                   France 2019-11-28          2019  TV-MA            \n",
       "43                    China 2019-11-23          2019  TV-PG            \n",
       "...                     ...        ...           ...    ...      ...   \n",
       "5781  Norway, United States        NaT          2014  TV-MA            \n",
       "5795          United States        NaT          2012  TV-MA            \n",
       "5810          United States 2013-04-01          2005  TV-PG            \n",
       "5814          Not Available 2012-10-24          2011  TV-PG            \n",
       "5815          United States 2012-08-17          2008  TV-PG            \n",
       "\n",
       "                                              listed_in  \\\n",
       "13    International TV Shows, Romantic TV Shows, TV ...   \n",
       "18    International TV Shows, Stand-Up Comedy & Talk...   \n",
       "19                                          TV Comedies   \n",
       "20       International TV Shows, TV Comedies, TV Dramas   \n",
       "43    International TV Shows, TV Comedies, TV Sci-Fi...   \n",
       "...                                                 ...   \n",
       "5781             Crime TV Shows, TV Comedies, TV Dramas   \n",
       "5795                             TV Comedies, TV Dramas   \n",
       "5810                              Kids' TV, TV Comedies   \n",
       "5814                              Kids' TV, TV Comedies   \n",
       "5815       Kids' TV, TV Action & Adventure, TV Comedies   \n",
       "\n",
       "                                            description     type  year_added  \\\n",
       "13    A quirky fashion student becomes the nanny of ...  TV Show      2019.0   \n",
       "18    Four comedians from Brazil riff on sexuality, ...  TV Show      2019.0   \n",
       "19    A struggling LA musician tries to win over his...  TV Show      2019.0   \n",
       "20    Burned out and taken for granted, a working mo...  TV Show      2019.0   \n",
       "43    As the nine continents face a crisis, a young ...  TV Show      2019.0   \n",
       "...                                                 ...      ...         ...   \n",
       "5781  After testifying against the Mafia, ex-gangste...  TV Show         NaN   \n",
       "5795  A suburban mother starts selling marijuana to ...  TV Show         NaN   \n",
       "5810  Madagascar goes wild with holiday spirit in th...  TV Show      2013.0   \n",
       "5814  The Shrek characters parody the music video \"T...  TV Show      2012.0   \n",
       "5815  Shrek celebrates Halloween, Puss in Boots is c...  TV Show      2012.0   \n",
       "\n",
       "      month_added season_count  \n",
       "13           11.0               \n",
       "18           11.0               \n",
       "19           11.0               \n",
       "20           11.0               \n",
       "43           11.0               \n",
       "...           ...          ...  \n",
       "5781          NaN               \n",
       "5795          NaN               \n",
       "5810          4.0               \n",
       "5814         10.0               \n",
       "5815          8.0               \n",
       "\n",
       "[425 rows x 15 columns]"
      ]
     },
     "execution_count": 29,
     "metadata": {},
     "output_type": "execute_result"
    }
   ],
   "source": [
    "#Type contains Tv Comedies\n",
    "\n",
    "filtered_df = netflix[netflix[\"listed_in\"].str.contains(\"TV Comedies\")]\n",
    "filtered_df\n",
    "#ax = filtered_df.plot.bar(x='rating', y='listed_in', rot=0,color='green')"
   ]
  },
  {
   "cell_type": "code",
   "execution_count": 30,
   "metadata": {},
   "outputs": [
    {
     "data": {
      "text/html": [
       "<div>\n",
       "<style scoped>\n",
       "    .dataframe tbody tr th:only-of-type {\n",
       "        vertical-align: middle;\n",
       "    }\n",
       "\n",
       "    .dataframe tbody tr th {\n",
       "        vertical-align: top;\n",
       "    }\n",
       "\n",
       "    .dataframe thead th {\n",
       "        text-align: right;\n",
       "    }\n",
       "</style>\n",
       "<table border=\"1\" class=\"dataframe\">\n",
       "  <thead>\n",
       "    <tr style=\"text-align: right;\">\n",
       "      <th></th>\n",
       "      <th>title</th>\n",
       "      <th>release_year</th>\n",
       "    </tr>\n",
       "  </thead>\n",
       "  <tbody>\n",
       "    <tr>\n",
       "      <th>850</th>\n",
       "      <td>Whitney Cummings: Can I Touch It?</td>\n",
       "      <td>2019</td>\n",
       "    </tr>\n",
       "    <tr>\n",
       "      <th>2006</th>\n",
       "      <td>IO</td>\n",
       "      <td>2019</td>\n",
       "    </tr>\n",
       "    <tr>\n",
       "      <th>2004</th>\n",
       "      <td>FYRE: The Greatest Party That Never Happened</td>\n",
       "      <td>2019</td>\n",
       "    </tr>\n",
       "    <tr>\n",
       "      <th>2003</th>\n",
       "      <td>Close</td>\n",
       "      <td>2019</td>\n",
       "    </tr>\n",
       "    <tr>\n",
       "      <th>1994</th>\n",
       "      <td>Polar</td>\n",
       "      <td>2019</td>\n",
       "    </tr>\n",
       "    <tr>\n",
       "      <th>846</th>\n",
       "      <td>The Red Sea Diving Resort</td>\n",
       "      <td>2019</td>\n",
       "    </tr>\n",
       "    <tr>\n",
       "      <th>848</th>\n",
       "      <td>All Good Ones Get Away</td>\n",
       "      <td>2019</td>\n",
       "    </tr>\n",
       "    <tr>\n",
       "      <th>849</th>\n",
       "      <td>American Hangman</td>\n",
       "      <td>2019</td>\n",
       "    </tr>\n",
       "    <tr>\n",
       "      <th>851</th>\n",
       "      <td>Mission of Honor</td>\n",
       "      <td>2019</td>\n",
       "    </tr>\n",
       "    <tr>\n",
       "      <th>857</th>\n",
       "      <td>Eerie</td>\n",
       "      <td>2019</td>\n",
       "    </tr>\n",
       "    <tr>\n",
       "      <th>859</th>\n",
       "      <td>Girls With Balls</td>\n",
       "      <td>2019</td>\n",
       "    </tr>\n",
       "    <tr>\n",
       "      <th>869</th>\n",
       "      <td>The Son</td>\n",
       "      <td>2019</td>\n",
       "    </tr>\n",
       "    <tr>\n",
       "      <th>872</th>\n",
       "      <td>The Great Hack</td>\n",
       "      <td>2019</td>\n",
       "    </tr>\n",
       "    <tr>\n",
       "      <th>2012</th>\n",
       "      <td>Patria</td>\n",
       "      <td>2019</td>\n",
       "    </tr>\n",
       "    <tr>\n",
       "      <th>2023</th>\n",
       "      <td>Deadly Switch</td>\n",
       "      <td>2019</td>\n",
       "    </tr>\n",
       "  </tbody>\n",
       "</table>\n",
       "</div>"
      ],
      "text/plain": [
       "                                             title  release_year\n",
       "850              Whitney Cummings: Can I Touch It?          2019\n",
       "2006                                            IO          2019\n",
       "2004  FYRE: The Greatest Party That Never Happened          2019\n",
       "2003                                         Close          2019\n",
       "1994                                         Polar          2019\n",
       "846                      The Red Sea Diving Resort          2019\n",
       "848                         All Good Ones Get Away          2019\n",
       "849                               American Hangman          2019\n",
       "851                               Mission of Honor          2019\n",
       "857                                          Eerie          2019\n",
       "859                               Girls With Balls          2019\n",
       "869                                        The Son          2019\n",
       "872                                 The Great Hack          2019\n",
       "2012                                        Patria          2019\n",
       "2023                                 Deadly Switch          2019"
      ]
     },
     "execution_count": 30,
     "metadata": {},
     "output_type": "execute_result"
    }
   ],
   "source": [
    "#Some of the latest movies on Netflix\n",
    "\n",
    "small = netflix.sort_values(\"release_year\", ascending = False)\n",
    "small = small[small['duration'] != \"\"]\n",
    "small[['title', \"release_year\"]][:15]\n"
   ]
  },
  {
   "cell_type": "code",
   "execution_count": 31,
   "metadata": {},
   "outputs": [
    {
     "data": {
      "application/vnd.plotly.v1+json": {
       "config": {
        "plotlyServerURL": "https://plot.ly"
       },
       "data": [
        {
         "marker": {
          "color": "orange"
         },
         "name": "TV Shows",
         "orientation": "h",
         "type": "bar",
         "x": [
          5,
          6,
          6,
          6,
          6,
          7,
          7,
          8,
          12,
          12,
          14,
          38
         ],
         "y": [
          "Noah Baumbach",
          "William Lau",
          "Lance Bangs",
          "Vlad Yudin",
          "Leslie Small",
          "Ryan Polito",
          "Martin Scorsese",
          "Shannon Hartman",
          "Marcus Raboy",
          "Jay Chapman",
          "Jay Karas",
          "Not Available"
         ]
        }
       ],
       "layout": {
        "legend": {
         "orientation": "h",
         "x": 0.1,
         "y": 1.1
        },
        "template": {
         "data": {
          "bar": [
           {
            "error_x": {
             "color": "#2a3f5f"
            },
            "error_y": {
             "color": "#2a3f5f"
            },
            "marker": {
             "line": {
              "color": "#E5ECF6",
              "width": 0.5
             },
             "pattern": {
              "fillmode": "overlay",
              "size": 10,
              "solidity": 0.2
             }
            },
            "type": "bar"
           }
          ],
          "barpolar": [
           {
            "marker": {
             "line": {
              "color": "#E5ECF6",
              "width": 0.5
             },
             "pattern": {
              "fillmode": "overlay",
              "size": 10,
              "solidity": 0.2
             }
            },
            "type": "barpolar"
           }
          ],
          "carpet": [
           {
            "aaxis": {
             "endlinecolor": "#2a3f5f",
             "gridcolor": "white",
             "linecolor": "white",
             "minorgridcolor": "white",
             "startlinecolor": "#2a3f5f"
            },
            "baxis": {
             "endlinecolor": "#2a3f5f",
             "gridcolor": "white",
             "linecolor": "white",
             "minorgridcolor": "white",
             "startlinecolor": "#2a3f5f"
            },
            "type": "carpet"
           }
          ],
          "choropleth": [
           {
            "colorbar": {
             "outlinewidth": 0,
             "ticks": ""
            },
            "type": "choropleth"
           }
          ],
          "contour": [
           {
            "colorbar": {
             "outlinewidth": 0,
             "ticks": ""
            },
            "colorscale": [
             [
              0,
              "#0d0887"
             ],
             [
              0.1111111111111111,
              "#46039f"
             ],
             [
              0.2222222222222222,
              "#7201a8"
             ],
             [
              0.3333333333333333,
              "#9c179e"
             ],
             [
              0.4444444444444444,
              "#bd3786"
             ],
             [
              0.5555555555555556,
              "#d8576b"
             ],
             [
              0.6666666666666666,
              "#ed7953"
             ],
             [
              0.7777777777777778,
              "#fb9f3a"
             ],
             [
              0.8888888888888888,
              "#fdca26"
             ],
             [
              1,
              "#f0f921"
             ]
            ],
            "type": "contour"
           }
          ],
          "contourcarpet": [
           {
            "colorbar": {
             "outlinewidth": 0,
             "ticks": ""
            },
            "type": "contourcarpet"
           }
          ],
          "heatmap": [
           {
            "colorbar": {
             "outlinewidth": 0,
             "ticks": ""
            },
            "colorscale": [
             [
              0,
              "#0d0887"
             ],
             [
              0.1111111111111111,
              "#46039f"
             ],
             [
              0.2222222222222222,
              "#7201a8"
             ],
             [
              0.3333333333333333,
              "#9c179e"
             ],
             [
              0.4444444444444444,
              "#bd3786"
             ],
             [
              0.5555555555555556,
              "#d8576b"
             ],
             [
              0.6666666666666666,
              "#ed7953"
             ],
             [
              0.7777777777777778,
              "#fb9f3a"
             ],
             [
              0.8888888888888888,
              "#fdca26"
             ],
             [
              1,
              "#f0f921"
             ]
            ],
            "type": "heatmap"
           }
          ],
          "heatmapgl": [
           {
            "colorbar": {
             "outlinewidth": 0,
             "ticks": ""
            },
            "colorscale": [
             [
              0,
              "#0d0887"
             ],
             [
              0.1111111111111111,
              "#46039f"
             ],
             [
              0.2222222222222222,
              "#7201a8"
             ],
             [
              0.3333333333333333,
              "#9c179e"
             ],
             [
              0.4444444444444444,
              "#bd3786"
             ],
             [
              0.5555555555555556,
              "#d8576b"
             ],
             [
              0.6666666666666666,
              "#ed7953"
             ],
             [
              0.7777777777777778,
              "#fb9f3a"
             ],
             [
              0.8888888888888888,
              "#fdca26"
             ],
             [
              1,
              "#f0f921"
             ]
            ],
            "type": "heatmapgl"
           }
          ],
          "histogram": [
           {
            "marker": {
             "pattern": {
              "fillmode": "overlay",
              "size": 10,
              "solidity": 0.2
             }
            },
            "type": "histogram"
           }
          ],
          "histogram2d": [
           {
            "colorbar": {
             "outlinewidth": 0,
             "ticks": ""
            },
            "colorscale": [
             [
              0,
              "#0d0887"
             ],
             [
              0.1111111111111111,
              "#46039f"
             ],
             [
              0.2222222222222222,
              "#7201a8"
             ],
             [
              0.3333333333333333,
              "#9c179e"
             ],
             [
              0.4444444444444444,
              "#bd3786"
             ],
             [
              0.5555555555555556,
              "#d8576b"
             ],
             [
              0.6666666666666666,
              "#ed7953"
             ],
             [
              0.7777777777777778,
              "#fb9f3a"
             ],
             [
              0.8888888888888888,
              "#fdca26"
             ],
             [
              1,
              "#f0f921"
             ]
            ],
            "type": "histogram2d"
           }
          ],
          "histogram2dcontour": [
           {
            "colorbar": {
             "outlinewidth": 0,
             "ticks": ""
            },
            "colorscale": [
             [
              0,
              "#0d0887"
             ],
             [
              0.1111111111111111,
              "#46039f"
             ],
             [
              0.2222222222222222,
              "#7201a8"
             ],
             [
              0.3333333333333333,
              "#9c179e"
             ],
             [
              0.4444444444444444,
              "#bd3786"
             ],
             [
              0.5555555555555556,
              "#d8576b"
             ],
             [
              0.6666666666666666,
              "#ed7953"
             ],
             [
              0.7777777777777778,
              "#fb9f3a"
             ],
             [
              0.8888888888888888,
              "#fdca26"
             ],
             [
              1,
              "#f0f921"
             ]
            ],
            "type": "histogram2dcontour"
           }
          ],
          "mesh3d": [
           {
            "colorbar": {
             "outlinewidth": 0,
             "ticks": ""
            },
            "type": "mesh3d"
           }
          ],
          "parcoords": [
           {
            "line": {
             "colorbar": {
              "outlinewidth": 0,
              "ticks": ""
             }
            },
            "type": "parcoords"
           }
          ],
          "pie": [
           {
            "automargin": true,
            "type": "pie"
           }
          ],
          "scatter": [
           {
            "fillpattern": {
             "fillmode": "overlay",
             "size": 10,
             "solidity": 0.2
            },
            "type": "scatter"
           }
          ],
          "scatter3d": [
           {
            "line": {
             "colorbar": {
              "outlinewidth": 0,
              "ticks": ""
             }
            },
            "marker": {
             "colorbar": {
              "outlinewidth": 0,
              "ticks": ""
             }
            },
            "type": "scatter3d"
           }
          ],
          "scattercarpet": [
           {
            "marker": {
             "colorbar": {
              "outlinewidth": 0,
              "ticks": ""
             }
            },
            "type": "scattercarpet"
           }
          ],
          "scattergeo": [
           {
            "marker": {
             "colorbar": {
              "outlinewidth": 0,
              "ticks": ""
             }
            },
            "type": "scattergeo"
           }
          ],
          "scattergl": [
           {
            "marker": {
             "colorbar": {
              "outlinewidth": 0,
              "ticks": ""
             }
            },
            "type": "scattergl"
           }
          ],
          "scattermapbox": [
           {
            "marker": {
             "colorbar": {
              "outlinewidth": 0,
              "ticks": ""
             }
            },
            "type": "scattermapbox"
           }
          ],
          "scatterpolar": [
           {
            "marker": {
             "colorbar": {
              "outlinewidth": 0,
              "ticks": ""
             }
            },
            "type": "scatterpolar"
           }
          ],
          "scatterpolargl": [
           {
            "marker": {
             "colorbar": {
              "outlinewidth": 0,
              "ticks": ""
             }
            },
            "type": "scatterpolargl"
           }
          ],
          "scatterternary": [
           {
            "marker": {
             "colorbar": {
              "outlinewidth": 0,
              "ticks": ""
             }
            },
            "type": "scatterternary"
           }
          ],
          "surface": [
           {
            "colorbar": {
             "outlinewidth": 0,
             "ticks": ""
            },
            "colorscale": [
             [
              0,
              "#0d0887"
             ],
             [
              0.1111111111111111,
              "#46039f"
             ],
             [
              0.2222222222222222,
              "#7201a8"
             ],
             [
              0.3333333333333333,
              "#9c179e"
             ],
             [
              0.4444444444444444,
              "#bd3786"
             ],
             [
              0.5555555555555556,
              "#d8576b"
             ],
             [
              0.6666666666666666,
              "#ed7953"
             ],
             [
              0.7777777777777778,
              "#fb9f3a"
             ],
             [
              0.8888888888888888,
              "#fdca26"
             ],
             [
              1,
              "#f0f921"
             ]
            ],
            "type": "surface"
           }
          ],
          "table": [
           {
            "cells": {
             "fill": {
              "color": "#EBF0F8"
             },
             "line": {
              "color": "white"
             }
            },
            "header": {
             "fill": {
              "color": "#C8D4E3"
             },
             "line": {
              "color": "white"
             }
            },
            "type": "table"
           }
          ]
         },
         "layout": {
          "annotationdefaults": {
           "arrowcolor": "#2a3f5f",
           "arrowhead": 0,
           "arrowwidth": 1
          },
          "autotypenumbers": "strict",
          "coloraxis": {
           "colorbar": {
            "outlinewidth": 0,
            "ticks": ""
           }
          },
          "colorscale": {
           "diverging": [
            [
             0,
             "#8e0152"
            ],
            [
             0.1,
             "#c51b7d"
            ],
            [
             0.2,
             "#de77ae"
            ],
            [
             0.3,
             "#f1b6da"
            ],
            [
             0.4,
             "#fde0ef"
            ],
            [
             0.5,
             "#f7f7f7"
            ],
            [
             0.6,
             "#e6f5d0"
            ],
            [
             0.7,
             "#b8e186"
            ],
            [
             0.8,
             "#7fbc41"
            ],
            [
             0.9,
             "#4d9221"
            ],
            [
             1,
             "#276419"
            ]
           ],
           "sequential": [
            [
             0,
             "#0d0887"
            ],
            [
             0.1111111111111111,
             "#46039f"
            ],
            [
             0.2222222222222222,
             "#7201a8"
            ],
            [
             0.3333333333333333,
             "#9c179e"
            ],
            [
             0.4444444444444444,
             "#bd3786"
            ],
            [
             0.5555555555555556,
             "#d8576b"
            ],
            [
             0.6666666666666666,
             "#ed7953"
            ],
            [
             0.7777777777777778,
             "#fb9f3a"
            ],
            [
             0.8888888888888888,
             "#fdca26"
            ],
            [
             1,
             "#f0f921"
            ]
           ],
           "sequentialminus": [
            [
             0,
             "#0d0887"
            ],
            [
             0.1111111111111111,
             "#46039f"
            ],
            [
             0.2222222222222222,
             "#7201a8"
            ],
            [
             0.3333333333333333,
             "#9c179e"
            ],
            [
             0.4444444444444444,
             "#bd3786"
            ],
            [
             0.5555555555555556,
             "#d8576b"
            ],
            [
             0.6666666666666666,
             "#ed7953"
            ],
            [
             0.7777777777777778,
             "#fb9f3a"
            ],
            [
             0.8888888888888888,
             "#fdca26"
            ],
            [
             1,
             "#f0f921"
            ]
           ]
          },
          "colorway": [
           "#636efa",
           "#EF553B",
           "#00cc96",
           "#ab63fa",
           "#FFA15A",
           "#19d3f3",
           "#FF6692",
           "#B6E880",
           "#FF97FF",
           "#FECB52"
          ],
          "font": {
           "color": "#2a3f5f"
          },
          "geo": {
           "bgcolor": "white",
           "lakecolor": "white",
           "landcolor": "#E5ECF6",
           "showlakes": true,
           "showland": true,
           "subunitcolor": "white"
          },
          "hoverlabel": {
           "align": "left"
          },
          "hovermode": "closest",
          "mapbox": {
           "style": "light"
          },
          "paper_bgcolor": "white",
          "plot_bgcolor": "#E5ECF6",
          "polar": {
           "angularaxis": {
            "gridcolor": "white",
            "linecolor": "white",
            "ticks": ""
           },
           "bgcolor": "#E5ECF6",
           "radialaxis": {
            "gridcolor": "white",
            "linecolor": "white",
            "ticks": ""
           }
          },
          "scene": {
           "xaxis": {
            "backgroundcolor": "#E5ECF6",
            "gridcolor": "white",
            "gridwidth": 2,
            "linecolor": "white",
            "showbackground": true,
            "ticks": "",
            "zerolinecolor": "white"
           },
           "yaxis": {
            "backgroundcolor": "#E5ECF6",
            "gridcolor": "white",
            "gridwidth": 2,
            "linecolor": "white",
            "showbackground": true,
            "ticks": "",
            "zerolinecolor": "white"
           },
           "zaxis": {
            "backgroundcolor": "#E5ECF6",
            "gridcolor": "white",
            "gridwidth": 2,
            "linecolor": "white",
            "showbackground": true,
            "ticks": "",
            "zerolinecolor": "white"
           }
          },
          "shapedefaults": {
           "line": {
            "color": "#2a3f5f"
           }
          },
          "ternary": {
           "aaxis": {
            "gridcolor": "white",
            "linecolor": "white",
            "ticks": ""
           },
           "baxis": {
            "gridcolor": "white",
            "linecolor": "white",
            "ticks": ""
           },
           "bgcolor": "#E5ECF6",
           "caxis": {
            "gridcolor": "white",
            "linecolor": "white",
            "ticks": ""
           }
          },
          "title": {
           "x": 0.05
          },
          "xaxis": {
           "automargin": true,
           "gridcolor": "white",
           "linecolor": "white",
           "ticks": "",
           "title": {
            "standoff": 15
           },
           "zerolinecolor": "white",
           "zerolinewidth": 2
          },
          "yaxis": {
           "automargin": true,
           "gridcolor": "white",
           "linecolor": "white",
           "ticks": "",
           "title": {
            "standoff": 15
           },
           "zerolinecolor": "white",
           "zerolinewidth": 2
          }
         }
        },
        "title": {
         "text": "Movie Directors from United States with most content"
        }
       }
      }
     },
     "metadata": {},
     "output_type": "display_data"
    }
   ],
   "source": [
    "from collections import Counter\n",
    "small = netflix[netflix[\"type\"] == \"Movie\"]\n",
    "small = small[small[\"country\"] == \"United States\"]\n",
    "\n",
    "col = \"director\"\n",
    "categories = \", \".join(small[col].fillna(\"\")).split(\", \")\n",
    "counter_list = Counter(categories).most_common(12)\n",
    "counter_list = [_ for _ in counter_list if _[0] != \"\"]\n",
    "labels = [_[0] for _ in counter_list][::-1]\n",
    "values = [_[1] for _ in counter_list][::-1]\n",
    "trace1 = go.Bar(y=labels, x=values, orientation=\"h\", name=\"TV Shows\", marker=dict(color=\"orange\"))\n",
    "\n",
    "data = [trace1]\n",
    "layout = go.Layout(title=\"Movie Directors from United States with most content\", legend=dict(x=0.1, y=1.1, orientation=\"h\"))\n",
    "fig = go.Figure(data, layout=layout)\n",
    "fig.show()"
   ]
  },
  {
   "cell_type": "code",
   "execution_count": 32,
   "metadata": {},
   "outputs": [
    {
     "data": {
      "application/vnd.plotly.v1+json": {
       "config": {
        "plotlyServerURL": "https://plot.ly"
       },
       "data": [
        {
         "marker": {
          "color": "#a678de"
         },
         "name": "TV Shows",
         "type": "bar",
         "x": [
          ""
         ],
         "y": [
          1898
         ]
        }
       ],
       "layout": {
        "legend": {
         "orientation": "h",
         "x": 0.1,
         "y": 1.1
        },
        "template": {
         "data": {
          "bar": [
           {
            "error_x": {
             "color": "#2a3f5f"
            },
            "error_y": {
             "color": "#2a3f5f"
            },
            "marker": {
             "line": {
              "color": "#E5ECF6",
              "width": 0.5
             },
             "pattern": {
              "fillmode": "overlay",
              "size": 10,
              "solidity": 0.2
             }
            },
            "type": "bar"
           }
          ],
          "barpolar": [
           {
            "marker": {
             "line": {
              "color": "#E5ECF6",
              "width": 0.5
             },
             "pattern": {
              "fillmode": "overlay",
              "size": 10,
              "solidity": 0.2
             }
            },
            "type": "barpolar"
           }
          ],
          "carpet": [
           {
            "aaxis": {
             "endlinecolor": "#2a3f5f",
             "gridcolor": "white",
             "linecolor": "white",
             "minorgridcolor": "white",
             "startlinecolor": "#2a3f5f"
            },
            "baxis": {
             "endlinecolor": "#2a3f5f",
             "gridcolor": "white",
             "linecolor": "white",
             "minorgridcolor": "white",
             "startlinecolor": "#2a3f5f"
            },
            "type": "carpet"
           }
          ],
          "choropleth": [
           {
            "colorbar": {
             "outlinewidth": 0,
             "ticks": ""
            },
            "type": "choropleth"
           }
          ],
          "contour": [
           {
            "colorbar": {
             "outlinewidth": 0,
             "ticks": ""
            },
            "colorscale": [
             [
              0,
              "#0d0887"
             ],
             [
              0.1111111111111111,
              "#46039f"
             ],
             [
              0.2222222222222222,
              "#7201a8"
             ],
             [
              0.3333333333333333,
              "#9c179e"
             ],
             [
              0.4444444444444444,
              "#bd3786"
             ],
             [
              0.5555555555555556,
              "#d8576b"
             ],
             [
              0.6666666666666666,
              "#ed7953"
             ],
             [
              0.7777777777777778,
              "#fb9f3a"
             ],
             [
              0.8888888888888888,
              "#fdca26"
             ],
             [
              1,
              "#f0f921"
             ]
            ],
            "type": "contour"
           }
          ],
          "contourcarpet": [
           {
            "colorbar": {
             "outlinewidth": 0,
             "ticks": ""
            },
            "type": "contourcarpet"
           }
          ],
          "heatmap": [
           {
            "colorbar": {
             "outlinewidth": 0,
             "ticks": ""
            },
            "colorscale": [
             [
              0,
              "#0d0887"
             ],
             [
              0.1111111111111111,
              "#46039f"
             ],
             [
              0.2222222222222222,
              "#7201a8"
             ],
             [
              0.3333333333333333,
              "#9c179e"
             ],
             [
              0.4444444444444444,
              "#bd3786"
             ],
             [
              0.5555555555555556,
              "#d8576b"
             ],
             [
              0.6666666666666666,
              "#ed7953"
             ],
             [
              0.7777777777777778,
              "#fb9f3a"
             ],
             [
              0.8888888888888888,
              "#fdca26"
             ],
             [
              1,
              "#f0f921"
             ]
            ],
            "type": "heatmap"
           }
          ],
          "heatmapgl": [
           {
            "colorbar": {
             "outlinewidth": 0,
             "ticks": ""
            },
            "colorscale": [
             [
              0,
              "#0d0887"
             ],
             [
              0.1111111111111111,
              "#46039f"
             ],
             [
              0.2222222222222222,
              "#7201a8"
             ],
             [
              0.3333333333333333,
              "#9c179e"
             ],
             [
              0.4444444444444444,
              "#bd3786"
             ],
             [
              0.5555555555555556,
              "#d8576b"
             ],
             [
              0.6666666666666666,
              "#ed7953"
             ],
             [
              0.7777777777777778,
              "#fb9f3a"
             ],
             [
              0.8888888888888888,
              "#fdca26"
             ],
             [
              1,
              "#f0f921"
             ]
            ],
            "type": "heatmapgl"
           }
          ],
          "histogram": [
           {
            "marker": {
             "pattern": {
              "fillmode": "overlay",
              "size": 10,
              "solidity": 0.2
             }
            },
            "type": "histogram"
           }
          ],
          "histogram2d": [
           {
            "colorbar": {
             "outlinewidth": 0,
             "ticks": ""
            },
            "colorscale": [
             [
              0,
              "#0d0887"
             ],
             [
              0.1111111111111111,
              "#46039f"
             ],
             [
              0.2222222222222222,
              "#7201a8"
             ],
             [
              0.3333333333333333,
              "#9c179e"
             ],
             [
              0.4444444444444444,
              "#bd3786"
             ],
             [
              0.5555555555555556,
              "#d8576b"
             ],
             [
              0.6666666666666666,
              "#ed7953"
             ],
             [
              0.7777777777777778,
              "#fb9f3a"
             ],
             [
              0.8888888888888888,
              "#fdca26"
             ],
             [
              1,
              "#f0f921"
             ]
            ],
            "type": "histogram2d"
           }
          ],
          "histogram2dcontour": [
           {
            "colorbar": {
             "outlinewidth": 0,
             "ticks": ""
            },
            "colorscale": [
             [
              0,
              "#0d0887"
             ],
             [
              0.1111111111111111,
              "#46039f"
             ],
             [
              0.2222222222222222,
              "#7201a8"
             ],
             [
              0.3333333333333333,
              "#9c179e"
             ],
             [
              0.4444444444444444,
              "#bd3786"
             ],
             [
              0.5555555555555556,
              "#d8576b"
             ],
             [
              0.6666666666666666,
              "#ed7953"
             ],
             [
              0.7777777777777778,
              "#fb9f3a"
             ],
             [
              0.8888888888888888,
              "#fdca26"
             ],
             [
              1,
              "#f0f921"
             ]
            ],
            "type": "histogram2dcontour"
           }
          ],
          "mesh3d": [
           {
            "colorbar": {
             "outlinewidth": 0,
             "ticks": ""
            },
            "type": "mesh3d"
           }
          ],
          "parcoords": [
           {
            "line": {
             "colorbar": {
              "outlinewidth": 0,
              "ticks": ""
             }
            },
            "type": "parcoords"
           }
          ],
          "pie": [
           {
            "automargin": true,
            "type": "pie"
           }
          ],
          "scatter": [
           {
            "fillpattern": {
             "fillmode": "overlay",
             "size": 10,
             "solidity": 0.2
            },
            "type": "scatter"
           }
          ],
          "scatter3d": [
           {
            "line": {
             "colorbar": {
              "outlinewidth": 0,
              "ticks": ""
             }
            },
            "marker": {
             "colorbar": {
              "outlinewidth": 0,
              "ticks": ""
             }
            },
            "type": "scatter3d"
           }
          ],
          "scattercarpet": [
           {
            "marker": {
             "colorbar": {
              "outlinewidth": 0,
              "ticks": ""
             }
            },
            "type": "scattercarpet"
           }
          ],
          "scattergeo": [
           {
            "marker": {
             "colorbar": {
              "outlinewidth": 0,
              "ticks": ""
             }
            },
            "type": "scattergeo"
           }
          ],
          "scattergl": [
           {
            "marker": {
             "colorbar": {
              "outlinewidth": 0,
              "ticks": ""
             }
            },
            "type": "scattergl"
           }
          ],
          "scattermapbox": [
           {
            "marker": {
             "colorbar": {
              "outlinewidth": 0,
              "ticks": ""
             }
            },
            "type": "scattermapbox"
           }
          ],
          "scatterpolar": [
           {
            "marker": {
             "colorbar": {
              "outlinewidth": 0,
              "ticks": ""
             }
            },
            "type": "scatterpolar"
           }
          ],
          "scatterpolargl": [
           {
            "marker": {
             "colorbar": {
              "outlinewidth": 0,
              "ticks": ""
             }
            },
            "type": "scatterpolargl"
           }
          ],
          "scatterternary": [
           {
            "marker": {
             "colorbar": {
              "outlinewidth": 0,
              "ticks": ""
             }
            },
            "type": "scatterternary"
           }
          ],
          "surface": [
           {
            "colorbar": {
             "outlinewidth": 0,
             "ticks": ""
            },
            "colorscale": [
             [
              0,
              "#0d0887"
             ],
             [
              0.1111111111111111,
              "#46039f"
             ],
             [
              0.2222222222222222,
              "#7201a8"
             ],
             [
              0.3333333333333333,
              "#9c179e"
             ],
             [
              0.4444444444444444,
              "#bd3786"
             ],
             [
              0.5555555555555556,
              "#d8576b"
             ],
             [
              0.6666666666666666,
              "#ed7953"
             ],
             [
              0.7777777777777778,
              "#fb9f3a"
             ],
             [
              0.8888888888888888,
              "#fdca26"
             ],
             [
              1,
              "#f0f921"
             ]
            ],
            "type": "surface"
           }
          ],
          "table": [
           {
            "cells": {
             "fill": {
              "color": "#EBF0F8"
             },
             "line": {
              "color": "white"
             }
            },
            "header": {
             "fill": {
              "color": "#C8D4E3"
             },
             "line": {
              "color": "white"
             }
            },
            "type": "table"
           }
          ]
         },
         "layout": {
          "annotationdefaults": {
           "arrowcolor": "#2a3f5f",
           "arrowhead": 0,
           "arrowwidth": 1
          },
          "autotypenumbers": "strict",
          "coloraxis": {
           "colorbar": {
            "outlinewidth": 0,
            "ticks": ""
           }
          },
          "colorscale": {
           "diverging": [
            [
             0,
             "#8e0152"
            ],
            [
             0.1,
             "#c51b7d"
            ],
            [
             0.2,
             "#de77ae"
            ],
            [
             0.3,
             "#f1b6da"
            ],
            [
             0.4,
             "#fde0ef"
            ],
            [
             0.5,
             "#f7f7f7"
            ],
            [
             0.6,
             "#e6f5d0"
            ],
            [
             0.7,
             "#b8e186"
            ],
            [
             0.8,
             "#7fbc41"
            ],
            [
             0.9,
             "#4d9221"
            ],
            [
             1,
             "#276419"
            ]
           ],
           "sequential": [
            [
             0,
             "#0d0887"
            ],
            [
             0.1111111111111111,
             "#46039f"
            ],
            [
             0.2222222222222222,
             "#7201a8"
            ],
            [
             0.3333333333333333,
             "#9c179e"
            ],
            [
             0.4444444444444444,
             "#bd3786"
            ],
            [
             0.5555555555555556,
             "#d8576b"
            ],
            [
             0.6666666666666666,
             "#ed7953"
            ],
            [
             0.7777777777777778,
             "#fb9f3a"
            ],
            [
             0.8888888888888888,
             "#fdca26"
            ],
            [
             1,
             "#f0f921"
            ]
           ],
           "sequentialminus": [
            [
             0,
             "#0d0887"
            ],
            [
             0.1111111111111111,
             "#46039f"
            ],
            [
             0.2222222222222222,
             "#7201a8"
            ],
            [
             0.3333333333333333,
             "#9c179e"
            ],
            [
             0.4444444444444444,
             "#bd3786"
            ],
            [
             0.5555555555555556,
             "#d8576b"
            ],
            [
             0.6666666666666666,
             "#ed7953"
            ],
            [
             0.7777777777777778,
             "#fb9f3a"
            ],
            [
             0.8888888888888888,
             "#fdca26"
            ],
            [
             1,
             "#f0f921"
            ]
           ]
          },
          "colorway": [
           "#636efa",
           "#EF553B",
           "#00cc96",
           "#ab63fa",
           "#FFA15A",
           "#19d3f3",
           "#FF6692",
           "#B6E880",
           "#FF97FF",
           "#FECB52"
          ],
          "font": {
           "color": "#2a3f5f"
          },
          "geo": {
           "bgcolor": "white",
           "lakecolor": "white",
           "landcolor": "#E5ECF6",
           "showlakes": true,
           "showland": true,
           "subunitcolor": "white"
          },
          "hoverlabel": {
           "align": "left"
          },
          "hovermode": "closest",
          "mapbox": {
           "style": "light"
          },
          "paper_bgcolor": "white",
          "plot_bgcolor": "#E5ECF6",
          "polar": {
           "angularaxis": {
            "gridcolor": "white",
            "linecolor": "white",
            "ticks": ""
           },
           "bgcolor": "#E5ECF6",
           "radialaxis": {
            "gridcolor": "white",
            "linecolor": "white",
            "ticks": ""
           }
          },
          "scene": {
           "xaxis": {
            "backgroundcolor": "#E5ECF6",
            "gridcolor": "white",
            "gridwidth": 2,
            "linecolor": "white",
            "showbackground": true,
            "ticks": "",
            "zerolinecolor": "white"
           },
           "yaxis": {
            "backgroundcolor": "#E5ECF6",
            "gridcolor": "white",
            "gridwidth": 2,
            "linecolor": "white",
            "showbackground": true,
            "ticks": "",
            "zerolinecolor": "white"
           },
           "zaxis": {
            "backgroundcolor": "#E5ECF6",
            "gridcolor": "white",
            "gridwidth": 2,
            "linecolor": "white",
            "showbackground": true,
            "ticks": "",
            "zerolinecolor": "white"
           }
          },
          "shapedefaults": {
           "line": {
            "color": "#2a3f5f"
           }
          },
          "ternary": {
           "aaxis": {
            "gridcolor": "white",
            "linecolor": "white",
            "ticks": ""
           },
           "baxis": {
            "gridcolor": "white",
            "linecolor": "white",
            "ticks": ""
           },
           "bgcolor": "#E5ECF6",
           "caxis": {
            "gridcolor": "white",
            "linecolor": "white",
            "ticks": ""
           }
          },
          "title": {
           "x": 0.05
          },
          "xaxis": {
           "automargin": true,
           "gridcolor": "white",
           "linecolor": "white",
           "ticks": "",
           "title": {
            "standoff": 15
           },
           "zerolinecolor": "white",
           "zerolinewidth": 2
          },
          "yaxis": {
           "automargin": true,
           "gridcolor": "white",
           "linecolor": "white",
           "ticks": "",
           "title": {
            "standoff": 15
           },
           "zerolinecolor": "white",
           "zerolinewidth": 2
          }
         }
        },
        "title": {
         "text": "Seasons"
        }
       }
      }
     },
     "metadata": {},
     "output_type": "display_data"
    }
   ],
   "source": [
    "col = 'season_count'\n",
    "vc1 = d1[col].value_counts().reset_index()\n",
    "#vc1 = vc1.rename(columns = {col : \"count\", \"index\" : col})\n",
    "vc1['percent'] = vc1['count'].apply(lambda x : 100*x/sum(vc1['count']))\n",
    "vc1 = vc1.sort_values(col)\n",
    "\n",
    "trace1 = go.Bar(x=vc1[col], y=vc1[\"count\"], name=\"TV Shows\", marker=dict(color=\"#a678de\"))\n",
    "data = [trace1]\n",
    "layout = go.Layout(title=\"Seasons\", legend=dict(x=0.1, y=1.1, orientation=\"h\"))\n",
    "fig = go.Figure(data, layout=layout)\n",
    "fig.show()\n"
   ]
  },
  {
   "cell_type": "code",
   "execution_count": 33,
   "metadata": {},
   "outputs": [
    {
     "data": {
      "application/vnd.plotly.v1+json": {
       "config": {
        "plotlyServerURL": "https://plot.ly"
       },
       "data": [
        {
         "marker": {
          "color": "#a678de"
         },
         "name": "TV Shows",
         "type": "bar",
         "x": [
          "G",
          "NR",
          "Not Available",
          "R",
          "TV-14",
          "TV-G",
          "TV-MA",
          "TV-PG",
          "TV-Y",
          "TV-Y7",
          "TV-Y7-FV"
         ],
         "y": [
          1,
          16,
          2,
          2,
          638,
          68,
          649,
          265,
          98,
          94,
          65
         ]
        },
        {
         "marker": {
          "color": "#6ad49b"
         },
         "name": "Movies",
         "type": "bar",
         "x": [
          "G",
          "NC-17",
          "NR",
          "Not Available",
          "PG",
          "PG-13",
          "R",
          "TV-14",
          "TV-G",
          "TV-MA",
          "TV-PG",
          "TV-Y",
          "TV-Y7",
          "TV-Y7-FV",
          "UR"
         ],
         "y": [
          31,
          2,
          202,
          8,
          160,
          227,
          437,
          955,
          79,
          1288,
          413,
          41,
          62,
          27,
          7
         ]
        }
       ],
       "layout": {
        "legend": {
         "orientation": "h",
         "x": 0.1,
         "y": 1.1
        },
        "template": {
         "data": {
          "bar": [
           {
            "error_x": {
             "color": "#2a3f5f"
            },
            "error_y": {
             "color": "#2a3f5f"
            },
            "marker": {
             "line": {
              "color": "#E5ECF6",
              "width": 0.5
             },
             "pattern": {
              "fillmode": "overlay",
              "size": 10,
              "solidity": 0.2
             }
            },
            "type": "bar"
           }
          ],
          "barpolar": [
           {
            "marker": {
             "line": {
              "color": "#E5ECF6",
              "width": 0.5
             },
             "pattern": {
              "fillmode": "overlay",
              "size": 10,
              "solidity": 0.2
             }
            },
            "type": "barpolar"
           }
          ],
          "carpet": [
           {
            "aaxis": {
             "endlinecolor": "#2a3f5f",
             "gridcolor": "white",
             "linecolor": "white",
             "minorgridcolor": "white",
             "startlinecolor": "#2a3f5f"
            },
            "baxis": {
             "endlinecolor": "#2a3f5f",
             "gridcolor": "white",
             "linecolor": "white",
             "minorgridcolor": "white",
             "startlinecolor": "#2a3f5f"
            },
            "type": "carpet"
           }
          ],
          "choropleth": [
           {
            "colorbar": {
             "outlinewidth": 0,
             "ticks": ""
            },
            "type": "choropleth"
           }
          ],
          "contour": [
           {
            "colorbar": {
             "outlinewidth": 0,
             "ticks": ""
            },
            "colorscale": [
             [
              0,
              "#0d0887"
             ],
             [
              0.1111111111111111,
              "#46039f"
             ],
             [
              0.2222222222222222,
              "#7201a8"
             ],
             [
              0.3333333333333333,
              "#9c179e"
             ],
             [
              0.4444444444444444,
              "#bd3786"
             ],
             [
              0.5555555555555556,
              "#d8576b"
             ],
             [
              0.6666666666666666,
              "#ed7953"
             ],
             [
              0.7777777777777778,
              "#fb9f3a"
             ],
             [
              0.8888888888888888,
              "#fdca26"
             ],
             [
              1,
              "#f0f921"
             ]
            ],
            "type": "contour"
           }
          ],
          "contourcarpet": [
           {
            "colorbar": {
             "outlinewidth": 0,
             "ticks": ""
            },
            "type": "contourcarpet"
           }
          ],
          "heatmap": [
           {
            "colorbar": {
             "outlinewidth": 0,
             "ticks": ""
            },
            "colorscale": [
             [
              0,
              "#0d0887"
             ],
             [
              0.1111111111111111,
              "#46039f"
             ],
             [
              0.2222222222222222,
              "#7201a8"
             ],
             [
              0.3333333333333333,
              "#9c179e"
             ],
             [
              0.4444444444444444,
              "#bd3786"
             ],
             [
              0.5555555555555556,
              "#d8576b"
             ],
             [
              0.6666666666666666,
              "#ed7953"
             ],
             [
              0.7777777777777778,
              "#fb9f3a"
             ],
             [
              0.8888888888888888,
              "#fdca26"
             ],
             [
              1,
              "#f0f921"
             ]
            ],
            "type": "heatmap"
           }
          ],
          "heatmapgl": [
           {
            "colorbar": {
             "outlinewidth": 0,
             "ticks": ""
            },
            "colorscale": [
             [
              0,
              "#0d0887"
             ],
             [
              0.1111111111111111,
              "#46039f"
             ],
             [
              0.2222222222222222,
              "#7201a8"
             ],
             [
              0.3333333333333333,
              "#9c179e"
             ],
             [
              0.4444444444444444,
              "#bd3786"
             ],
             [
              0.5555555555555556,
              "#d8576b"
             ],
             [
              0.6666666666666666,
              "#ed7953"
             ],
             [
              0.7777777777777778,
              "#fb9f3a"
             ],
             [
              0.8888888888888888,
              "#fdca26"
             ],
             [
              1,
              "#f0f921"
             ]
            ],
            "type": "heatmapgl"
           }
          ],
          "histogram": [
           {
            "marker": {
             "pattern": {
              "fillmode": "overlay",
              "size": 10,
              "solidity": 0.2
             }
            },
            "type": "histogram"
           }
          ],
          "histogram2d": [
           {
            "colorbar": {
             "outlinewidth": 0,
             "ticks": ""
            },
            "colorscale": [
             [
              0,
              "#0d0887"
             ],
             [
              0.1111111111111111,
              "#46039f"
             ],
             [
              0.2222222222222222,
              "#7201a8"
             ],
             [
              0.3333333333333333,
              "#9c179e"
             ],
             [
              0.4444444444444444,
              "#bd3786"
             ],
             [
              0.5555555555555556,
              "#d8576b"
             ],
             [
              0.6666666666666666,
              "#ed7953"
             ],
             [
              0.7777777777777778,
              "#fb9f3a"
             ],
             [
              0.8888888888888888,
              "#fdca26"
             ],
             [
              1,
              "#f0f921"
             ]
            ],
            "type": "histogram2d"
           }
          ],
          "histogram2dcontour": [
           {
            "colorbar": {
             "outlinewidth": 0,
             "ticks": ""
            },
            "colorscale": [
             [
              0,
              "#0d0887"
             ],
             [
              0.1111111111111111,
              "#46039f"
             ],
             [
              0.2222222222222222,
              "#7201a8"
             ],
             [
              0.3333333333333333,
              "#9c179e"
             ],
             [
              0.4444444444444444,
              "#bd3786"
             ],
             [
              0.5555555555555556,
              "#d8576b"
             ],
             [
              0.6666666666666666,
              "#ed7953"
             ],
             [
              0.7777777777777778,
              "#fb9f3a"
             ],
             [
              0.8888888888888888,
              "#fdca26"
             ],
             [
              1,
              "#f0f921"
             ]
            ],
            "type": "histogram2dcontour"
           }
          ],
          "mesh3d": [
           {
            "colorbar": {
             "outlinewidth": 0,
             "ticks": ""
            },
            "type": "mesh3d"
           }
          ],
          "parcoords": [
           {
            "line": {
             "colorbar": {
              "outlinewidth": 0,
              "ticks": ""
             }
            },
            "type": "parcoords"
           }
          ],
          "pie": [
           {
            "automargin": true,
            "type": "pie"
           }
          ],
          "scatter": [
           {
            "fillpattern": {
             "fillmode": "overlay",
             "size": 10,
             "solidity": 0.2
            },
            "type": "scatter"
           }
          ],
          "scatter3d": [
           {
            "line": {
             "colorbar": {
              "outlinewidth": 0,
              "ticks": ""
             }
            },
            "marker": {
             "colorbar": {
              "outlinewidth": 0,
              "ticks": ""
             }
            },
            "type": "scatter3d"
           }
          ],
          "scattercarpet": [
           {
            "marker": {
             "colorbar": {
              "outlinewidth": 0,
              "ticks": ""
             }
            },
            "type": "scattercarpet"
           }
          ],
          "scattergeo": [
           {
            "marker": {
             "colorbar": {
              "outlinewidth": 0,
              "ticks": ""
             }
            },
            "type": "scattergeo"
           }
          ],
          "scattergl": [
           {
            "marker": {
             "colorbar": {
              "outlinewidth": 0,
              "ticks": ""
             }
            },
            "type": "scattergl"
           }
          ],
          "scattermapbox": [
           {
            "marker": {
             "colorbar": {
              "outlinewidth": 0,
              "ticks": ""
             }
            },
            "type": "scattermapbox"
           }
          ],
          "scatterpolar": [
           {
            "marker": {
             "colorbar": {
              "outlinewidth": 0,
              "ticks": ""
             }
            },
            "type": "scatterpolar"
           }
          ],
          "scatterpolargl": [
           {
            "marker": {
             "colorbar": {
              "outlinewidth": 0,
              "ticks": ""
             }
            },
            "type": "scatterpolargl"
           }
          ],
          "scatterternary": [
           {
            "marker": {
             "colorbar": {
              "outlinewidth": 0,
              "ticks": ""
             }
            },
            "type": "scatterternary"
           }
          ],
          "surface": [
           {
            "colorbar": {
             "outlinewidth": 0,
             "ticks": ""
            },
            "colorscale": [
             [
              0,
              "#0d0887"
             ],
             [
              0.1111111111111111,
              "#46039f"
             ],
             [
              0.2222222222222222,
              "#7201a8"
             ],
             [
              0.3333333333333333,
              "#9c179e"
             ],
             [
              0.4444444444444444,
              "#bd3786"
             ],
             [
              0.5555555555555556,
              "#d8576b"
             ],
             [
              0.6666666666666666,
              "#ed7953"
             ],
             [
              0.7777777777777778,
              "#fb9f3a"
             ],
             [
              0.8888888888888888,
              "#fdca26"
             ],
             [
              1,
              "#f0f921"
             ]
            ],
            "type": "surface"
           }
          ],
          "table": [
           {
            "cells": {
             "fill": {
              "color": "#EBF0F8"
             },
             "line": {
              "color": "white"
             }
            },
            "header": {
             "fill": {
              "color": "#C8D4E3"
             },
             "line": {
              "color": "white"
             }
            },
            "type": "table"
           }
          ]
         },
         "layout": {
          "annotationdefaults": {
           "arrowcolor": "#2a3f5f",
           "arrowhead": 0,
           "arrowwidth": 1
          },
          "autotypenumbers": "strict",
          "coloraxis": {
           "colorbar": {
            "outlinewidth": 0,
            "ticks": ""
           }
          },
          "colorscale": {
           "diverging": [
            [
             0,
             "#8e0152"
            ],
            [
             0.1,
             "#c51b7d"
            ],
            [
             0.2,
             "#de77ae"
            ],
            [
             0.3,
             "#f1b6da"
            ],
            [
             0.4,
             "#fde0ef"
            ],
            [
             0.5,
             "#f7f7f7"
            ],
            [
             0.6,
             "#e6f5d0"
            ],
            [
             0.7,
             "#b8e186"
            ],
            [
             0.8,
             "#7fbc41"
            ],
            [
             0.9,
             "#4d9221"
            ],
            [
             1,
             "#276419"
            ]
           ],
           "sequential": [
            [
             0,
             "#0d0887"
            ],
            [
             0.1111111111111111,
             "#46039f"
            ],
            [
             0.2222222222222222,
             "#7201a8"
            ],
            [
             0.3333333333333333,
             "#9c179e"
            ],
            [
             0.4444444444444444,
             "#bd3786"
            ],
            [
             0.5555555555555556,
             "#d8576b"
            ],
            [
             0.6666666666666666,
             "#ed7953"
            ],
            [
             0.7777777777777778,
             "#fb9f3a"
            ],
            [
             0.8888888888888888,
             "#fdca26"
            ],
            [
             1,
             "#f0f921"
            ]
           ],
           "sequentialminus": [
            [
             0,
             "#0d0887"
            ],
            [
             0.1111111111111111,
             "#46039f"
            ],
            [
             0.2222222222222222,
             "#7201a8"
            ],
            [
             0.3333333333333333,
             "#9c179e"
            ],
            [
             0.4444444444444444,
             "#bd3786"
            ],
            [
             0.5555555555555556,
             "#d8576b"
            ],
            [
             0.6666666666666666,
             "#ed7953"
            ],
            [
             0.7777777777777778,
             "#fb9f3a"
            ],
            [
             0.8888888888888888,
             "#fdca26"
            ],
            [
             1,
             "#f0f921"
            ]
           ]
          },
          "colorway": [
           "#636efa",
           "#EF553B",
           "#00cc96",
           "#ab63fa",
           "#FFA15A",
           "#19d3f3",
           "#FF6692",
           "#B6E880",
           "#FF97FF",
           "#FECB52"
          ],
          "font": {
           "color": "#2a3f5f"
          },
          "geo": {
           "bgcolor": "white",
           "lakecolor": "white",
           "landcolor": "#E5ECF6",
           "showlakes": true,
           "showland": true,
           "subunitcolor": "white"
          },
          "hoverlabel": {
           "align": "left"
          },
          "hovermode": "closest",
          "mapbox": {
           "style": "light"
          },
          "paper_bgcolor": "white",
          "plot_bgcolor": "#E5ECF6",
          "polar": {
           "angularaxis": {
            "gridcolor": "white",
            "linecolor": "white",
            "ticks": ""
           },
           "bgcolor": "#E5ECF6",
           "radialaxis": {
            "gridcolor": "white",
            "linecolor": "white",
            "ticks": ""
           }
          },
          "scene": {
           "xaxis": {
            "backgroundcolor": "#E5ECF6",
            "gridcolor": "white",
            "gridwidth": 2,
            "linecolor": "white",
            "showbackground": true,
            "ticks": "",
            "zerolinecolor": "white"
           },
           "yaxis": {
            "backgroundcolor": "#E5ECF6",
            "gridcolor": "white",
            "gridwidth": 2,
            "linecolor": "white",
            "showbackground": true,
            "ticks": "",
            "zerolinecolor": "white"
           },
           "zaxis": {
            "backgroundcolor": "#E5ECF6",
            "gridcolor": "white",
            "gridwidth": 2,
            "linecolor": "white",
            "showbackground": true,
            "ticks": "",
            "zerolinecolor": "white"
           }
          },
          "shapedefaults": {
           "line": {
            "color": "#2a3f5f"
           }
          },
          "ternary": {
           "aaxis": {
            "gridcolor": "white",
            "linecolor": "white",
            "ticks": ""
           },
           "baxis": {
            "gridcolor": "white",
            "linecolor": "white",
            "ticks": ""
           },
           "bgcolor": "#E5ECF6",
           "caxis": {
            "gridcolor": "white",
            "linecolor": "white",
            "ticks": ""
           }
          },
          "title": {
           "x": 0.05
          },
          "xaxis": {
           "automargin": true,
           "gridcolor": "white",
           "linecolor": "white",
           "ticks": "",
           "title": {
            "standoff": 15
           },
           "zerolinecolor": "white",
           "zerolinewidth": 2
          },
          "yaxis": {
           "automargin": true,
           "gridcolor": "white",
           "linecolor": "white",
           "ticks": "",
           "title": {
            "standoff": 15
           },
           "zerolinecolor": "white",
           "zerolinewidth": 2
          }
         }
        },
        "title": {
         "text": "Content added over the years"
        }
       }
      }
     },
     "metadata": {},
     "output_type": "display_data"
    }
   ],
   "source": [
    "col = \"rating\"\n",
    "\n",
    "vc1 = d1[col].value_counts().reset_index()\n",
    "#vc1 = vc1.rename(columns = {col : \"count\", \"index\" : col})\n",
    "vc1['percent'] = vc1['count'].apply(lambda x : 100*x/sum(vc1['count']))\n",
    "vc1 = vc1.sort_values(col)\n",
    "\n",
    "vc2 = d2[col].value_counts().reset_index()\n",
    "#vc2 = vc2.rename(columns = {col : \"count\", \"index\" : col})\n",
    "vc2['percent'] = vc2['count'].apply(lambda x : 100*x/sum(vc2['count']))\n",
    "vc2 = vc2.sort_values(col)\n",
    "\n",
    "trace1 = go.Bar(x=vc1[col], y=vc1[\"count\"], name=\"TV Shows\", marker=dict(color=\"#a678de\"))\n",
    "trace2 = go.Bar(x=vc2[col], y=vc2[\"count\"], name=\"Movies\", marker=dict(color=\"#6ad49b\"))\n",
    "data = [trace1, trace2]\n",
    "layout = go.Layout(title=\"Content added over the years\", legend=dict(x=0.1, y=1.1, orientation=\"h\"))\n",
    "fig = go.Figure(data, layout=layout)\n",
    "fig.show()"
   ]
  },
  {
   "cell_type": "code",
   "execution_count": 36,
   "metadata": {},
   "outputs": [
    {
     "ename": "ValueError",
     "evalue": "Invalid property specified for object of type plotly.graph_objs.Layout: 'x'\n\nDid you mean \"geo\"?\n\n    Valid properties:\n        activeselection\n            :class:`plotly.graph_objects.layout.Activeselection`\n            instance or dict with compatible properties\n        activeshape\n            :class:`plotly.graph_objects.layout.Activeshape`\n            instance or dict with compatible properties\n        annotations\n            A tuple of\n            :class:`plotly.graph_objects.layout.Annotation`\n            instances or dicts with compatible properties\n        annotationdefaults\n            When used in a template (as\n            layout.template.layout.annotationdefaults), sets the\n            default property values to use for elements of\n            layout.annotations\n        autosize\n            Determines whether or not a layout width or height that\n            has been left undefined by the user is initialized on\n            each relayout. Note that, regardless of this attribute,\n            an undefined layout width or height is always\n            initialized on the first call to plot.\n        autotypenumbers\n            Using \"strict\" a numeric string in trace data is not\n            converted to a number. Using *convert types* a numeric\n            string in trace data may be treated as a number during\n            automatic axis `type` detection. This is the default\n            value; however it could be overridden for individual\n            axes.\n        barcornerradius\n            Sets the rounding of bar corners. May be an integer\n            number of pixels, or a percentage of bar width (as a\n            string ending in %).\n        bargap\n            Sets the gap (in plot fraction) between bars of\n            adjacent location coordinates.\n        bargroupgap\n            Sets the gap (in plot fraction) between bars of the\n            same location coordinate.\n        barmode\n            Determines how bars at the same location coordinate are\n            displayed on the graph. With \"stack\", the bars are\n            stacked on top of one another With \"relative\", the bars\n            are stacked on top of one another, with negative values\n            below the axis, positive values above With \"group\", the\n            bars are plotted next to one another centered around\n            the shared location. With \"overlay\", the bars are\n            plotted over one another, you might need to reduce\n            \"opacity\" to see multiple bars.\n        barnorm\n            Sets the normalization for bar traces on the graph.\n            With \"fraction\", the value of each bar is divided by\n            the sum of all values at that location coordinate.\n            \"percent\" is the same but multiplied by 100 to show\n            percentages.\n        boxgap\n            Sets the gap (in plot fraction) between boxes of\n            adjacent location coordinates. Has no effect on traces\n            that have \"width\" set.\n        boxgroupgap\n            Sets the gap (in plot fraction) between boxes of the\n            same location coordinate. Has no effect on traces that\n            have \"width\" set.\n        boxmode\n            Determines how boxes at the same location coordinate\n            are displayed on the graph. If \"group\", the boxes are\n            plotted next to one another centered around the shared\n            location. If \"overlay\", the boxes are plotted over one\n            another, you might need to set \"opacity\" to see them\n            multiple boxes. Has no effect on traces that have\n            \"width\" set.\n        calendar\n            Sets the default calendar system to use for\n            interpreting and displaying dates throughout the plot.\n        clickmode\n            Determines the mode of single click interactions.\n            \"event\" is the default value and emits the\n            `plotly_click` event. In addition this mode emits the\n            `plotly_selected` event in drag modes \"lasso\" and\n            \"select\", but with no event data attached (kept for\n            compatibility reasons). The \"select\" flag enables\n            selecting single data points via click. This mode also\n            supports persistent selections, meaning that pressing\n            Shift while clicking, adds to / subtracts from an\n            existing selection. \"select\" with `hovermode`: \"x\" can\n            be confusing, consider explicitly setting `hovermode`:\n            \"closest\" when using this feature. Selection events are\n            sent accordingly as long as \"event\" flag is set as\n            well. When the \"event\" flag is missing, `plotly_click`\n            and `plotly_selected` events are not fired.\n        coloraxis\n            :class:`plotly.graph_objects.layout.Coloraxis` instance\n            or dict with compatible properties\n        colorscale\n            :class:`plotly.graph_objects.layout.Colorscale`\n            instance or dict with compatible properties\n        colorway\n            Sets the default trace colors.\n        computed\n            Placeholder for exporting automargin-impacting values\n            namely `margin.t`, `margin.b`, `margin.l` and\n            `margin.r` in \"full-json\" mode.\n        datarevision\n            If provided, a changed value tells `Plotly.react` that\n            one or more data arrays has changed. This way you can\n            modify arrays in-place rather than making a complete\n            new copy for an incremental change. If NOT provided,\n            `Plotly.react` assumes that data arrays are being\n            treated as immutable, thus any data array with a\n            different identity from its predecessor contains new\n            data.\n        dragmode\n            Determines the mode of drag interactions. \"select\" and\n            \"lasso\" apply only to scatter traces with markers or\n            text. \"orbit\" and \"turntable\" apply only to 3D scenes.\n        editrevision\n            Controls persistence of user-driven changes in\n            `editable: true` configuration, other than trace names\n            and axis titles. Defaults to `layout.uirevision`.\n        extendfunnelareacolors\n            If `true`, the funnelarea slice colors (whether given\n            by `funnelareacolorway` or inherited from `colorway`)\n            will be extended to three times its original length by\n            first repeating every color 20% lighter then each color\n            20% darker. This is intended to reduce the likelihood\n            of reusing the same color when you have many slices,\n            but you can set `false` to disable. Colors provided in\n            the trace, using `marker.colors`, are never extended.\n        extendiciclecolors\n            If `true`, the icicle slice colors (whether given by\n            `iciclecolorway` or inherited from `colorway`) will be\n            extended to three times its original length by first\n            repeating every color 20% lighter then each color 20%\n            darker. This is intended to reduce the likelihood of\n            reusing the same color when you have many slices, but\n            you can set `false` to disable. Colors provided in the\n            trace, using `marker.colors`, are never extended.\n        extendpiecolors\n            If `true`, the pie slice colors (whether given by\n            `piecolorway` or inherited from `colorway`) will be\n            extended to three times its original length by first\n            repeating every color 20% lighter then each color 20%\n            darker. This is intended to reduce the likelihood of\n            reusing the same color when you have many slices, but\n            you can set `false` to disable. Colors provided in the\n            trace, using `marker.colors`, are never extended.\n        extendsunburstcolors\n            If `true`, the sunburst slice colors (whether given by\n            `sunburstcolorway` or inherited from `colorway`) will\n            be extended to three times its original length by first\n            repeating every color 20% lighter then each color 20%\n            darker. This is intended to reduce the likelihood of\n            reusing the same color when you have many slices, but\n            you can set `false` to disable. Colors provided in the\n            trace, using `marker.colors`, are never extended.\n        extendtreemapcolors\n            If `true`, the treemap slice colors (whether given by\n            `treemapcolorway` or inherited from `colorway`) will be\n            extended to three times its original length by first\n            repeating every color 20% lighter then each color 20%\n            darker. This is intended to reduce the likelihood of\n            reusing the same color when you have many slices, but\n            you can set `false` to disable. Colors provided in the\n            trace, using `marker.colors`, are never extended.\n        font\n            Sets the global font. Note that fonts used in traces\n            and other layout components inherit from the global\n            font.\n        funnelareacolorway\n            Sets the default funnelarea slice colors. Defaults to\n            the main `colorway` used for trace colors. If you\n            specify a new list here it can still be extended with\n            lighter and darker colors, see\n            `extendfunnelareacolors`.\n        funnelgap\n            Sets the gap (in plot fraction) between bars of\n            adjacent location coordinates.\n        funnelgroupgap\n            Sets the gap (in plot fraction) between bars of the\n            same location coordinate.\n        funnelmode\n            Determines how bars at the same location coordinate are\n            displayed on the graph. With \"stack\", the bars are\n            stacked on top of one another With \"group\", the bars\n            are plotted next to one another centered around the\n            shared location. With \"overlay\", the bars are plotted\n            over one another, you might need to reduce \"opacity\" to\n            see multiple bars.\n        geo\n            :class:`plotly.graph_objects.layout.Geo` instance or\n            dict with compatible properties\n        grid\n            :class:`plotly.graph_objects.layout.Grid` instance or\n            dict with compatible properties\n        height\n            Sets the plot's height (in px).\n        hiddenlabels\n            hiddenlabels is the funnelarea & pie chart analog of\n            visible:'legendonly' but it can contain many labels,\n            and can simultaneously hide slices from several\n            pies/funnelarea charts\n        hiddenlabelssrc\n            Sets the source reference on Chart Studio Cloud for\n            `hiddenlabels`.\n        hidesources\n            Determines whether or not a text link citing the data\n            source is placed at the bottom-right cored of the\n            figure. Has only an effect only on graphs that have\n            been generated via forked graphs from the Chart Studio\n            Cloud (at https://chart-studio.plotly.com or on-\n            premise).\n        hoverdistance\n            Sets the default distance (in pixels) to look for data\n            to add hover labels (-1 means no cutoff, 0 means no\n            looking for data). This is only a real distance for\n            hovering on point-like objects, like scatter points.\n            For area-like objects (bars, scatter fills, etc)\n            hovering is on inside the area and off outside, but\n            these objects will not supersede hover on point-like\n            objects in case of conflict.\n        hoverlabel\n            :class:`plotly.graph_objects.layout.Hoverlabel`\n            instance or dict with compatible properties\n        hovermode\n            Determines the mode of hover interactions. If\n            \"closest\", a single hoverlabel will appear for the\n            \"closest\" point within the `hoverdistance`. If \"x\" (or\n            \"y\"), multiple hoverlabels will appear for multiple\n            points at the \"closest\" x- (or y-) coordinate within\n            the `hoverdistance`, with the caveat that no more than\n            one hoverlabel will appear per trace. If *x unified*\n            (or *y unified*), a single hoverlabel will appear\n            multiple points at the closest x- (or y-) coordinate\n            within the `hoverdistance` with the caveat that no more\n            than one hoverlabel will appear per trace. In this\n            mode, spikelines are enabled by default perpendicular\n            to the specified axis. If false, hover interactions are\n            disabled.\n        iciclecolorway\n            Sets the default icicle slice colors. Defaults to the\n            main `colorway` used for trace colors. If you specify a\n            new list here it can still be extended with lighter and\n            darker colors, see `extendiciclecolors`.\n        images\n            A tuple of :class:`plotly.graph_objects.layout.Image`\n            instances or dicts with compatible properties\n        imagedefaults\n            When used in a template (as\n            layout.template.layout.imagedefaults), sets the default\n            property values to use for elements of layout.images\n        legend\n            :class:`plotly.graph_objects.layout.Legend` instance or\n            dict with compatible properties\n        mapbox\n            :class:`plotly.graph_objects.layout.Mapbox` instance or\n            dict with compatible properties\n        margin\n            :class:`plotly.graph_objects.layout.Margin` instance or\n            dict with compatible properties\n        meta\n            Assigns extra meta information that can be used in\n            various `text` attributes. Attributes such as the\n            graph, axis and colorbar `title.text`, annotation\n            `text` `trace.name` in legend items, `rangeselector`,\n            `updatemenus` and `sliders` `label` text all support\n            `meta`. One can access `meta` fields using template\n            strings: `%{meta[i]}` where `i` is the index of the\n            `meta` item in question. `meta` can also be an object\n            for example `{key: value}` which can be accessed\n            %{meta[key]}.\n        metasrc\n            Sets the source reference on Chart Studio Cloud for\n            `meta`.\n        minreducedheight\n            Minimum height of the plot with margin.automargin\n            applied (in px)\n        minreducedwidth\n            Minimum width of the plot with margin.automargin\n            applied (in px)\n        modebar\n            :class:`plotly.graph_objects.layout.Modebar` instance\n            or dict with compatible properties\n        newselection\n            :class:`plotly.graph_objects.layout.Newselection`\n            instance or dict with compatible properties\n        newshape\n            :class:`plotly.graph_objects.layout.Newshape` instance\n            or dict with compatible properties\n        paper_bgcolor\n            Sets the background color of the paper where the graph\n            is drawn.\n        piecolorway\n            Sets the default pie slice colors. Defaults to the main\n            `colorway` used for trace colors. If you specify a new\n            list here it can still be extended with lighter and\n            darker colors, see `extendpiecolors`.\n        plot_bgcolor\n            Sets the background color of the plotting area in-\n            between x and y axes.\n        polar\n            :class:`plotly.graph_objects.layout.Polar` instance or\n            dict with compatible properties\n        scattergap\n            Sets the gap (in plot fraction) between scatter points\n            of adjacent location coordinates. Defaults to `bargap`.\n        scattermode\n            Determines how scatter points at the same location\n            coordinate are displayed on the graph. With \"group\",\n            the scatter points are plotted next to one another\n            centered around the shared location. With \"overlay\",\n            the scatter points are plotted over one another, you\n            might need to reduce \"opacity\" to see multiple scatter\n            points.\n        scene\n            :class:`plotly.graph_objects.layout.Scene` instance or\n            dict with compatible properties\n        selectdirection\n            When `dragmode` is set to \"select\", this limits the\n            selection of the drag to horizontal, vertical or\n            diagonal. \"h\" only allows horizontal selection, \"v\"\n            only vertical, \"d\" only diagonal and \"any\" sets no\n            limit.\n        selectionrevision\n            Controls persistence of user-driven changes in selected\n            points from all traces.\n        selections\n            A tuple of\n            :class:`plotly.graph_objects.layout.Selection`\n            instances or dicts with compatible properties\n        selectiondefaults\n            When used in a template (as\n            layout.template.layout.selectiondefaults), sets the\n            default property values to use for elements of\n            layout.selections\n        separators\n            Sets the decimal and thousand separators. For example,\n            *. * puts a '.' before decimals and a space between\n            thousands. In English locales, dflt is \".,\" but other\n            locales may alter this default.\n        shapes\n            A tuple of :class:`plotly.graph_objects.layout.Shape`\n            instances or dicts with compatible properties\n        shapedefaults\n            When used in a template (as\n            layout.template.layout.shapedefaults), sets the default\n            property values to use for elements of layout.shapes\n        showlegend\n            Determines whether or not a legend is drawn. Default is\n            `true` if there is a trace to show and any of these: a)\n            Two or more traces would by default be shown in the\n            legend. b) One pie trace is shown in the legend. c) One\n            trace is explicitly given with `showlegend: true`.\n        sliders\n            A tuple of :class:`plotly.graph_objects.layout.Slider`\n            instances or dicts with compatible properties\n        sliderdefaults\n            When used in a template (as\n            layout.template.layout.sliderdefaults), sets the\n            default property values to use for elements of\n            layout.sliders\n        smith\n            :class:`plotly.graph_objects.layout.Smith` instance or\n            dict with compatible properties\n        spikedistance\n            Sets the default distance (in pixels) to look for data\n            to draw spikelines to (-1 means no cutoff, 0 means no\n            looking for data). As with hoverdistance, distance does\n            not apply to area-like objects. In addition, some\n            objects can be hovered on but will not generate\n            spikelines, such as scatter fills.\n        sunburstcolorway\n            Sets the default sunburst slice colors. Defaults to the\n            main `colorway` used for trace colors. If you specify a\n            new list here it can still be extended with lighter and\n            darker colors, see `extendsunburstcolors`.\n        template\n            Default attributes to be applied to the plot. This\n            should be a dict with format: `{'layout':\n            layoutTemplate, 'data': {trace_type: [traceTemplate,\n            ...], ...}}` where `layoutTemplate` is a dict matching\n            the structure of `figure.layout` and `traceTemplate` is\n            a dict matching the structure of the trace with type\n            `trace_type` (e.g. 'scatter'). Alternatively, this may\n            be specified as an instance of\n            plotly.graph_objs.layout.Template.  Trace templates are\n            applied cyclically to traces of each type. Container\n            arrays (eg `annotations`) have special handling: An\n            object ending in `defaults` (eg `annotationdefaults`)\n            is applied to each array item. But if an item has a\n            `templateitemname` key we look in the template array\n            for an item with matching `name` and apply that\n            instead. If no matching `name` is found we mark the\n            item invisible. Any named template item not referenced\n            is appended to the end of the array, so this can be\n            used to add a watermark annotation or a logo image, for\n            example. To omit one of these items on the plot, make\n            an item with matching `templateitemname` and `visible:\n            false`.\n        ternary\n            :class:`plotly.graph_objects.layout.Ternary` instance\n            or dict with compatible properties\n        title\n            :class:`plotly.graph_objects.layout.Title` instance or\n            dict with compatible properties\n        titlefont\n            Deprecated: Please use layout.title.font instead. Sets\n            the title font. Note that the title's font used to be\n            customized by the now deprecated `titlefont` attribute.\n        transition\n            Sets transition options used during Plotly.react\n            updates.\n        treemapcolorway\n            Sets the default treemap slice colors. Defaults to the\n            main `colorway` used for trace colors. If you specify a\n            new list here it can still be extended with lighter and\n            darker colors, see `extendtreemapcolors`.\n        uirevision\n            Used to allow user interactions with the plot to\n            persist after `Plotly.react` calls that are unaware of\n            these interactions. If `uirevision` is omitted, or if\n            it is given and it changed from the previous\n            `Plotly.react` call, the exact new figure is used. If\n            `uirevision` is truthy and did NOT change, any\n            attribute that has been affected by user interactions\n            and did not receive a different value in the new figure\n            will keep the interaction value. `layout.uirevision`\n            attribute serves as the default for `uirevision`\n            attributes in various sub-containers. For finer control\n            you can set these sub-attributes directly. For example,\n            if your app separately controls the data on the x and y\n            axes you might set `xaxis.uirevision=*time*` and\n            `yaxis.uirevision=*cost*`. Then if only the y data is\n            changed, you can update `yaxis.uirevision=*quantity*`\n            and the y axis range will reset but the x axis range\n            will retain any user-driven zoom.\n        uniformtext\n            :class:`plotly.graph_objects.layout.Uniformtext`\n            instance or dict with compatible properties\n        updatemenus\n            A tuple of\n            :class:`plotly.graph_objects.layout.Updatemenu`\n            instances or dicts with compatible properties\n        updatemenudefaults\n            When used in a template (as\n            layout.template.layout.updatemenudefaults), sets the\n            default property values to use for elements of\n            layout.updatemenus\n        violingap\n            Sets the gap (in plot fraction) between violins of\n            adjacent location coordinates. Has no effect on traces\n            that have \"width\" set.\n        violingroupgap\n            Sets the gap (in plot fraction) between violins of the\n            same location coordinate. Has no effect on traces that\n            have \"width\" set.\n        violinmode\n            Determines how violins at the same location coordinate\n            are displayed on the graph. If \"group\", the violins are\n            plotted next to one another centered around the shared\n            location. If \"overlay\", the violins are plotted over\n            one another, you might need to set \"opacity\" to see\n            them multiple violins. Has no effect on traces that\n            have \"width\" set.\n        waterfallgap\n            Sets the gap (in plot fraction) between bars of\n            adjacent location coordinates.\n        waterfallgroupgap\n            Sets the gap (in plot fraction) between bars of the\n            same location coordinate.\n        waterfallmode\n            Determines how bars at the same location coordinate are\n            displayed on the graph. With \"group\", the bars are\n            plotted next to one another centered around the shared\n            location. With \"overlay\", the bars are plotted over one\n            another, you might need to reduce \"opacity\" to see\n            multiple bars.\n        width\n            Sets the plot's width (in px).\n        xaxis\n            :class:`plotly.graph_objects.layout.XAxis` instance or\n            dict with compatible properties\n        yaxis\n            :class:`plotly.graph_objects.layout.YAxis` instance or\n            dict with compatible properties\n        \nDid you mean \"geo\"?\n\nBad property path:\nx\n^",
     "output_type": "error",
     "traceback": [
      "\u001b[0;31m---------------------------------------------------------------------------\u001b[0m",
      "\u001b[0;31mValueError\u001b[0m                                Traceback (most recent call last)",
      "Cell \u001b[0;32mIn[36], line 9\u001b[0m\n\u001b[1;32m      6\u001b[0m trace1 \u001b[38;5;241m=\u001b[39m go\u001b[38;5;241m.\u001b[39mBar(y\u001b[38;5;241m=\u001b[39mlabels, x\u001b[38;5;241m=\u001b[39mvalues, orientation\u001b[38;5;241m=\u001b[39m\u001b[38;5;124m\"\u001b[39m\u001b[38;5;124mh\u001b[39m\u001b[38;5;124m\"\u001b[39m, name\u001b[38;5;241m=\u001b[39m\u001b[38;5;124m\"\u001b[39m\u001b[38;5;124mTV Shows\u001b[39m\u001b[38;5;124m\"\u001b[39m, marker\u001b[38;5;241m=\u001b[39m\u001b[38;5;28mdict\u001b[39m(color\u001b[38;5;241m=\u001b[39m\u001b[38;5;124m\"\u001b[39m\u001b[38;5;124m#a678de\u001b[39m\u001b[38;5;124m\"\u001b[39m))\n\u001b[1;32m      8\u001b[0m data \u001b[38;5;241m=\u001b[39m [trace1]\n\u001b[0;32m----> 9\u001b[0m layout \u001b[38;5;241m=\u001b[39m \u001b[43mgo\u001b[49m\u001b[38;5;241;43m.\u001b[39;49m\u001b[43mLayout\u001b[49m\u001b[43m(\u001b[49m\u001b[43mx\u001b[49m\u001b[43m \u001b[49m\u001b[38;5;241;43m=\u001b[39;49m\u001b[43m \u001b[49m\u001b[38;5;124;43m\"\u001b[39;49m\u001b[38;5;124;43mcontent\u001b[39;49m\u001b[38;5;124;43m\"\u001b[39;49m\u001b[43m,\u001b[49m\u001b[43my\u001b[49m\u001b[38;5;241;43m=\u001b[39;49m\u001b[38;5;124;43m\"\u001b[39;49m\u001b[38;5;124;43myears\u001b[39;49m\u001b[38;5;124;43m\"\u001b[39;49m\u001b[43m,\u001b[49m\u001b[43m \u001b[49m\u001b[43mtitle\u001b[49m\u001b[38;5;241;43m=\u001b[39;49m\u001b[38;5;124;43m\"\u001b[39;49m\u001b[38;5;124;43mContent added over the years\u001b[39;49m\u001b[38;5;124;43m\"\u001b[39;49m\u001b[43m,\u001b[49m\u001b[43m \u001b[49m\u001b[43mlegend\u001b[49m\u001b[38;5;241;43m=\u001b[39;49m\u001b[38;5;28;43mdict\u001b[39;49m\u001b[43m(\u001b[49m\u001b[43mx\u001b[49m\u001b[38;5;241;43m=\u001b[39;49m\u001b[38;5;241;43m0.1\u001b[39;49m\u001b[43m,\u001b[49m\u001b[43m \u001b[49m\u001b[43my\u001b[49m\u001b[38;5;241;43m=\u001b[39;49m\u001b[38;5;241;43m1.1\u001b[39;49m\u001b[43m,\u001b[49m\u001b[43m \u001b[49m\u001b[43morientation\u001b[49m\u001b[38;5;241;43m=\u001b[39;49m\u001b[38;5;124;43m\"\u001b[39;49m\u001b[38;5;124;43mh\u001b[39;49m\u001b[38;5;124;43m\"\u001b[39;49m\u001b[43m)\u001b[49m\u001b[43m)\u001b[49m\n\u001b[1;32m     10\u001b[0m fig \u001b[38;5;241m=\u001b[39m go\u001b[38;5;241m.\u001b[39mFigure(data, layout\u001b[38;5;241m=\u001b[39mlayout)\n\u001b[1;32m     11\u001b[0m fig\u001b[38;5;241m.\u001b[39mshow()\n",
      "File \u001b[0;32m/Library/Frameworks/Python.framework/Versions/3.12/lib/python3.12/site-packages/plotly/graph_objs/_layout.py:7014\u001b[0m, in \u001b[0;36mLayout.__init__\u001b[0;34m(self, arg, activeselection, activeshape, annotations, annotationdefaults, autosize, autotypenumbers, barcornerradius, bargap, bargroupgap, barmode, barnorm, boxgap, boxgroupgap, boxmode, calendar, clickmode, coloraxis, colorscale, colorway, computed, datarevision, dragmode, editrevision, extendfunnelareacolors, extendiciclecolors, extendpiecolors, extendsunburstcolors, extendtreemapcolors, font, funnelareacolorway, funnelgap, funnelgroupgap, funnelmode, geo, grid, height, hiddenlabels, hiddenlabelssrc, hidesources, hoverdistance, hoverlabel, hovermode, iciclecolorway, images, imagedefaults, legend, mapbox, margin, meta, metasrc, minreducedheight, minreducedwidth, modebar, newselection, newshape, paper_bgcolor, piecolorway, plot_bgcolor, polar, scattergap, scattermode, scene, selectdirection, selectionrevision, selections, selectiondefaults, separators, shapes, shapedefaults, showlegend, sliders, sliderdefaults, smith, spikedistance, sunburstcolorway, template, ternary, title, titlefont, transition, treemapcolorway, uirevision, uniformtext, updatemenus, updatemenudefaults, violingap, violingroupgap, violinmode, waterfallgap, waterfallgroupgap, waterfallmode, width, xaxis, yaxis, **kwargs)\u001b[0m\n\u001b[1;32m   7010\u001b[0m     \u001b[38;5;28mself\u001b[39m[\u001b[38;5;124m\"\u001b[39m\u001b[38;5;124myaxis\u001b[39m\u001b[38;5;124m\"\u001b[39m] \u001b[38;5;241m=\u001b[39m _v\n\u001b[1;32m   7012\u001b[0m \u001b[38;5;66;03m# Process unknown kwargs\u001b[39;00m\n\u001b[1;32m   7013\u001b[0m \u001b[38;5;66;03m# ----------------------\u001b[39;00m\n\u001b[0;32m-> 7014\u001b[0m \u001b[38;5;28;43mself\u001b[39;49m\u001b[38;5;241;43m.\u001b[39;49m\u001b[43m_process_kwargs\u001b[49m\u001b[43m(\u001b[49m\u001b[38;5;241;43m*\u001b[39;49m\u001b[38;5;241;43m*\u001b[39;49m\u001b[38;5;28;43mdict\u001b[39;49m\u001b[43m(\u001b[49m\u001b[43marg\u001b[49m\u001b[43m,\u001b[49m\u001b[43m \u001b[49m\u001b[38;5;241;43m*\u001b[39;49m\u001b[38;5;241;43m*\u001b[39;49m\u001b[43mkwargs\u001b[49m\u001b[43m)\u001b[49m\u001b[43m)\u001b[49m\n\u001b[1;32m   7016\u001b[0m \u001b[38;5;66;03m# Reset skip_invalid\u001b[39;00m\n\u001b[1;32m   7017\u001b[0m \u001b[38;5;66;03m# ------------------\u001b[39;00m\n\u001b[1;32m   7018\u001b[0m \u001b[38;5;28mself\u001b[39m\u001b[38;5;241m.\u001b[39m_skip_invalid \u001b[38;5;241m=\u001b[39m \u001b[38;5;28;01mFalse\u001b[39;00m\n",
      "File \u001b[0;32m/Library/Frameworks/Python.framework/Versions/3.12/lib/python3.12/site-packages/plotly/basedatatypes.py:5769\u001b[0m, in \u001b[0;36mBaseLayoutType._process_kwargs\u001b[0;34m(self, **kwargs)\u001b[0m\n\u001b[1;32m   5763\u001b[0m \u001b[38;5;250m\u001b[39m\u001b[38;5;124;03m\"\"\"\u001b[39;00m\n\u001b[1;32m   5764\u001b[0m \u001b[38;5;124;03mProcess any extra kwargs that are not predefined as constructor params\u001b[39;00m\n\u001b[1;32m   5765\u001b[0m \u001b[38;5;124;03m\"\"\"\u001b[39;00m\n\u001b[1;32m   5766\u001b[0m unknown_kwargs \u001b[38;5;241m=\u001b[39m {\n\u001b[1;32m   5767\u001b[0m     k: v \u001b[38;5;28;01mfor\u001b[39;00m k, v \u001b[38;5;129;01min\u001b[39;00m kwargs\u001b[38;5;241m.\u001b[39mitems() \u001b[38;5;28;01mif\u001b[39;00m \u001b[38;5;129;01mnot\u001b[39;00m \u001b[38;5;28mself\u001b[39m\u001b[38;5;241m.\u001b[39m_subplot_re_match(k)\n\u001b[1;32m   5768\u001b[0m }\n\u001b[0;32m-> 5769\u001b[0m \u001b[38;5;28;43msuper\u001b[39;49m\u001b[43m(\u001b[49m\u001b[43mBaseLayoutHierarchyType\u001b[49m\u001b[43m,\u001b[49m\u001b[43m \u001b[49m\u001b[38;5;28;43mself\u001b[39;49m\u001b[43m)\u001b[49m\u001b[38;5;241;43m.\u001b[39;49m\u001b[43m_process_kwargs\u001b[49m\u001b[43m(\u001b[49m\u001b[38;5;241;43m*\u001b[39;49m\u001b[38;5;241;43m*\u001b[39;49m\u001b[43munknown_kwargs\u001b[49m\u001b[43m)\u001b[49m\n\u001b[1;32m   5771\u001b[0m subplot_kwargs \u001b[38;5;241m=\u001b[39m {k: v \u001b[38;5;28;01mfor\u001b[39;00m k, v \u001b[38;5;129;01min\u001b[39;00m kwargs\u001b[38;5;241m.\u001b[39mitems() \u001b[38;5;28;01mif\u001b[39;00m \u001b[38;5;28mself\u001b[39m\u001b[38;5;241m.\u001b[39m_subplot_re_match(k)}\n\u001b[1;32m   5773\u001b[0m \u001b[38;5;28;01mfor\u001b[39;00m prop, value \u001b[38;5;129;01min\u001b[39;00m subplot_kwargs\u001b[38;5;241m.\u001b[39mitems():\n",
      "File \u001b[0;32m/Library/Frameworks/Python.framework/Versions/3.12/lib/python3.12/site-packages/plotly/basedatatypes.py:4392\u001b[0m, in \u001b[0;36mBasePlotlyType._process_kwargs\u001b[0;34m(self, **kwargs)\u001b[0m\n\u001b[1;32m   4390\u001b[0m     \u001b[38;5;28mself\u001b[39m[k] \u001b[38;5;241m=\u001b[39m v\n\u001b[1;32m   4391\u001b[0m \u001b[38;5;28;01melif\u001b[39;00m \u001b[38;5;129;01mnot\u001b[39;00m \u001b[38;5;28mself\u001b[39m\u001b[38;5;241m.\u001b[39m_skip_invalid:\n\u001b[0;32m-> 4392\u001b[0m     \u001b[38;5;28;01mraise\u001b[39;00m err\n",
      "\u001b[0;31mValueError\u001b[0m: Invalid property specified for object of type plotly.graph_objs.Layout: 'x'\n\nDid you mean \"geo\"?\n\n    Valid properties:\n        activeselection\n            :class:`plotly.graph_objects.layout.Activeselection`\n            instance or dict with compatible properties\n        activeshape\n            :class:`plotly.graph_objects.layout.Activeshape`\n            instance or dict with compatible properties\n        annotations\n            A tuple of\n            :class:`plotly.graph_objects.layout.Annotation`\n            instances or dicts with compatible properties\n        annotationdefaults\n            When used in a template (as\n            layout.template.layout.annotationdefaults), sets the\n            default property values to use for elements of\n            layout.annotations\n        autosize\n            Determines whether or not a layout width or height that\n            has been left undefined by the user is initialized on\n            each relayout. Note that, regardless of this attribute,\n            an undefined layout width or height is always\n            initialized on the first call to plot.\n        autotypenumbers\n            Using \"strict\" a numeric string in trace data is not\n            converted to a number. Using *convert types* a numeric\n            string in trace data may be treated as a number during\n            automatic axis `type` detection. This is the default\n            value; however it could be overridden for individual\n            axes.\n        barcornerradius\n            Sets the rounding of bar corners. May be an integer\n            number of pixels, or a percentage of bar width (as a\n            string ending in %).\n        bargap\n            Sets the gap (in plot fraction) between bars of\n            adjacent location coordinates.\n        bargroupgap\n            Sets the gap (in plot fraction) between bars of the\n            same location coordinate.\n        barmode\n            Determines how bars at the same location coordinate are\n            displayed on the graph. With \"stack\", the bars are\n            stacked on top of one another With \"relative\", the bars\n            are stacked on top of one another, with negative values\n            below the axis, positive values above With \"group\", the\n            bars are plotted next to one another centered around\n            the shared location. With \"overlay\", the bars are\n            plotted over one another, you might need to reduce\n            \"opacity\" to see multiple bars.\n        barnorm\n            Sets the normalization for bar traces on the graph.\n            With \"fraction\", the value of each bar is divided by\n            the sum of all values at that location coordinate.\n            \"percent\" is the same but multiplied by 100 to show\n            percentages.\n        boxgap\n            Sets the gap (in plot fraction) between boxes of\n            adjacent location coordinates. Has no effect on traces\n            that have \"width\" set.\n        boxgroupgap\n            Sets the gap (in plot fraction) between boxes of the\n            same location coordinate. Has no effect on traces that\n            have \"width\" set.\n        boxmode\n            Determines how boxes at the same location coordinate\n            are displayed on the graph. If \"group\", the boxes are\n            plotted next to one another centered around the shared\n            location. If \"overlay\", the boxes are plotted over one\n            another, you might need to set \"opacity\" to see them\n            multiple boxes. Has no effect on traces that have\n            \"width\" set.\n        calendar\n            Sets the default calendar system to use for\n            interpreting and displaying dates throughout the plot.\n        clickmode\n            Determines the mode of single click interactions.\n            \"event\" is the default value and emits the\n            `plotly_click` event. In addition this mode emits the\n            `plotly_selected` event in drag modes \"lasso\" and\n            \"select\", but with no event data attached (kept for\n            compatibility reasons). The \"select\" flag enables\n            selecting single data points via click. This mode also\n            supports persistent selections, meaning that pressing\n            Shift while clicking, adds to / subtracts from an\n            existing selection. \"select\" with `hovermode`: \"x\" can\n            be confusing, consider explicitly setting `hovermode`:\n            \"closest\" when using this feature. Selection events are\n            sent accordingly as long as \"event\" flag is set as\n            well. When the \"event\" flag is missing, `plotly_click`\n            and `plotly_selected` events are not fired.\n        coloraxis\n            :class:`plotly.graph_objects.layout.Coloraxis` instance\n            or dict with compatible properties\n        colorscale\n            :class:`plotly.graph_objects.layout.Colorscale`\n            instance or dict with compatible properties\n        colorway\n            Sets the default trace colors.\n        computed\n            Placeholder for exporting automargin-impacting values\n            namely `margin.t`, `margin.b`, `margin.l` and\n            `margin.r` in \"full-json\" mode.\n        datarevision\n            If provided, a changed value tells `Plotly.react` that\n            one or more data arrays has changed. This way you can\n            modify arrays in-place rather than making a complete\n            new copy for an incremental change. If NOT provided,\n            `Plotly.react` assumes that data arrays are being\n            treated as immutable, thus any data array with a\n            different identity from its predecessor contains new\n            data.\n        dragmode\n            Determines the mode of drag interactions. \"select\" and\n            \"lasso\" apply only to scatter traces with markers or\n            text. \"orbit\" and \"turntable\" apply only to 3D scenes.\n        editrevision\n            Controls persistence of user-driven changes in\n            `editable: true` configuration, other than trace names\n            and axis titles. Defaults to `layout.uirevision`.\n        extendfunnelareacolors\n            If `true`, the funnelarea slice colors (whether given\n            by `funnelareacolorway` or inherited from `colorway`)\n            will be extended to three times its original length by\n            first repeating every color 20% lighter then each color\n            20% darker. This is intended to reduce the likelihood\n            of reusing the same color when you have many slices,\n            but you can set `false` to disable. Colors provided in\n            the trace, using `marker.colors`, are never extended.\n        extendiciclecolors\n            If `true`, the icicle slice colors (whether given by\n            `iciclecolorway` or inherited from `colorway`) will be\n            extended to three times its original length by first\n            repeating every color 20% lighter then each color 20%\n            darker. This is intended to reduce the likelihood of\n            reusing the same color when you have many slices, but\n            you can set `false` to disable. Colors provided in the\n            trace, using `marker.colors`, are never extended.\n        extendpiecolors\n            If `true`, the pie slice colors (whether given by\n            `piecolorway` or inherited from `colorway`) will be\n            extended to three times its original length by first\n            repeating every color 20% lighter then each color 20%\n            darker. This is intended to reduce the likelihood of\n            reusing the same color when you have many slices, but\n            you can set `false` to disable. Colors provided in the\n            trace, using `marker.colors`, are never extended.\n        extendsunburstcolors\n            If `true`, the sunburst slice colors (whether given by\n            `sunburstcolorway` or inherited from `colorway`) will\n            be extended to three times its original length by first\n            repeating every color 20% lighter then each color 20%\n            darker. This is intended to reduce the likelihood of\n            reusing the same color when you have many slices, but\n            you can set `false` to disable. Colors provided in the\n            trace, using `marker.colors`, are never extended.\n        extendtreemapcolors\n            If `true`, the treemap slice colors (whether given by\n            `treemapcolorway` or inherited from `colorway`) will be\n            extended to three times its original length by first\n            repeating every color 20% lighter then each color 20%\n            darker. This is intended to reduce the likelihood of\n            reusing the same color when you have many slices, but\n            you can set `false` to disable. Colors provided in the\n            trace, using `marker.colors`, are never extended.\n        font\n            Sets the global font. Note that fonts used in traces\n            and other layout components inherit from the global\n            font.\n        funnelareacolorway\n            Sets the default funnelarea slice colors. Defaults to\n            the main `colorway` used for trace colors. If you\n            specify a new list here it can still be extended with\n            lighter and darker colors, see\n            `extendfunnelareacolors`.\n        funnelgap\n            Sets the gap (in plot fraction) between bars of\n            adjacent location coordinates.\n        funnelgroupgap\n            Sets the gap (in plot fraction) between bars of the\n            same location coordinate.\n        funnelmode\n            Determines how bars at the same location coordinate are\n            displayed on the graph. With \"stack\", the bars are\n            stacked on top of one another With \"group\", the bars\n            are plotted next to one another centered around the\n            shared location. With \"overlay\", the bars are plotted\n            over one another, you might need to reduce \"opacity\" to\n            see multiple bars.\n        geo\n            :class:`plotly.graph_objects.layout.Geo` instance or\n            dict with compatible properties\n        grid\n            :class:`plotly.graph_objects.layout.Grid` instance or\n            dict with compatible properties\n        height\n            Sets the plot's height (in px).\n        hiddenlabels\n            hiddenlabels is the funnelarea & pie chart analog of\n            visible:'legendonly' but it can contain many labels,\n            and can simultaneously hide slices from several\n            pies/funnelarea charts\n        hiddenlabelssrc\n            Sets the source reference on Chart Studio Cloud for\n            `hiddenlabels`.\n        hidesources\n            Determines whether or not a text link citing the data\n            source is placed at the bottom-right cored of the\n            figure. Has only an effect only on graphs that have\n            been generated via forked graphs from the Chart Studio\n            Cloud (at https://chart-studio.plotly.com or on-\n            premise).\n        hoverdistance\n            Sets the default distance (in pixels) to look for data\n            to add hover labels (-1 means no cutoff, 0 means no\n            looking for data). This is only a real distance for\n            hovering on point-like objects, like scatter points.\n            For area-like objects (bars, scatter fills, etc)\n            hovering is on inside the area and off outside, but\n            these objects will not supersede hover on point-like\n            objects in case of conflict.\n        hoverlabel\n            :class:`plotly.graph_objects.layout.Hoverlabel`\n            instance or dict with compatible properties\n        hovermode\n            Determines the mode of hover interactions. If\n            \"closest\", a single hoverlabel will appear for the\n            \"closest\" point within the `hoverdistance`. If \"x\" (or\n            \"y\"), multiple hoverlabels will appear for multiple\n            points at the \"closest\" x- (or y-) coordinate within\n            the `hoverdistance`, with the caveat that no more than\n            one hoverlabel will appear per trace. If *x unified*\n            (or *y unified*), a single hoverlabel will appear\n            multiple points at the closest x- (or y-) coordinate\n            within the `hoverdistance` with the caveat that no more\n            than one hoverlabel will appear per trace. In this\n            mode, spikelines are enabled by default perpendicular\n            to the specified axis. If false, hover interactions are\n            disabled.\n        iciclecolorway\n            Sets the default icicle slice colors. Defaults to the\n            main `colorway` used for trace colors. If you specify a\n            new list here it can still be extended with lighter and\n            darker colors, see `extendiciclecolors`.\n        images\n            A tuple of :class:`plotly.graph_objects.layout.Image`\n            instances or dicts with compatible properties\n        imagedefaults\n            When used in a template (as\n            layout.template.layout.imagedefaults), sets the default\n            property values to use for elements of layout.images\n        legend\n            :class:`plotly.graph_objects.layout.Legend` instance or\n            dict with compatible properties\n        mapbox\n            :class:`plotly.graph_objects.layout.Mapbox` instance or\n            dict with compatible properties\n        margin\n            :class:`plotly.graph_objects.layout.Margin` instance or\n            dict with compatible properties\n        meta\n            Assigns extra meta information that can be used in\n            various `text` attributes. Attributes such as the\n            graph, axis and colorbar `title.text`, annotation\n            `text` `trace.name` in legend items, `rangeselector`,\n            `updatemenus` and `sliders` `label` text all support\n            `meta`. One can access `meta` fields using template\n            strings: `%{meta[i]}` where `i` is the index of the\n            `meta` item in question. `meta` can also be an object\n            for example `{key: value}` which can be accessed\n            %{meta[key]}.\n        metasrc\n            Sets the source reference on Chart Studio Cloud for\n            `meta`.\n        minreducedheight\n            Minimum height of the plot with margin.automargin\n            applied (in px)\n        minreducedwidth\n            Minimum width of the plot with margin.automargin\n            applied (in px)\n        modebar\n            :class:`plotly.graph_objects.layout.Modebar` instance\n            or dict with compatible properties\n        newselection\n            :class:`plotly.graph_objects.layout.Newselection`\n            instance or dict with compatible properties\n        newshape\n            :class:`plotly.graph_objects.layout.Newshape` instance\n            or dict with compatible properties\n        paper_bgcolor\n            Sets the background color of the paper where the graph\n            is drawn.\n        piecolorway\n            Sets the default pie slice colors. Defaults to the main\n            `colorway` used for trace colors. If you specify a new\n            list here it can still be extended with lighter and\n            darker colors, see `extendpiecolors`.\n        plot_bgcolor\n            Sets the background color of the plotting area in-\n            between x and y axes.\n        polar\n            :class:`plotly.graph_objects.layout.Polar` instance or\n            dict with compatible properties\n        scattergap\n            Sets the gap (in plot fraction) between scatter points\n            of adjacent location coordinates. Defaults to `bargap`.\n        scattermode\n            Determines how scatter points at the same location\n            coordinate are displayed on the graph. With \"group\",\n            the scatter points are plotted next to one another\n            centered around the shared location. With \"overlay\",\n            the scatter points are plotted over one another, you\n            might need to reduce \"opacity\" to see multiple scatter\n            points.\n        scene\n            :class:`plotly.graph_objects.layout.Scene` instance or\n            dict with compatible properties\n        selectdirection\n            When `dragmode` is set to \"select\", this limits the\n            selection of the drag to horizontal, vertical or\n            diagonal. \"h\" only allows horizontal selection, \"v\"\n            only vertical, \"d\" only diagonal and \"any\" sets no\n            limit.\n        selectionrevision\n            Controls persistence of user-driven changes in selected\n            points from all traces.\n        selections\n            A tuple of\n            :class:`plotly.graph_objects.layout.Selection`\n            instances or dicts with compatible properties\n        selectiondefaults\n            When used in a template (as\n            layout.template.layout.selectiondefaults), sets the\n            default property values to use for elements of\n            layout.selections\n        separators\n            Sets the decimal and thousand separators. For example,\n            *. * puts a '.' before decimals and a space between\n            thousands. In English locales, dflt is \".,\" but other\n            locales may alter this default.\n        shapes\n            A tuple of :class:`plotly.graph_objects.layout.Shape`\n            instances or dicts with compatible properties\n        shapedefaults\n            When used in a template (as\n            layout.template.layout.shapedefaults), sets the default\n            property values to use for elements of layout.shapes\n        showlegend\n            Determines whether or not a legend is drawn. Default is\n            `true` if there is a trace to show and any of these: a)\n            Two or more traces would by default be shown in the\n            legend. b) One pie trace is shown in the legend. c) One\n            trace is explicitly given with `showlegend: true`.\n        sliders\n            A tuple of :class:`plotly.graph_objects.layout.Slider`\n            instances or dicts with compatible properties\n        sliderdefaults\n            When used in a template (as\n            layout.template.layout.sliderdefaults), sets the\n            default property values to use for elements of\n            layout.sliders\n        smith\n            :class:`plotly.graph_objects.layout.Smith` instance or\n            dict with compatible properties\n        spikedistance\n            Sets the default distance (in pixels) to look for data\n            to draw spikelines to (-1 means no cutoff, 0 means no\n            looking for data). As with hoverdistance, distance does\n            not apply to area-like objects. In addition, some\n            objects can be hovered on but will not generate\n            spikelines, such as scatter fills.\n        sunburstcolorway\n            Sets the default sunburst slice colors. Defaults to the\n            main `colorway` used for trace colors. If you specify a\n            new list here it can still be extended with lighter and\n            darker colors, see `extendsunburstcolors`.\n        template\n            Default attributes to be applied to the plot. This\n            should be a dict with format: `{'layout':\n            layoutTemplate, 'data': {trace_type: [traceTemplate,\n            ...], ...}}` where `layoutTemplate` is a dict matching\n            the structure of `figure.layout` and `traceTemplate` is\n            a dict matching the structure of the trace with type\n            `trace_type` (e.g. 'scatter'). Alternatively, this may\n            be specified as an instance of\n            plotly.graph_objs.layout.Template.  Trace templates are\n            applied cyclically to traces of each type. Container\n            arrays (eg `annotations`) have special handling: An\n            object ending in `defaults` (eg `annotationdefaults`)\n            is applied to each array item. But if an item has a\n            `templateitemname` key we look in the template array\n            for an item with matching `name` and apply that\n            instead. If no matching `name` is found we mark the\n            item invisible. Any named template item not referenced\n            is appended to the end of the array, so this can be\n            used to add a watermark annotation or a logo image, for\n            example. To omit one of these items on the plot, make\n            an item with matching `templateitemname` and `visible:\n            false`.\n        ternary\n            :class:`plotly.graph_objects.layout.Ternary` instance\n            or dict with compatible properties\n        title\n            :class:`plotly.graph_objects.layout.Title` instance or\n            dict with compatible properties\n        titlefont\n            Deprecated: Please use layout.title.font instead. Sets\n            the title font. Note that the title's font used to be\n            customized by the now deprecated `titlefont` attribute.\n        transition\n            Sets transition options used during Plotly.react\n            updates.\n        treemapcolorway\n            Sets the default treemap slice colors. Defaults to the\n            main `colorway` used for trace colors. If you specify a\n            new list here it can still be extended with lighter and\n            darker colors, see `extendtreemapcolors`.\n        uirevision\n            Used to allow user interactions with the plot to\n            persist after `Plotly.react` calls that are unaware of\n            these interactions. If `uirevision` is omitted, or if\n            it is given and it changed from the previous\n            `Plotly.react` call, the exact new figure is used. If\n            `uirevision` is truthy and did NOT change, any\n            attribute that has been affected by user interactions\n            and did not receive a different value in the new figure\n            will keep the interaction value. `layout.uirevision`\n            attribute serves as the default for `uirevision`\n            attributes in various sub-containers. For finer control\n            you can set these sub-attributes directly. For example,\n            if your app separately controls the data on the x and y\n            axes you might set `xaxis.uirevision=*time*` and\n            `yaxis.uirevision=*cost*`. Then if only the y data is\n            changed, you can update `yaxis.uirevision=*quantity*`\n            and the y axis range will reset but the x axis range\n            will retain any user-driven zoom.\n        uniformtext\n            :class:`plotly.graph_objects.layout.Uniformtext`\n            instance or dict with compatible properties\n        updatemenus\n            A tuple of\n            :class:`plotly.graph_objects.layout.Updatemenu`\n            instances or dicts with compatible properties\n        updatemenudefaults\n            When used in a template (as\n            layout.template.layout.updatemenudefaults), sets the\n            default property values to use for elements of\n            layout.updatemenus\n        violingap\n            Sets the gap (in plot fraction) between violins of\n            adjacent location coordinates. Has no effect on traces\n            that have \"width\" set.\n        violingroupgap\n            Sets the gap (in plot fraction) between violins of the\n            same location coordinate. Has no effect on traces that\n            have \"width\" set.\n        violinmode\n            Determines how violins at the same location coordinate\n            are displayed on the graph. If \"group\", the violins are\n            plotted next to one another centered around the shared\n            location. If \"overlay\", the violins are plotted over\n            one another, you might need to set \"opacity\" to see\n            them multiple violins. Has no effect on traces that\n            have \"width\" set.\n        waterfallgap\n            Sets the gap (in plot fraction) between bars of\n            adjacent location coordinates.\n        waterfallgroupgap\n            Sets the gap (in plot fraction) between bars of the\n            same location coordinate.\n        waterfallmode\n            Determines how bars at the same location coordinate are\n            displayed on the graph. With \"group\", the bars are\n            plotted next to one another centered around the shared\n            location. With \"overlay\", the bars are plotted over one\n            another, you might need to reduce \"opacity\" to see\n            multiple bars.\n        width\n            Sets the plot's width (in px).\n        xaxis\n            :class:`plotly.graph_objects.layout.XAxis` instance or\n            dict with compatible properties\n        yaxis\n            :class:`plotly.graph_objects.layout.YAxis` instance or\n            dict with compatible properties\n        \nDid you mean \"geo\"?\n\nBad property path:\nx\n^"
     ]
    }
   ],
   "source": [
    "col = \"listed_in\"\n",
    "categories = \", \".join(d2['listed_in']).split(\", \")\n",
    "counter_list = Counter(categories).most_common(50)\n",
    "labels = [_[0] for _ in counter_list][::-1]\n",
    "values = [_[1] for _ in counter_list][::-1]\n",
    "trace1 = go.Bar(y=labels, x=values, orientation=\"h\", name=\"TV Shows\", marker=dict(color=\"#a678de\"))\n",
    "\n",
    "data = [trace1]\n",
    "layout = go.Layout(x = \"content\",y=\"years\", title=\"Content added over the years\", legend=dict(x=0.1, y=1.1, orientation=\"h\"))\n",
    "fig = go.Figure(data, layout=layout)\n",
    "fig.show()\n"
   ]
  },
  {
   "cell_type": "code",
   "execution_count": 35,
   "metadata": {},
   "outputs": [
    {
     "data": {
      "text/html": [
       "<div>\n",
       "<style scoped>\n",
       "    .dataframe tbody tr th:only-of-type {\n",
       "        vertical-align: middle;\n",
       "    }\n",
       "\n",
       "    .dataframe tbody tr th {\n",
       "        vertical-align: top;\n",
       "    }\n",
       "\n",
       "    .dataframe thead th {\n",
       "        text-align: right;\n",
       "    }\n",
       "</style>\n",
       "<table border=\"1\" class=\"dataframe\">\n",
       "  <thead>\n",
       "    <tr style=\"text-align: right;\">\n",
       "      <th></th>\n",
       "      <th>title</th>\n",
       "      <th>country</th>\n",
       "      <th>release_year</th>\n",
       "    </tr>\n",
       "  </thead>\n",
       "  <tbody>\n",
       "    <tr>\n",
       "      <th>28</th>\n",
       "      <td>Mike Birbiglia: The New One</td>\n",
       "      <td>United States</td>\n",
       "      <td>2019</td>\n",
       "    </tr>\n",
       "    <tr>\n",
       "      <th>50</th>\n",
       "      <td>Mike Birbiglia: What I Should Have Said Was No...</td>\n",
       "      <td>United States</td>\n",
       "      <td>2008</td>\n",
       "    </tr>\n",
       "    <tr>\n",
       "      <th>96</th>\n",
       "      <td>Iliza Shlesinger: Unveiled</td>\n",
       "      <td>United States</td>\n",
       "      <td>2019</td>\n",
       "    </tr>\n",
       "    <tr>\n",
       "      <th>103</th>\n",
       "      <td>Jeff Dunham: All Over the Map</td>\n",
       "      <td>United States</td>\n",
       "      <td>2014</td>\n",
       "    </tr>\n",
       "    <tr>\n",
       "      <th>136</th>\n",
       "      <td>Jeff Garlin: Our Man In Chicago</td>\n",
       "      <td>United States</td>\n",
       "      <td>2019</td>\n",
       "    </tr>\n",
       "    <tr>\n",
       "      <th>158</th>\n",
       "      <td>Seth Meyers: Lobby Baby</td>\n",
       "      <td>United States</td>\n",
       "      <td>2019</td>\n",
       "    </tr>\n",
       "    <tr>\n",
       "      <th>304</th>\n",
       "      <td>Arsenio Hall: Smart &amp; Classy</td>\n",
       "      <td>United States</td>\n",
       "      <td>2019</td>\n",
       "    </tr>\n",
       "    <tr>\n",
       "      <th>342</th>\n",
       "      <td>Jenny Slate: Stage Fright</td>\n",
       "      <td>United States</td>\n",
       "      <td>2019</td>\n",
       "    </tr>\n",
       "    <tr>\n",
       "      <th>411</th>\n",
       "      <td>Deon Cole: Cole Hearted</td>\n",
       "      <td>United States</td>\n",
       "      <td>2019</td>\n",
       "    </tr>\n",
       "    <tr>\n",
       "      <th>480</th>\n",
       "      <td>Nikki Glaser: Bangin’</td>\n",
       "      <td>United States</td>\n",
       "      <td>2019</td>\n",
       "    </tr>\n",
       "  </tbody>\n",
       "</table>\n",
       "</div>"
      ],
      "text/plain": [
       "                                                 title        country  \\\n",
       "28                         Mike Birbiglia: The New One  United States   \n",
       "50   Mike Birbiglia: What I Should Have Said Was No...  United States   \n",
       "96                          Iliza Shlesinger: Unveiled  United States   \n",
       "103                      Jeff Dunham: All Over the Map  United States   \n",
       "136                    Jeff Garlin: Our Man In Chicago  United States   \n",
       "158                            Seth Meyers: Lobby Baby  United States   \n",
       "304                       Arsenio Hall: Smart & Classy  United States   \n",
       "342                          Jenny Slate: Stage Fright  United States   \n",
       "411                            Deon Cole: Cole Hearted  United States   \n",
       "480                              Nikki Glaser: Bangin’  United States   \n",
       "\n",
       "     release_year  \n",
       "28           2019  \n",
       "50           2008  \n",
       "96           2019  \n",
       "103          2014  \n",
       "136          2019  \n",
       "158          2019  \n",
       "304          2019  \n",
       "342          2019  \n",
       "411          2019  \n",
       "480          2019  "
      ]
     },
     "execution_count": 35,
     "metadata": {},
     "output_type": "execute_result"
    }
   ],
   "source": [
    "#Stand up comedy in Netflix in United States\n",
    "\n",
    "tag = \"Stand-Up Comedy\"\n",
    "netflix[\"relevant\"] = netflix['listed_in'].fillna(\"\").apply(lambda x : 1 if tag.lower() in x.lower() else 0)\n",
    "small = netflix[netflix[\"relevant\"] == 1]\n",
    "small[small[\"country\"] == \"United States\"][[\"title\", \"country\",\"release_year\"]].head(10)\n"
   ]
  },
  {
   "cell_type": "code",
   "execution_count": null,
   "metadata": {},
   "outputs": [],
   "source": []
  },
  {
   "cell_type": "code",
   "execution_count": null,
   "metadata": {},
   "outputs": [],
   "source": []
  }
 ],
 "metadata": {
  "kernelspec": {
   "display_name": "Python 3",
   "language": "python",
   "name": "python3"
  },
  "language_info": {
   "codemirror_mode": {
    "name": "ipython",
    "version": 3
   },
   "file_extension": ".py",
   "mimetype": "text/x-python",
   "name": "python",
   "nbconvert_exporter": "python",
   "pygments_lexer": "ipython3",
   "version": "3.12.1"
  }
 },
 "nbformat": 4,
 "nbformat_minor": 2
}
